{
  "cells": [
    {
      "attachments": {},
      "cell_type": "markdown",
      "id": "0d7143e3",
      "metadata": {},
      "source": [
        "# Running ML Models"
      ]
    },
    {
      "attachments": {},
      "cell_type": "markdown",
      "id": "ddd479d1",
      "metadata": {},
      "source": [
        "## Setup"
      ]
    },
    {
      "cell_type": "code",
      "execution_count": 1,
      "id": "fdad3b76",
      "metadata": {},
      "outputs": [],
      "source": [
        "# imports \n",
        "import pandas as pd\n",
        "import matplotlib.pyplot as plt\n",
        "import numpy as np\n",
        "import seaborn as sns\n",
        "from sklearn.model_selection import train_test_split\n",
        "from sklearn.linear_model import LinearRegression\n",
        "from sklearn.linear_model import BayesianRidge\n",
        "from sklearn.linear_model import Lars\n",
        "from sklearn.linear_model import OrthogonalMatchingPursuit\n",
        "from sklearn.metrics import mean_absolute_error, mean_squared_error, r2_score, explained_variance_score\n",
        "from sklearn.metrics import accuracy_score, roc_auc_score, confusion_matrix, plot_roc_curve\n",
        "from sklearn.metrics import plot_confusion_matrix\n",
        "from sklearn.preprocessing import StandardScaler"
      ]
    },
    {
      "cell_type": "code",
      "execution_count": 2,
      "id": "abcbe47e",
      "metadata": {},
      "outputs": [],
      "source": [
        "# Specify the file path\n",
        "file_path = \"../CEIP_csv/ml_data_withstrats.csv\"\n",
        "\n",
        "# Load the CSV file into a pandas DataFrame called df\n",
        "df = pd.read_csv(file_path)\n",
        "\n",
        "util = 'calcUtil' # define the target"
      ]
    },
    {
      "attachments": {},
      "cell_type": "markdown",
      "id": "f6e40b80",
      "metadata": {},
      "source": [
        "## Feature selection"
      ]
    },
    {
      "cell_type": "code",
      "execution_count": 3,
      "id": "8322535c",
      "metadata": {},
      "outputs": [],
      "source": [
        "# FEATURE SELECTION\n",
        "# list the columns in the dataframe\n",
        "column_list = df.columns.tolist()\n",
        "\n",
        "# list of index columns (like ixNest, ixJobSummary, ixPart)\n",
        "indices = [column for column in column_list if column.startswith('ix')]\n",
        "\n",
        "# list of strategy type column names \n",
        "auto_strategies = [column for column in column_list if column.startswith('AutoStrat')]\n",
        "f_strategies = [column for column in column_list if column.startswith('fStrat')] \n",
        "strategies = [auto_strategies, f_strategies]\n",
        "\n",
        "nest_data = ['cTimesCut', 'fAllPartsNested', 'cParts', 'dNestingTime', \n",
        "             'dLengthUsed', 'dWidthUsed', 'dPartArea']\n",
        "# cTimesCut - removed, # of times nest will be cut in job, not known in advance \n",
        "# fAllPartsNested - removed, just a 0/1 indicator of if all the parts in the job were nested using automatic nesting\n",
        "# cParts - Total number of parts nested from Nest table - duplicated by cNested, unknown prior to nesting \n",
        "# analysis - check if cParts is identical to cNested, what are the differences \n",
        "# !! fStrategies might actually be helpful for tree based models - try adding later \n",
        "# fStrategies - what is the meaning of this? does it add anything? \n",
        "# dNestingTime - analyze later but not a feature \n",
        "# dLengthUsed & dWidthUsed - Length/width of plate used by nested parts - not features \n",
        "# dPartArea - Total area of nested parts - replicated by dPartTrueArea, from Nest Table \n",
        "\n",
        "# exclude the # of parts nested and the # required - not part characteristics \n",
        "others = ['cNested', 'cRequired']\n",
        "\n",
        "# select all the columns that are actually features \n",
        "# exclude the auto_strategies for now - just use fstrategies \n",
        "non_features = set().union(indices, nest_data, others, auto_strategies)\n",
        "\n",
        "# Get all columns from the DataFrame as a set\n",
        "all_columns_set = set(df.columns)\n",
        "\n",
        "# Subtract the sets of columns you don't want from the set of all columns\n",
        "selected_columns_set = all_columns_set - non_features\n",
        "feature_list = list(selected_columns_set) # Convert the resulting set back to a list\n",
        "\n",
        "# feature list without strategies \n",
        "strategies_plus = set().union(indices, nest_data, others, f_strategies, auto_strategies)\n",
        "columns_nostrats = all_columns_set - strategies_plus\n",
        "features_nostrats = list(columns_nostrats)"
      ]
    },
    {
      "attachments": {},
      "cell_type": "markdown",
      "id": "693ab64a",
      "metadata": {},
      "source": [
        "## More data cleaning for ML models"
      ]
    },
    {
      "cell_type": "code",
      "execution_count": 23,
      "id": "4b89761e",
      "metadata": {},
      "outputs": [],
      "source": [
        "data_original = df.copy() # copy the original dataframe (has all data including non-features)\n",
        "\n",
        "# make a df with allfeatures (keep only the features in feature_list) \n",
        "data = df[feature_list]\n",
        "\n",
        "# make a df with only part features, not including strats (keep only the features in features_nostrats list)\n",
        "data_nostrats = df[features_nostrats]"
      ]
    },
    {
      "cell_type": "code",
      "execution_count": 24,
      "id": "e8de5bac",
      "metadata": {},
      "outputs": [],
      "source": [
        "# Fill missing values with the median of the column\n",
        "# use median because our data is highly skewed & not normally distributed \n",
        "data = data.fillna(data.median())"
      ]
    },
    {
      "cell_type": "code",
      "execution_count": 25,
      "id": "e035d3b1",
      "metadata": {},
      "outputs": [],
      "source": [
        "# drop any na values, infinity or negative values \n",
        "\n",
        "# Replace infinity values with NaN\n",
        "data = data.replace([np.inf, -np.inf], np.nan)\n",
        "\n",
        "# # Replace infinity values with a zero value \n",
        "# data = data.replace([np.inf, -np.inf], 0)\n",
        "\n",
        "# Replace 0 with a small number to avoid division by zero error\n",
        "data = data.replace(0, 1e-9)\n",
        "\n",
        "# Drop rows with missing values\n",
        "data = data.dropna()"
      ]
    },
    {
      "attachments": {},
      "cell_type": "markdown",
      "id": "7f4621cb",
      "metadata": {},
      "source": [
        "### Remove outliers"
      ]
    },
    {
      "cell_type": "code",
      "execution_count": 27,
      "id": "369cb50c",
      "metadata": {},
      "outputs": [
        {
          "name": "stdout",
          "output_type": "stream",
          "text": [
            "dLgIntArea:\n",
            "  Negative Values: 0\n",
            "  Large Values: 40187\n",
            "  Outliers: 595510\n",
            "  Infinity Values: 0\n",
            "\n",
            "fStrat_IntelliNest:\n",
            "  Negative Values: 0\n",
            "  Large Values: 0\n",
            "  Outliers: 313332\n",
            "  Infinity Values: 0\n",
            "\n",
            "fStrat_Strategy3:\n",
            "  Negative Values: 0\n",
            "  Large Values: 0\n",
            "  Outliers: 76083\n",
            "  Infinity Values: 0\n",
            "\n",
            "dSheetLength:\n",
            "  Negative Values: 0\n",
            "  Large Values: 21109\n",
            "  Outliers: 2883\n",
            "  Infinity Values: 0\n",
            "\n",
            "fStrat_Strategy4:\n",
            "  Negative Values: 0\n",
            "  Large Values: 0\n",
            "  Outliers: 987912\n",
            "  Infinity Values: 0\n",
            "\n",
            "dLgExtConBoundaryDist:\n",
            "  Negative Values: 0\n",
            "  Large Values: 38613\n",
            "  Outliers: 331313\n",
            "  Infinity Values: 0\n",
            "\n",
            "fStrat_ICProfileNesting:\n",
            "  Negative Values: 0\n",
            "  Large Values: 0\n",
            "  Outliers: 697235\n",
            "  Infinity Values: 0\n",
            "\n",
            "fStrat_Strategy9:\n",
            "  Negative Values: 0\n",
            "  Large Values: 0\n",
            "  Outliers: 60085\n",
            "  Infinity Values: 0\n",
            "\n",
            "dExtBoundaryDist:\n",
            "  Negative Values: 0\n",
            "  Large Values: 40726\n",
            "  Outliers: 128372\n",
            "  Infinity Values: 0\n",
            "\n",
            "fStrat_Strategy6:\n",
            "  Negative Values: 0\n",
            "  Large Values: 37818\n",
            "  Outliers: 37818\n",
            "  Infinity Values: 0\n",
            "\n",
            "dLgIntContainedDist:\n",
            "  Negative Values: 0\n",
            "  Large Values: 40041\n",
            "  Outliers: 469519\n",
            "  Infinity Values: 0\n",
            "\n",
            "dLgIntBoundaryDist:\n",
            "  Negative Values: 0\n",
            "  Large Values: 40719\n",
            "  Outliers: 581347\n",
            "  Infinity Values: 0\n",
            "\n",
            "fStrat_Strategy5:\n",
            "  Negative Values: 0\n",
            "  Large Values: 0\n",
            "  Outliers: 99022\n",
            "  Infinity Values: 0\n",
            "\n",
            "dExtArea:\n",
            "  Negative Values: 0\n",
            "  Large Values: 40725\n",
            "  Outliers: 365854\n",
            "  Infinity Values: 0\n",
            "\n",
            "dLgExtConContainedDist:\n",
            "  Negative Values: 0\n",
            "  Large Values: 40723\n",
            "  Outliers: 333756\n",
            "  Infinity Values: 0\n",
            "\n",
            "fStrat_Strategy10:\n",
            "  Negative Values: 0\n",
            "  Large Values: 0\n",
            "  Outliers: 272571\n",
            "  Infinity Values: 0\n",
            "\n",
            "fStrat_ICPatternFill:\n",
            "  Negative Values: 0\n",
            "  Large Values: 0\n",
            "  Outliers: 391337\n",
            "  Infinity Values: 0\n",
            "\n",
            "fStrat_Strategy8:\n",
            "  Negative Values: 0\n",
            "  Large Values: 0\n",
            "  Outliers: 46291\n",
            "  Infinity Values: 0\n",
            "\n",
            "fStrat_Strategy1:\n",
            "  Negative Values: 0\n",
            "  Large Values: 0\n",
            "  Outliers: 276538\n",
            "  Infinity Values: 0\n",
            "\n",
            "fStrat_ManualNesting:\n",
            "  Negative Values: 0\n",
            "  Large Values: 0\n",
            "  Outliers: 279737\n",
            "  Infinity Values: 0\n",
            "\n",
            "fStrat_BlockNesting:\n",
            "  Negative Values: 0\n",
            "  Large Values: 0\n",
            "  Outliers: 58917\n",
            "  Infinity Values: 0\n",
            "\n",
            "dExtContainedDist:\n",
            "  Negative Values: 0\n",
            "  Large Values: 40720\n",
            "  Outliers: 129159\n",
            "  Infinity Values: 0\n",
            "\n",
            "dSheetArea:\n",
            "  Negative Values: 0\n",
            "  Large Values: 39036\n",
            "  Outliers: 24352\n",
            "  Infinity Values: 0\n",
            "\n",
            "fStrat_Strategy2:\n",
            "  Negative Values: 0\n",
            "  Large Values: 0\n",
            "  Outliers: 41495\n",
            "  Infinity Values: 0\n",
            "\n",
            "fStrat_None:\n",
            "  Negative Values: 0\n",
            "  Large Values: 0\n",
            "  Outliers: 352084\n",
            "  Infinity Values: 0\n",
            "\n",
            "dSheetWidth:\n",
            "  Negative Values: 0\n",
            "  Large Values: 24548\n",
            "  Outliers: 66278\n",
            "  Infinity Values: 0\n",
            "\n",
            "dPartTrueArea:\n",
            "  Negative Values: 13\n",
            "  Large Values: 40691\n",
            "  Outliers: 366816\n",
            "  Infinity Values: 0\n",
            "\n",
            "calcUtil:\n",
            "  Negative Values: 13\n",
            "  Large Values: 40522\n",
            "  Outliers: 521\n",
            "  Infinity Values: 0\n",
            "\n",
            "fStrat_BlockOptimization:\n",
            "  Negative Values: 0\n",
            "  Large Values: 0\n",
            "  Outliers: 41814\n",
            "  Infinity Values: 0\n",
            "\n",
            "dLgExtConArea:\n",
            "  Negative Values: 0\n",
            "  Large Values: 40722\n",
            "  Outliers: 333751\n",
            "  Infinity Values: 0\n",
            "\n",
            "fStrat_Strategy7:\n",
            "  Negative Values: 0\n",
            "  Large Values: 40244\n",
            "  Outliers: 40244\n",
            "  Infinity Values: 0\n",
            "\n",
            "fExtShape:\n",
            "  Negative Values: 0\n",
            "  Large Values: 0\n",
            "  Outliers: 260761\n",
            "  Infinity Values: 0\n",
            "\n"
          ]
        }
      ],
      "source": [
        "# find numbers that should be removed & analyze them \n",
        "# Initialize the result dictionary\n",
        "result = {}\n",
        "\n",
        "# Find columns with negative values\n",
        "negative_values = data.lt(0).sum()\n",
        "\n",
        "# Find columns with very large values (greater than the 99th percentile)\n",
        "large_values = data.gt(data.quantile(.99)).sum()\n",
        "\n",
        "# Find outliers using the IQR method\n",
        "Q1 = data.quantile(0.25)\n",
        "Q3 = data.quantile(0.75)\n",
        "IQR = Q3 - Q1\n",
        "outliers = ((data < (Q1 - 3 * IQR)) | (data > (Q3 + 3 * IQR))).sum()\n",
        "\n",
        "# Find columns with infinity values\n",
        "infinity_values = data.eq(np.inf).sum()\n",
        "\n",
        "# Combine the results into the dictionary\n",
        "for column in data.columns:\n",
        "    result[column] = {\n",
        "        'Negative Values': negative_values[column],\n",
        "        'Large Values': large_values[column],\n",
        "        'Outliers': outliers[column],\n",
        "        'Infinity Values': infinity_values[column]\n",
        "    }\n",
        "\n",
        "# Print the results\n",
        "for column, counts in result.items():\n",
        "    print(f\"{column}:\")\n",
        "    for key, value in counts.items():\n",
        "        print(f\"  {key}: {value}\")\n",
        "    print()\n",
        "    \n",
        "# these are saved to outlier_counts.txt file "
      ]
    },
    {
      "cell_type": "code",
      "execution_count": 30,
      "id": "8c291947",
      "metadata": {},
      "outputs": [
        {
          "name": "stdout",
          "output_type": "stream",
          "text": [
            "Rows removed: 252956\n",
            "\n",
            "New number of rows in the DataFrame: 3819559\n"
          ]
        }
      ],
      "source": [
        "def remove_multi_outliers_iqr(df, columns, multiplier=3, outlier_threshold=5):\n",
        "    \"\"\"\n",
        "    This function removes the rows from a dataframe that have outliers in multiple columns based on the IQR method.\n",
        "    The function takes as arguments:\n",
        "        - df: the dataframe\n",
        "        - columns: the columns on which to calculate and remove outliers\n",
        "        - multiplier: the multiplier for the IQR to define the range (default is 3)\n",
        "        - outlier_threshold: the number of columns with outliers a row must have to be removed (default is 3)\n",
        "    It returns the dataframe with outliers removed.\n",
        "    \"\"\"\n",
        "    outlier_count = pd.Series(index=df.index, data=0)\n",
        "    \n",
        "    for column in columns:\n",
        "        # Calculate Q1, Q3, and IQR\n",
        "        Q1, Q3 = df[column].quantile([0.25, 0.75])\n",
        "        IQR = Q3 - Q1\n",
        "\n",
        "        # Define a condition for the outliers\n",
        "        condition = (df[column] < Q1 - multiplier * IQR) | (df[column] > Q3 + multiplier * IQR)\n",
        "\n",
        "        # Add the outliers to the count\n",
        "        outlier_count += condition\n",
        "\n",
        "    # Filter out the rows with too many outliers\n",
        "    df_filtered = df[outlier_count < outlier_threshold]\n",
        "\n",
        "    # Print the number of rows removed\n",
        "    print(f\"Rows removed: {df.shape[0] - df_filtered.shape[0]}\")\n",
        "\n",
        "    return df_filtered\n",
        "\n",
        "# Apply this function to all numeric columns in the DataFrame\n",
        "numeric_cols = data.select_dtypes(include=[np.number]).columns.tolist()\n",
        "\n",
        "# applying this to a copy of the data to avoid modifying originals \n",
        "data_nooutliers = data.copy() \n",
        "\n",
        "# remove all of the rows with too many outliers from the dataframe (modify in-place)\n",
        "data_nooutliers = remove_multi_outliers_iqr(data_nooutliers, numeric_cols)\n",
        "\n",
        "# Print the new number of rows in the DataFrame\n",
        "print(f\"\\nNew number of rows in the DataFrame: {data_nooutliers.shape[0]}\")\n",
        "\n",
        "# for threshold of 3 outliers per row => removed \n",
        "# Rows removed: 1100087\n",
        "\n",
        "# New number of rows in the DataFrame: 2972428"
      ]
    },
    {
      "attachments": {},
      "cell_type": "markdown",
      "id": "eafb6da2",
      "metadata": {},
      "source": [
        "### Training & Testing sets + Scaling"
      ]
    },
    {
      "cell_type": "code",
      "execution_count": 34,
      "id": "747c3b5d",
      "metadata": {},
      "outputs": [],
      "source": [
        "# Assuming you have a pandas DataFrame called 'data' with features and target columns\n",
        "# set the data to the data with no outliers, save the other as a data with outliers\n",
        "data_with_outliers = data.copy()\n",
        "data = data_nooutliers\n",
        "\n",
        "# util = target = calcUtil \n",
        "X = data.drop(util, axis=1)  # Features\n",
        "y = data[util]  # Target variable\n",
        "\n",
        "# Split the data into training and testing sets\n",
        "X_train, X_test, y_train, y_test = train_test_split(X, y, test_size=0.2, random_state=42)"
      ]
    },
    {
      "cell_type": "code",
      "execution_count": 32,
      "id": "b7856f39",
      "metadata": {},
      "outputs": [
        {
          "name": "stderr",
          "output_type": "stream",
          "text": [
            "/Users/jerhadf/opt/anaconda3/lib/python3.9/site-packages/sklearn/utils/extmath.py:1014: RuntimeWarning: overflow encountered in square\n",
            "  temp **= 2\n",
            "/Users/jerhadf/opt/anaconda3/lib/python3.9/site-packages/sklearn/utils/extmath.py:1020: RuntimeWarning: overflow encountered in square\n",
            "  new_unnormalized_variance -= correction ** 2 / new_sample_count\n",
            "/Users/jerhadf/opt/anaconda3/lib/python3.9/site-packages/sklearn/utils/extmath.py:1020: RuntimeWarning: invalid value encountered in subtract\n",
            "  new_unnormalized_variance -= correction ** 2 / new_sample_count\n",
            "/Users/jerhadf/opt/anaconda3/lib/python3.9/site-packages/sklearn/preprocessing/_data.py:80: RuntimeWarning: overflow encountered in square\n",
            "  upper_bound = n_samples * eps * var + (n_samples * mean * eps) ** 2\n"
          ]
        }
      ],
      "source": [
        "# # scaling \n",
        "#! COmmented out - this results in an error \n",
        "# # Standardize the features (mean=0, standard deviation=1). Fit on the training data and transform both the training and testing data.\n",
        "# scaler = StandardScaler()\n",
        "# X_train = scaler.fit_transform(X_train)\n",
        "# X_test = scaler.transform(X_test)"
      ]
    },
    {
      "attachments": {},
      "cell_type": "markdown",
      "id": "7e2318bd",
      "metadata": {},
      "source": [
        "## Linear Regression "
      ]
    },
    {
      "cell_type": "code",
      "execution_count": 36,
      "id": "b62e5357",
      "metadata": {
        "id": "b62e5357",
        "outputId": "23533b4b-8ece-4fb6-fa71-d5261caaa3a0"
      },
      "outputs": [
        {
          "data": {
            "text/plain": [
              "LinearRegression()"
            ]
          },
          "execution_count": 36,
          "metadata": {},
          "output_type": "execute_result"
        }
      ],
      "source": [
        "# Initialize the linear regression model\n",
        "lr_model = LinearRegression()\n",
        "\n",
        "# Fit the model to the training data\n",
        "lr_model.fit(X_train, y_train)"
      ]
    },
    {
      "cell_type": "code",
      "execution_count": 39,
      "id": "fb7a1fd4",
      "metadata": {},
      "outputs": [
        {
          "name": "stdout",
          "output_type": "stream",
          "text": [
            "MAE: 1.0535915790520227e+273\n",
            "MSE: inf\n",
            "RMSE: inf\n",
            "R2: nan\n",
            "Explained Variance: nan\n"
          ]
        },
        {
          "name": "stderr",
          "output_type": "stream",
          "text": [
            "/Users/jerhadf/opt/anaconda3/lib/python3.9/site-packages/sklearn/metrics/_regression.py:442: RuntimeWarning: overflow encountered in square\n",
            "  output_errors = np.average((y_true - y_pred) ** 2, axis=0, weights=sample_weight)\n",
            "/Users/jerhadf/opt/anaconda3/lib/python3.9/site-packages/sklearn/metrics/_regression.py:442: RuntimeWarning: overflow encountered in square\n",
            "  output_errors = np.average((y_true - y_pred) ** 2, axis=0, weights=sample_weight)\n",
            "/Users/jerhadf/opt/anaconda3/lib/python3.9/site-packages/sklearn/metrics/_regression.py:805: RuntimeWarning: overflow encountered in square\n",
            "  numerator = (weight * (y_true - y_pred) ** 2).sum(axis=0, dtype=np.float64)\n",
            "/Users/jerhadf/opt/anaconda3/lib/python3.9/site-packages/sklearn/metrics/_regression.py:807: RuntimeWarning: overflow encountered in square\n",
            "  weight * (y_true - np.average(y_true, axis=0, weights=sample_weight)) ** 2\n",
            "/Users/jerhadf/opt/anaconda3/lib/python3.9/site-packages/sklearn/metrics/_regression.py:813: RuntimeWarning: invalid value encountered in true_divide\n",
            "  output_scores[valid_score] = 1 - (numerator[valid_score] / denominator[valid_score])\n",
            "/Users/jerhadf/opt/anaconda3/lib/python3.9/site-packages/sklearn/metrics/_regression.py:674: RuntimeWarning: overflow encountered in square\n",
            "  (y_true - y_pred - y_diff_avg) ** 2, weights=sample_weight, axis=0\n",
            "/Users/jerhadf/opt/anaconda3/lib/python3.9/site-packages/sklearn/metrics/_regression.py:678: RuntimeWarning: overflow encountered in square\n",
            "  denominator = np.average((y_true - y_true_avg) ** 2, weights=sample_weight, axis=0)\n",
            "/Users/jerhadf/opt/anaconda3/lib/python3.9/site-packages/sklearn/metrics/_regression.py:685: RuntimeWarning: invalid value encountered in true_divide\n",
            "  output_scores[valid_score] = 1 - (numerator[valid_score] / denominator[valid_score])\n"
          ]
        }
      ],
      "source": [
        "# Predict on the testing data\n",
        "y_pred = lr_model.predict(X_test)\n",
        "\n",
        "# Calculate evaluation metrics\n",
        "metrics = {\n",
        "    'MAE': mean_absolute_error(y_test, y_pred),\n",
        "    'MSE': mean_squared_error(y_test, y_pred),\n",
        "    'RMSE': mean_squared_error(y_test, y_pred, squared=False),\n",
        "    'R2': r2_score(y_test, y_pred),\n",
        "    'Explained Variance': explained_variance_score(y_test, y_pred)\n",
        "}\n",
        "\n",
        "# Print the evaluation metrics\n",
        "for metric_name, metric_value in metrics.items():\n",
        "    print(f\"{metric_name}: {metric_value}\")"
      ]
    },
    {
      "cell_type": "code",
      "execution_count": 40,
      "id": "2ddd368c",
      "metadata": {},
      "outputs": [
        {
          "data": {
            "image/png": "[encoded data removed]",
            "text/plain": [
              "<Figure size 432x288 with 1 Axes>"
            ]
          },
          "metadata": {
            "needs_background": "light"
          },
          "output_type": "display_data"
        }
      ],
      "source": [
        "# Plotting residuals\n",
        "plt.scatter(y_pred, y_pred - y_test)\n",
        "plt.hlines(y=0, xmin=y_pred.min(), xmax=y_pred.max())\n",
        "plt.title('Residuals Plot')\n",
        "plt.show()"
      ]
    },
    {
      "cell_type": "code",
      "execution_count": null,
      "id": "2ad4ca05",
      "metadata": {},
      "outputs": [],
      "source": [
        "# Plotting predicted vs actual values\n",
        "plt.scatter(y_test, y_pred)\n",
        "plt.xlabel('Actual Values')\n",
        "plt.ylabel('Predicted Values')\n",
        "plt.title('Actual vs Predicted Values')\n",
        "plt.show()"
      ]
    },
    {
      "cell_type": "code",
      "execution_count": null,
      "id": "0e856815",
      "metadata": {},
      "outputs": [],
      "source": [
        "\n",
        "# Convert continuous predictions to binary to calculate classification metrics\n",
        "target_pred_binary = np.where(target_pred > 0.5, 1, 0)\n",
        "\n",
        "# Calculate additional metrics\n",
        "metrics.update({\n",
        "    'Accuracy': accuracy_score(target_test, target_pred_binary),\n",
        "    'ROC AUC': roc_auc_score(target_test, target_pred_binary),\n",
        "    'Confusion Matrix': confusion_matrix(target_test, target_pred_binary)\n",
        "})\n",
        "\n",
        "# Print the evaluation metrics\n",
        "for metric_name, metric_value in metrics.items():\n",
        "    print(f\"{metric_name}: {metric_value}\")"
      ]
    },
    {
      "cell_type": "code",
      "execution_count": null,
      "id": "05c8362e",
      "metadata": {},
      "outputs": [],
      "source": [
        "# Plotting ROC Curve\n",
        "plot_roc_curve(lr_model, features_test, target_test)\n",
        "plt.title('ROC AUC Curve')\n",
        "plt.show()"
      ]
    },
    {
      "cell_type": "code",
      "execution_count": null,
      "id": "1cccedd1",
      "metadata": {},
      "outputs": [],
      "source": [
        "# Plotting Confusion Matrix\n",
        "plot_confusion_matrix(lr_model, features_test, target_test)\n",
        "plt.title('Confusion Matrix')\n",
        "plt.show()"
      ]
    },
    {
      "cell_type": "code",
      "execution_count": null,
      "id": "69018410",
      "metadata": {},
      "outputs": [],
      "source": [
        "# Plotting residuals\n",
        "plt.scatter(target_pred, target_pred - target_test)\n",
        "plt.hlines(y=0, xmin=target_pred.min(), xmax=target_pred.max())\n",
        "plt.title('Residuals Plot')\n",
        "plt.show()"
      ]
    },
    {
      "cell_type": "code",
      "execution_count": null,
      "id": "eba39178",
      "metadata": {},
      "outputs": [],
      "source": [
        "# Plotting predicted vs actual values\n",
        "plt.scatter(target_test, target_pred)\n",
        "plt.xlabel('Actual Values')\n",
        "plt.ylabel('Predicted Values')\n",
        "plt.title('Actual vs Predicted Values')\n",
        "plt.show()"
      ]
    },
    {
      "cell_type": "code",
      "execution_count": null,
      "id": "95a2b876",
      "metadata": {},
      "outputs": [],
      "source": [
        "# Get the feature importances\n",
        "importance = model.coef_\n",
        "\n",
        "# Create a DataFrame with feature names and importances\n",
        "feature_importance = pd.DataFrame({'Feature': X.columns, 'Importance': importance})\n",
        "\n",
        "# Sort the features by importance in descending order\n",
        "feature_importance = feature_importance.sort_values('Importance', ascending=False)\n",
        "\n",
        "# Plot the feature importances\n",
        "plt.figure(figsize=(10, 6))\n",
        "plt.barh(feature_importance['Feature'], feature_importance['Importance'])\n",
        "plt.xlabel('Importance')\n",
        "plt.ylabel('Feature')\n",
        "plt.title('Feature Importance')\n",
        "plt.tight_layout()\n",
        "plt.show()"
      ]
    },
    {
      "cell_type": "code",
      "execution_count": null,
      "id": "5c6b73af",
      "metadata": {},
      "outputs": [],
      "source": []
    },
    {
      "cell_type": "code",
      "execution_count": null,
      "id": "69a18a45",
      "metadata": {
        "id": "69a18a45",
        "outputId": "4c8b7560-5850-49ea-c9bc-7eb2818c8b82"
      },
      "outputs": [
        {
          "data": {
            "image/png": "[encoded data removed]",
            "text/plain": [
              "<Figure size 1000x600 with 1 Axes>"
            ]
          },
          "metadata": {},
          "output_type": "display_data"
        },
        {
          "name": "stdout",
          "output_type": "stream",
          "text": [
            "Mean Absolute Error (MAE): 28.629401886356185\n",
            "Mean Squared Error (MSE): 26051199.67334449\n",
            "Root Mean Squared Error (RMSE): 5104.037585416519\n",
            "R-squared (R2) Score: 1.0003102358657756e-06\n",
            "Explained Variance Score: 1.4777116668085455e-06\n"
          ]
        }
      ],
      "source": [
        "# Assuming you have a pandas DataFrame called 'data' with features and target columns\n",
        "X = data.drop('calcUtil', axis=1)  # Features\n",
        "y = data['calcUtil']  # Target variable\n",
        "\n",
        "# Split the data into training and testing sets\n",
        "X_train, X_test, y_train, y_test = train_test_split(X, y, test_size=0.2, random_state=42)\n",
        "\n",
        "# Initialize the Bayesian Ridge regression model\n",
        "model = BayesianRidge()\n",
        "\n",
        "# Fit the model to the training data\n",
        "model.fit(X_train, y_train)\n",
        "\n",
        "# Predict on the testing data\n",
        "y_pred = model.predict(X_test)\n",
        "\n",
        "# Calculate evaluation metrics\n",
        "mae = mean_absolute_error(y_test, y_pred)\n",
        "mse = mean_squared_error(y_test, y_pred)\n",
        "rmse = mean_squared_error(y_test, y_pred, squared=False)\n",
        "r2 = r2_score(y_test, y_pred)\n",
        "explained_var = explained_variance_score(y_test, y_pred)\n",
        "\n",
        "# Get the feature importances\n",
        "importance = model.coef_\n",
        "\n",
        "# Create a DataFrame with feature names and importances\n",
        "feature_importance = pd.DataFrame({'Feature': X.columns, 'Importance': importance})\n",
        "\n",
        "# Sort the features by importance in descending order\n",
        "feature_importance = feature_importance.sort_values('Importance', ascending=False)\n",
        "\n",
        "# Plot the feature importances\n",
        "plt.figure(figsize=(10, 6))\n",
        "plt.barh(feature_importance['Feature'], feature_importance['Importance'])\n",
        "plt.xlabel('Importance')\n",
        "plt.ylabel('Feature')\n",
        "plt.title('Feature Importance')\n",
        "plt.tight_layout()\n",
        "plt.show()\n",
        "\n",
        "# Print the evaluation metrics\n",
        "print(\"Mean Absolute Error (MAE):\", mae)\n",
        "print(\"Mean Squared Error (MSE):\", mse)\n",
        "print(\"Root Mean Squared Error (RMSE):\", rmse)\n",
        "print(\"R-squared (R2) Score:\", r2)\n",
        "print(\"Explained Variance Score:\", explained_var)"
      ]
    },
    {
      "cell_type": "code",
      "execution_count": null,
      "id": "518d80c3",
      "metadata": {
        "id": "518d80c3",
        "outputId": "189c1ff6-8ff1-46cb-999e-3ec7c4792ad4"
      },
      "outputs": [
        {
          "data": {
            "image/png": "[encoded data removed]",
            "text/plain": [
              "<Figure size 1000x600 with 1 Axes>"
            ]
          },
          "metadata": {},
          "output_type": "display_data"
        },
        {
          "name": "stdout",
          "output_type": "stream",
          "text": [
            "Mean Absolute Error (MAE): 29.085869876063967\n",
            "Mean Squared Error (MSE): 26050703.467950974\n",
            "Root Mean Squared Error (RMSE): 5103.988976080471\n",
            "R-squared (R2) Score: 2.004760569174202e-05\n",
            "Explained Variance Score: 2.0519600964719054e-05\n"
          ]
        }
      ],
      "source": [
        "#Least Angle Regression (LARS) model\n",
        "\n",
        "# Specify the file path\n",
        "file_path = \"ml_data (1).csv\"\n",
        "\n",
        "# Load the CSV file into a pandas DataFrame\n",
        "data = pd.read_csv(file_path)\n",
        "\n",
        "# Assuming you have a pandas DataFrame called 'data' with features and target columns\n",
        "X = data.drop('calcUtil', axis=1)  # Features\n",
        "y = data['calcUtil']  # Target variable\n",
        "\n",
        "# Split the data into training and testing sets\n",
        "X_train, X_test, y_train, y_test = train_test_split(X, y, test_size=0.2, random_state=42)\n",
        "\n",
        "# Initialize the Least Angle Regression (LARS) model\n",
        "model = Lars()\n",
        "\n",
        "# Fit the model to the training data\n",
        "model.fit(X_train, y_train)\n",
        "\n",
        "# Predict on the testing data\n",
        "y_pred = model.predict(X_test)\n",
        "\n",
        "# Get the feature importances\n",
        "importance = model.coef_\n",
        "\n",
        "# Create a DataFrame with feature names and importances\n",
        "feature_importance = pd.DataFrame({'Feature': X.columns, 'Importance': importance})\n",
        "\n",
        "# Sort the features by importance in descending order\n",
        "feature_importance = feature_importance.sort_values('Importance', ascending=False)\n",
        "\n",
        "# Plot the feature importances\n",
        "plt.figure(figsize=(10, 6))\n",
        "plt.barh(feature_importance['Feature'], feature_importance['Importance'])\n",
        "plt.xlabel('Importance')\n",
        "plt.ylabel('Feature')\n",
        "plt.title('Feature Importance')\n",
        "plt.tight_layout()\n",
        "plt.show()\n",
        "\n",
        "# Calculate evaluation metrics\n",
        "mae = mean_absolute_error(y_test, y_pred)\n",
        "mse = mean_squared_error(y_test, y_pred)\n",
        "rmse = mean_squared_error(y_test, y_pred, squared=False)\n",
        "r2 = r2_score(y_test, y_pred)\n",
        "explained_var = explained_variance_score(y_test, y_pred)\n",
        "\n",
        "# Print the evaluation metrics\n",
        "print(\"Mean Absolute Error (MAE):\", mae)\n",
        "print(\"Mean Squared Error (MSE):\", mse)\n",
        "print(\"Root Mean Squared Error (RMSE):\", rmse)\n",
        "print(\"R-squared (R2) Score:\", r2)\n",
        "print(\"Explained Variance Score:\", explained_var)\n"
      ]
    },
    {
      "cell_type": "code",
      "execution_count": null,
      "id": "1489acb2",
      "metadata": {
        "id": "1489acb2",
        "outputId": "4d930ae0-5a36-428f-9d84-70679e575e35"
      },
      "outputs": [
        {
          "data": {
            "image/png": "[encoded data removed]",
            "text/plain": [
              "<Figure size 1000x600 with 1 Axes>"
            ]
          },
          "metadata": {},
          "output_type": "display_data"
        },
        {
          "name": "stdout",
          "output_type": "stream",
          "text": [
            "Mean Absolute Error (MAE): 34.27378412809895\n",
            "Mean Squared Error (MSE): 26052988.935348976\n",
            "Root Mean Squared Error (RMSE): 5104.212861485008\n",
            "R-squared (R2) Score: -6.768213959773561e-05\n",
            "Explained Variance Score: -6.718201418465242e-05\n"
          ]
        }
      ],
      "source": [
        "\n",
        "# Load the CSV file into a pandas DataFrame\n",
        "data = pd.read_csv(\"ml_data (1).csv\")\n",
        "\n",
        "# Assuming you have a pandas DataFrame called 'data' with features and target columns\n",
        "X = data.drop('calcUtil', axis=1)  # Features\n",
        "y = data['calcUtil']  # Target variable\n",
        "\n",
        "# Split the data into training and testing sets\n",
        "X_train, X_test, y_train, y_test = train_test_split(X, y, test_size=0.2, random_state=42)\n",
        "\n",
        "# Initialize the Orthogonal Matching Pursuit (OMP) model\n",
        "model = OrthogonalMatchingPursuit()\n",
        "\n",
        "# Fit the model to the training data\n",
        "model.fit(X_train, y_train)\n",
        "\n",
        "# Predict on the testing data\n",
        "y_pred = model.predict(X_test)\n",
        "\n",
        "# Calculate evaluation metrics\n",
        "mae = mean_absolute_error(y_test, y_pred)\n",
        "mse = mean_squared_error(y_test, y_pred)\n",
        "rmse = mean_squared_error(y_test, y_pred, squared=False)\n",
        "r2 = r2_score(y_test, y_pred)\n",
        "explained_var = explained_variance_score(y_test, y_pred)\n",
        "\n",
        "# Get the feature importances\n",
        "importance = model.coef_\n",
        "\n",
        "# Create a DataFrame with feature names and importances\n",
        "feature_importance = pd.DataFrame({'Feature': X.columns, 'Importance': importance})\n",
        "\n",
        "# Sort the features by importance in descending order\n",
        "feature_importance = feature_importance.sort_values('Importance', ascending=False)\n",
        "\n",
        "# Plot the feature importances\n",
        "plt.figure(figsize=(10, 6))\n",
        "plt.barh(feature_importance['Feature'], feature_importance['Importance'])\n",
        "plt.xlabel('Importance')\n",
        "plt.ylabel('Feature')\n",
        "plt.title('Feature Importance')\n",
        "plt.tight_layout()\n",
        "plt.show()\n",
        "\n",
        "# Print the evaluation metrics\n",
        "print(\"Mean Absolute Error (MAE):\", mae)\n",
        "print(\"Mean Squared Error (MSE):\", mse)\n",
        "print(\"Root Mean Squared Error (RMSE):\", rmse)\n",
        "print(\"R-squared (R2) Score:\", r2)\n",
        "print(\"Explained Variance Score:\", explained_var)\n"
      ]
    },
    {
      "cell_type": "code",
      "execution_count": null,
      "id": "2b03d664",
      "metadata": {
        "id": "2b03d664",
        "outputId": "c80b8e29-e7ee-40dd-bc67-eb7fa91c2e38"
      },
      "outputs": [
        {
          "name": "stderr",
          "output_type": "stream",
          "text": [
            "/var/folders/17/p71czdwj66n1sxc4d0f6c45m0000gn/T/ipykernel_56454/2177836466.py:37: FutureWarning: this method is deprecated in favour of `Styler.hide(axis=\"index\")`\n",
            "  }).hide_index()\n"
          ]
        },
        {
          "data": {
            "text/html": [
              "<style type=\"text/css\">\n",
              "#T_ca703 th {\n",
              "  background-color: lightgray;\n",
              "}\n",
              "#T_ca703_row0_col0, #T_ca703_row0_col1, #T_ca703_row0_col2, #T_ca703_row0_col3, #T_ca703_row0_col4, #T_ca703_row0_col5, #T_ca703_row1_col0, #T_ca703_row1_col1, #T_ca703_row1_col2, #T_ca703_row1_col3, #T_ca703_row1_col4, #T_ca703_row1_col5, #T_ca703_row2_col0, #T_ca703_row2_col1, #T_ca703_row2_col2, #T_ca703_row2_col3, #T_ca703_row2_col4, #T_ca703_row2_col5, #T_ca703_row3_col0, #T_ca703_row3_col1, #T_ca703_row3_col2, #T_ca703_row3_col3, #T_ca703_row3_col4, #T_ca703_row3_col5 {\n",
              "  text-align: center;\n",
              "  border-color: lightgray;\n",
              "  border-style: solid;\n",
              "  border-width: 1px;\n",
              "}\n",
              "</style>\n",
              "<table id=\"T_ca703\">\n",
              "  <thead>\n",
              "    <tr>\n",
              "      <th id=\"T_ca703_level0_col0\" class=\"col_heading level0 col0\" >Model</th>\n",
              "      <th id=\"T_ca703_level0_col1\" class=\"col_heading level0 col1\" >MAE</th>\n",
              "      <th id=\"T_ca703_level0_col2\" class=\"col_heading level0 col2\" >MSE</th>\n",
              "      <th id=\"T_ca703_level0_col3\" class=\"col_heading level0 col3\" >RMSE</th>\n",
              "      <th id=\"T_ca703_level0_col4\" class=\"col_heading level0 col4\" >R2</th>\n",
              "      <th id=\"T_ca703_level0_col5\" class=\"col_heading level0 col5\" >Explained Variance</th>\n",
              "    </tr>\n",
              "  </thead>\n",
              "  <tbody>\n",
              "    <tr>\n",
              "      <td id=\"T_ca703_row0_col0\" class=\"data row0 col0\" >Linear Regression</td>\n",
              "      <td id=\"T_ca703_row0_col1\" class=\"data row0 col1\" >29.086</td>\n",
              "      <td id=\"T_ca703_row0_col2\" class=\"data row0 col2\" >26050703.468</td>\n",
              "      <td id=\"T_ca703_row0_col3\" class=\"data row0 col3\" >5103.989</td>\n",
              "      <td id=\"T_ca703_row0_col4\" class=\"data row0 col4\" >2.005e-05</td>\n",
              "      <td id=\"T_ca703_row0_col5\" class=\"data row0 col5\" >2.052e-05</td>\n",
              "    </tr>\n",
              "    <tr>\n",
              "      <td id=\"T_ca703_row1_col0\" class=\"data row1 col0\" >Bayesian Ridge</td>\n",
              "      <td id=\"T_ca703_row1_col1\" class=\"data row1 col1\" >28.629</td>\n",
              "      <td id=\"T_ca703_row1_col2\" class=\"data row1 col2\" >26051199.673</td>\n",
              "      <td id=\"T_ca703_row1_col3\" class=\"data row1 col3\" >5104.038</td>\n",
              "      <td id=\"T_ca703_row1_col4\" class=\"data row1 col4\" >1.000e-06</td>\n",
              "      <td id=\"T_ca703_row1_col5\" class=\"data row1 col5\" >1.478e-06</td>\n",
              "    </tr>\n",
              "    <tr>\n",
              "      <td id=\"T_ca703_row2_col0\" class=\"data row2 col0\" >Least Angle Regression</td>\n",
              "      <td id=\"T_ca703_row2_col1\" class=\"data row2 col1\" >29.086</td>\n",
              "      <td id=\"T_ca703_row2_col2\" class=\"data row2 col2\" >26050703.468</td>\n",
              "      <td id=\"T_ca703_row2_col3\" class=\"data row2 col3\" >5103.989</td>\n",
              "      <td id=\"T_ca703_row2_col4\" class=\"data row2 col4\" >2.005e-05</td>\n",
              "      <td id=\"T_ca703_row2_col5\" class=\"data row2 col5\" >2.052e-05</td>\n",
              "    </tr>\n",
              "    <tr>\n",
              "      <td id=\"T_ca703_row3_col0\" class=\"data row3 col0\" >Orthogonal Matching Pursuit</td>\n",
              "      <td id=\"T_ca703_row3_col1\" class=\"data row3 col1\" >34.274</td>\n",
              "      <td id=\"T_ca703_row3_col2\" class=\"data row3 col2\" >26052988.935</td>\n",
              "      <td id=\"T_ca703_row3_col3\" class=\"data row3 col3\" >5104.213</td>\n",
              "      <td id=\"T_ca703_row3_col4\" class=\"data row3 col4\" >-6.768e-05</td>\n",
              "      <td id=\"T_ca703_row3_col5\" class=\"data row3 col5\" >-6.718e-05</td>\n",
              "    </tr>\n",
              "  </tbody>\n",
              "</table>\n"
            ],
            "text/plain": [
              "<pandas.io.formats.style.Styler at 0x7f8f67fe1d20>"
            ]
          },
          "metadata": {},
          "output_type": "display_data"
        },
        {
          "name": "stdout",
          "output_type": "stream",
          "text": [
            "                         Model        MAE           MSE         RMSE  \\\n",
            "0            Linear Regression  29.085870  2.605070e+07  5103.988976   \n",
            "1               Bayesian Ridge  28.629402  2.605120e+07  5104.037585   \n",
            "2       Least Angle Regression  29.085870  2.605070e+07  5103.988976   \n",
            "3  Orthogonal Matching Pursuit  34.273784  2.605299e+07  5104.212861   \n",
            "\n",
            "         R2  Explained Variance  \n",
            "0  0.000020            0.000021  \n",
            "1  0.000001            0.000001  \n",
            "2  0.000020            0.000021  \n",
            "3 -0.000068           -0.000067  \n"
          ]
        }
      ],
      "source": [
        "# Create a dictionary with the model names and evaluation metrics\n",
        "results = {\n",
        "    'Model': ['Linear Regression', 'Bayesian Ridge', 'Least Angle Regression', 'Orthogonal Matching Pursuit'],\n",
        "    'MAE': [29.085869876063647, 28.629401886356185, 29.085869876063967, 34.27378412809895],\n",
        "    'MSE': [26050703.467950974, 26051199.67334449, 26050703.467950974, 26052988.935348976],\n",
        "    'RMSE': [5103.988976080471, 5104.037585416519, 5103.988976080471,  5104.212861485008],\n",
        "    'R2': [2.004760569174202e-05, 1.0003102358657756e-06, 2.004760569174202e-05, -6.768213959773561e-05],\n",
        "    'Explained Variance': [2.0519600964719054e-05, 1.4777116668085455e-06, 2.0519600964719054e-05, -6.718201418465242e-05]\n",
        "}\n",
        "\n",
        "# Create a DataFrame from the results dictionary\n",
        "df = pd.DataFrame(results)\n",
        "import pandas as pd\n",
        "\n",
        "# Create a dictionary with the model names and evaluation metrics\n",
        "results = {\n",
        "    'Model': ['Linear Regression', 'Bayesian Ridge', 'Least Angle Regression', 'Orthogonal Matching Pursuit'],\n",
        "    'MAE': [29.085869876063647, 28.629401886356185, 29.085869876063967, 34.27378412809895],\n",
        "    'MSE': [26050703.467950974, 26051199.67334449, 26050703.467950974, 26052988.935348976],\n",
        "    'RMSE': [5103.988976080471, 5104.037585416519, 5103.988976080471,  5104.212861485008],\n",
        "    'R2': [2.004760569174202e-05, 1.0003102358657756e-06, 2.004760569174202e-05, -6.768213959773561e-05],\n",
        "    'Explained Variance': [2.0519600964719054e-05, 1.4777116668085455e-06, 2.0519600964719054e-05, -6.718201418465242e-05]\n",
        "}\n",
        "\n",
        "# Create a DataFrame from the results dictionary\n",
        "df = pd.DataFrame(results)\n",
        "\n",
        "# Apply formatting to the DataFrame\n",
        "styled_df = df.style.format({\n",
        "    'MAE': '{:.3f}',\n",
        "    'MSE': '{:.3f}',\n",
        "    'RMSE': '{:.3f}',\n",
        "    'R2': '{:.3e}',\n",
        "    'Explained Variance': '{:.3e}'\n",
        "}).hide_index()\n",
        "\n",
        "# Set the style properties for the table\n",
        "styled_df.set_properties(**{\n",
        "    'text-align': 'center',\n",
        "    'border-color': 'lightgray',\n",
        "    'border-style': 'solid',\n",
        "    'border-width': '1px'\n",
        "}).set_table_styles([{\n",
        "    'selector': 'th',\n",
        "    'props': [('background-color', 'lightgray')]\n",
        "}])\n",
        "\n",
        "# Display the styled DataFrame\n",
        "display(styled_df)\n",
        "\n",
        "# Print the DataFrame\n",
        "print(df)\n"
      ]
    },
    {
      "cell_type": "code",
      "execution_count": null,
      "id": "c8ebd75d",
      "metadata": {
        "id": "c8ebd75d"
      },
      "outputs": [],
      "source": []
    }
  ],
  "metadata": {
    "colab": {
      "provenance": []
    },
    "kernelspec": {
      "display_name": "Python 3 (ipykernel)",
      "language": "python",
      "name": "python3"
    },
    "language_info": {
      "codemirror_mode": {
        "name": "ipython",
        "version": 3
      },
      "file_extension": ".py",
      "mimetype": "text/x-python",
      "name": "python",
      "nbconvert_exporter": "python",
      "pygments_lexer": "ipython3",
      "version": "3.9.12"
    }
  },
  "nbformat": 4,
  "nbformat_minor": 5
}
