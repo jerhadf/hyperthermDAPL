{
 "cells": [
  {
   "attachments": {},
   "cell_type": "markdown",
   "metadata": {},
   "source": [
    "# Exploratory Data Analysis \n",
    "EDA + feature engineering + also some more cleaning (outlier removal mostly)"
   ]
  },
  {
   "attachments": {},
   "cell_type": "markdown",
   "metadata": {},
   "source": [
    "### Setup"
   ]
  },
  {
   "cell_type": "code",
   "execution_count": 1,
   "metadata": {},
   "outputs": [],
   "source": [
    "# CORE\n",
    "import pandas as pd\n",
    "import numpy as np  # Numpy for numerical computations and array operations\n",
    "import pandas as pd  # Pandas for data manipulation and analysis\n",
    "\n",
    "# MACHINE LEARNING & STATISTICS \n",
    "import scipy.stats as stats  # SciPy for scientific computing and technical computing, including statistics\n",
    "import sklearn as sk # Scikit-learn for machine learning and predictive modeling\n",
    "\n",
    "# VISUALIZATION\n",
    "import matplotlib.pyplot as plt  # Matplotlib for creating static, animated, and interactive visualizations\n",
    "import seaborn as sns  # Seaborn for statistical data visualization built on top of Matplotlib\n",
    "import plotly.express as px  # Plotly Express for creating interactive plots and charts\n",
    "import plotly.graph_objects as go\n",
    "from plotly.subplots import make_subplots\n",
    "import seaborn as sns"
   ]
  },
  {
   "cell_type": "code",
   "execution_count": 6,
   "metadata": {},
   "outputs": [
    {
     "data": {
      "text/html": [
       "<div>\n",
       "<style scoped>\n",
       "    .dataframe tbody tr th:only-of-type {\n",
       "        vertical-align: middle;\n",
       "    }\n",
       "\n",
       "    .dataframe tbody tr th {\n",
       "        vertical-align: top;\n",
       "    }\n",
       "\n",
       "    .dataframe thead th {\n",
       "        text-align: right;\n",
       "    }\n",
       "</style>\n",
       "<table border=\"1\" class=\"dataframe\">\n",
       "  <thead>\n",
       "    <tr style=\"text-align: right;\">\n",
       "      <th></th>\n",
       "      <th>Unnamed: 0</th>\n",
       "      <th>dExtArea</th>\n",
       "      <th>dSheetArea</th>\n",
       "      <th>dLgExtConContainedDist</th>\n",
       "      <th>dExtBoundaryDist</th>\n",
       "      <th>dSheetWidth</th>\n",
       "      <th>dLgExtConArea</th>\n",
       "      <th>dExtContainedDist</th>\n",
       "      <th>dLgIntBoundaryDist</th>\n",
       "      <th>dSheetLength</th>\n",
       "      <th>fExtShape</th>\n",
       "      <th>dLgIntArea</th>\n",
       "      <th>dPartTrueArea</th>\n",
       "      <th>dLgExtConBoundaryDist</th>\n",
       "      <th>dLgIntContainedDist</th>\n",
       "      <th>calcUtil</th>\n",
       "    </tr>\n",
       "  </thead>\n",
       "  <tbody>\n",
       "    <tr>\n",
       "      <th>0</th>\n",
       "      <td>0</td>\n",
       "      <td>151.1253</td>\n",
       "      <td>38808.0</td>\n",
       "      <td>0.0</td>\n",
       "      <td>4.7891</td>\n",
       "      <td>99.0</td>\n",
       "      <td>0.0</td>\n",
       "      <td>15.8795</td>\n",
       "      <td>0.0</td>\n",
       "      <td>392.0</td>\n",
       "      <td>0</td>\n",
       "      <td>0.0</td>\n",
       "      <td>151.1253</td>\n",
       "      <td>0.0</td>\n",
       "      <td>0.0</td>\n",
       "      <td>91.338529</td>\n",
       "    </tr>\n",
       "    <tr>\n",
       "      <th>1</th>\n",
       "      <td>1</td>\n",
       "      <td>49.5807</td>\n",
       "      <td>38808.0</td>\n",
       "      <td>0.0</td>\n",
       "      <td>3.1157</td>\n",
       "      <td>99.0</td>\n",
       "      <td>0.0</td>\n",
       "      <td>9.9701</td>\n",
       "      <td>0.0</td>\n",
       "      <td>392.0</td>\n",
       "      <td>0</td>\n",
       "      <td>0.0</td>\n",
       "      <td>49.5807</td>\n",
       "      <td>0.0</td>\n",
       "      <td>0.0</td>\n",
       "      <td>91.338529</td>\n",
       "    </tr>\n",
       "    <tr>\n",
       "      <th>2</th>\n",
       "      <td>2</td>\n",
       "      <td>222.0186</td>\n",
       "      <td>38808.0</td>\n",
       "      <td>0.0</td>\n",
       "      <td>4.7891</td>\n",
       "      <td>99.0</td>\n",
       "      <td>0.0</td>\n",
       "      <td>24.3234</td>\n",
       "      <td>0.0</td>\n",
       "      <td>392.0</td>\n",
       "      <td>0</td>\n",
       "      <td>0.0</td>\n",
       "      <td>222.0186</td>\n",
       "      <td>0.0</td>\n",
       "      <td>0.0</td>\n",
       "      <td>91.338529</td>\n",
       "    </tr>\n",
       "    <tr>\n",
       "      <th>3</th>\n",
       "      <td>3</td>\n",
       "      <td>2.5008</td>\n",
       "      <td>38808.0</td>\n",
       "      <td>0.0</td>\n",
       "      <td>0.6184</td>\n",
       "      <td>99.0</td>\n",
       "      <td>0.0</td>\n",
       "      <td>2.7209</td>\n",
       "      <td>0.0</td>\n",
       "      <td>392.0</td>\n",
       "      <td>0</td>\n",
       "      <td>0.0</td>\n",
       "      <td>2.5008</td>\n",
       "      <td>0.0</td>\n",
       "      <td>0.0</td>\n",
       "      <td>91.338529</td>\n",
       "    </tr>\n",
       "    <tr>\n",
       "      <th>4</th>\n",
       "      <td>4</td>\n",
       "      <td>11.5773</td>\n",
       "      <td>38808.0</td>\n",
       "      <td>0.0</td>\n",
       "      <td>0.9060</td>\n",
       "      <td>99.0</td>\n",
       "      <td>0.0</td>\n",
       "      <td>5.9537</td>\n",
       "      <td>0.0</td>\n",
       "      <td>392.0</td>\n",
       "      <td>0</td>\n",
       "      <td>0.0</td>\n",
       "      <td>11.5773</td>\n",
       "      <td>0.0</td>\n",
       "      <td>0.0</td>\n",
       "      <td>91.338529</td>\n",
       "    </tr>\n",
       "  </tbody>\n",
       "</table>\n",
       "</div>"
      ],
      "text/plain": [
       "   Unnamed: 0  dExtArea  dSheetArea  dLgExtConContainedDist  dExtBoundaryDist  \\\n",
       "0           0  151.1253     38808.0                     0.0            4.7891   \n",
       "1           1   49.5807     38808.0                     0.0            3.1157   \n",
       "2           2  222.0186     38808.0                     0.0            4.7891   \n",
       "3           3    2.5008     38808.0                     0.0            0.6184   \n",
       "4           4   11.5773     38808.0                     0.0            0.9060   \n",
       "\n",
       "   dSheetWidth  dLgExtConArea  dExtContainedDist  dLgIntBoundaryDist  \\\n",
       "0         99.0            0.0            15.8795                 0.0   \n",
       "1         99.0            0.0             9.9701                 0.0   \n",
       "2         99.0            0.0            24.3234                 0.0   \n",
       "3         99.0            0.0             2.7209                 0.0   \n",
       "4         99.0            0.0             5.9537                 0.0   \n",
       "\n",
       "   dSheetLength  fExtShape  dLgIntArea  dPartTrueArea  dLgExtConBoundaryDist  \\\n",
       "0         392.0          0         0.0       151.1253                    0.0   \n",
       "1         392.0          0         0.0        49.5807                    0.0   \n",
       "2         392.0          0         0.0       222.0186                    0.0   \n",
       "3         392.0          0         0.0         2.5008                    0.0   \n",
       "4         392.0          0         0.0        11.5773                    0.0   \n",
       "\n",
       "   dLgIntContainedDist   calcUtil  \n",
       "0                  0.0  91.338529  \n",
       "1                  0.0  91.338529  \n",
       "2                  0.0  91.338529  \n",
       "3                  0.0  91.338529  \n",
       "4                  0.0  91.338529  "
      ]
     },
     "execution_count": 6,
     "metadata": {},
     "output_type": "execute_result"
    }
   ],
   "source": [
    "# import the cleaned data that was output by cleaning.ipynb\n",
    "df = pd.read_csv('../CEIP_csv/ml_data.csv')\n",
    "df_orginal = df.copy()\n",
    "df.head()"
   ]
  },
  {
   "cell_type": "code",
   "execution_count": 11,
   "metadata": {},
   "outputs": [
    {
     "data": {
      "text/html": [
       "<div>\n",
       "<style scoped>\n",
       "    .dataframe tbody tr th:only-of-type {\n",
       "        vertical-align: middle;\n",
       "    }\n",
       "\n",
       "    .dataframe tbody tr th {\n",
       "        vertical-align: top;\n",
       "    }\n",
       "\n",
       "    .dataframe thead th {\n",
       "        text-align: right;\n",
       "    }\n",
       "</style>\n",
       "<table border=\"1\" class=\"dataframe\">\n",
       "  <thead>\n",
       "    <tr style=\"text-align: right;\">\n",
       "      <th></th>\n",
       "      <th>ixJobSummary</th>\n",
       "      <th>ixNest</th>\n",
       "      <th>ixPart</th>\n",
       "      <th>dPartTrueArea</th>\n",
       "      <th>cRequired</th>\n",
       "      <th>cNested</th>\n",
       "      <th>ixMaterial</th>\n",
       "      <th>fExtShape</th>\n",
       "      <th>dExtArea</th>\n",
       "      <th>dExtBoundaryDist</th>\n",
       "      <th>...</th>\n",
       "      <th>fStrategies</th>\n",
       "      <th>dSheetLength</th>\n",
       "      <th>dSheetWidth</th>\n",
       "      <th>dSheetArea</th>\n",
       "      <th>dLengthUsed</th>\n",
       "      <th>dWidthUsed</th>\n",
       "      <th>dPartArea</th>\n",
       "      <th>calcUtil</th>\n",
       "      <th>ixAutoNestStrategy</th>\n",
       "      <th>fAllPartsNested</th>\n",
       "    </tr>\n",
       "  </thead>\n",
       "  <tbody>\n",
       "    <tr>\n",
       "      <th>0</th>\n",
       "      <td>304409</td>\n",
       "      <td>746165</td>\n",
       "      <td>2377314</td>\n",
       "      <td>151.1253</td>\n",
       "      <td>5</td>\n",
       "      <td>5</td>\n",
       "      <td>3</td>\n",
       "      <td>0</td>\n",
       "      <td>151.1253</td>\n",
       "      <td>4.7891</td>\n",
       "      <td>...</td>\n",
       "      <td>0</td>\n",
       "      <td>392.0</td>\n",
       "      <td>99.0</td>\n",
       "      <td>38808.0</td>\n",
       "      <td>390.1389</td>\n",
       "      <td>98.9965</td>\n",
       "      <td>35446.6563</td>\n",
       "      <td>91.338529</td>\n",
       "      <td>5</td>\n",
       "      <td>0</td>\n",
       "    </tr>\n",
       "    <tr>\n",
       "      <th>1</th>\n",
       "      <td>304409</td>\n",
       "      <td>746165</td>\n",
       "      <td>2377315</td>\n",
       "      <td>49.5807</td>\n",
       "      <td>10</td>\n",
       "      <td>10</td>\n",
       "      <td>3</td>\n",
       "      <td>0</td>\n",
       "      <td>49.5807</td>\n",
       "      <td>3.1157</td>\n",
       "      <td>...</td>\n",
       "      <td>0</td>\n",
       "      <td>392.0</td>\n",
       "      <td>99.0</td>\n",
       "      <td>38808.0</td>\n",
       "      <td>390.1389</td>\n",
       "      <td>98.9965</td>\n",
       "      <td>35446.6563</td>\n",
       "      <td>91.338529</td>\n",
       "      <td>5</td>\n",
       "      <td>0</td>\n",
       "    </tr>\n",
       "    <tr>\n",
       "      <th>2</th>\n",
       "      <td>304409</td>\n",
       "      <td>746165</td>\n",
       "      <td>2377315</td>\n",
       "      <td>49.5807</td>\n",
       "      <td>10</td>\n",
       "      <td>10</td>\n",
       "      <td>3</td>\n",
       "      <td>0</td>\n",
       "      <td>49.5807</td>\n",
       "      <td>3.1157</td>\n",
       "      <td>...</td>\n",
       "      <td>0</td>\n",
       "      <td>392.0</td>\n",
       "      <td>99.0</td>\n",
       "      <td>38808.0</td>\n",
       "      <td>390.1389</td>\n",
       "      <td>98.9965</td>\n",
       "      <td>35446.6563</td>\n",
       "      <td>91.338529</td>\n",
       "      <td>5</td>\n",
       "      <td>0</td>\n",
       "    </tr>\n",
       "    <tr>\n",
       "      <th>3</th>\n",
       "      <td>304409</td>\n",
       "      <td>746165</td>\n",
       "      <td>2377316</td>\n",
       "      <td>222.0186</td>\n",
       "      <td>5</td>\n",
       "      <td>5</td>\n",
       "      <td>3</td>\n",
       "      <td>0</td>\n",
       "      <td>222.0186</td>\n",
       "      <td>4.7891</td>\n",
       "      <td>...</td>\n",
       "      <td>0</td>\n",
       "      <td>392.0</td>\n",
       "      <td>99.0</td>\n",
       "      <td>38808.0</td>\n",
       "      <td>390.1389</td>\n",
       "      <td>98.9965</td>\n",
       "      <td>35446.6563</td>\n",
       "      <td>91.338529</td>\n",
       "      <td>5</td>\n",
       "      <td>0</td>\n",
       "    </tr>\n",
       "    <tr>\n",
       "      <th>4</th>\n",
       "      <td>304409</td>\n",
       "      <td>746165</td>\n",
       "      <td>2377316</td>\n",
       "      <td>222.0186</td>\n",
       "      <td>5</td>\n",
       "      <td>5</td>\n",
       "      <td>3</td>\n",
       "      <td>0</td>\n",
       "      <td>222.0186</td>\n",
       "      <td>4.7891</td>\n",
       "      <td>...</td>\n",
       "      <td>0</td>\n",
       "      <td>392.0</td>\n",
       "      <td>99.0</td>\n",
       "      <td>38808.0</td>\n",
       "      <td>390.1389</td>\n",
       "      <td>98.9965</td>\n",
       "      <td>35446.6563</td>\n",
       "      <td>91.338529</td>\n",
       "      <td>5</td>\n",
       "      <td>0</td>\n",
       "    </tr>\n",
       "  </tbody>\n",
       "</table>\n",
       "<p>5 rows × 29 columns</p>\n",
       "</div>"
      ],
      "text/plain": [
       "   ixJobSummary  ixNest   ixPart  dPartTrueArea  cRequired  cNested  \\\n",
       "0        304409  746165  2377314       151.1253          5        5   \n",
       "1        304409  746165  2377315        49.5807         10       10   \n",
       "2        304409  746165  2377315        49.5807         10       10   \n",
       "3        304409  746165  2377316       222.0186          5        5   \n",
       "4        304409  746165  2377316       222.0186          5        5   \n",
       "\n",
       "   ixMaterial  fExtShape  dExtArea  dExtBoundaryDist  ...  fStrategies  \\\n",
       "0           3          0  151.1253            4.7891  ...            0   \n",
       "1           3          0   49.5807            3.1157  ...            0   \n",
       "2           3          0   49.5807            3.1157  ...            0   \n",
       "3           3          0  222.0186            4.7891  ...            0   \n",
       "4           3          0  222.0186            4.7891  ...            0   \n",
       "\n",
       "   dSheetLength  dSheetWidth  dSheetArea  dLengthUsed  dWidthUsed   dPartArea  \\\n",
       "0         392.0         99.0     38808.0     390.1389     98.9965  35446.6563   \n",
       "1         392.0         99.0     38808.0     390.1389     98.9965  35446.6563   \n",
       "2         392.0         99.0     38808.0     390.1389     98.9965  35446.6563   \n",
       "3         392.0         99.0     38808.0     390.1389     98.9965  35446.6563   \n",
       "4         392.0         99.0     38808.0     390.1389     98.9965  35446.6563   \n",
       "\n",
       "    calcUtil  ixAutoNestStrategy  fAllPartsNested  \n",
       "0  91.338529                   5                0  \n",
       "1  91.338529                   5                0  \n",
       "2  91.338529                   5                0  \n",
       "3  91.338529                   5                0  \n",
       "4  91.338529                   5                0  \n",
       "\n",
       "[5 rows x 29 columns]"
      ]
     },
     "execution_count": 11,
     "metadata": {},
     "output_type": "execute_result"
    }
   ],
   "source": [
    "# import the cleaned data that was output by cleaning.ipynb\n",
    "df = pd.read_csv('../CEIP_csv/training_data.csv')\n",
    "df_original = df.copy()\n",
    "df.head()"
   ]
  },
  {
   "cell_type": "code",
   "execution_count": 7,
   "metadata": {},
   "outputs": [
    {
     "data": {
      "text/plain": [
       "count     4.014410e+06\n",
       "mean    -4.143076e+285\n",
       "std                inf\n",
       "min     -2.079001e+291\n",
       "25%       5.230078e+01\n",
       "50%       7.406721e+01\n",
       "75%       8.412582e+01\n",
       "max      4.112029e+156\n",
       "Name: calcUtil, dtype: float64"
      ]
     },
     "execution_count": 7,
     "metadata": {},
     "output_type": "execute_result"
    }
   ],
   "source": [
    "# find the summary statistics for the calcUtil column\n",
    "df['calcUtil'].describe()"
   ]
  },
  {
   "cell_type": "code",
   "execution_count": 10,
   "metadata": {},
   "outputs": [
    {
     "name": "stderr",
     "output_type": "stream",
     "text": [
      "/Users/jerhadf/opt/anaconda3/lib/python3.9/site-packages/seaborn/distributions.py:2619: FutureWarning: `distplot` is a deprecated function and will be removed in a future version. Please adapt your code to use either `displot` (a figure-level function with similar flexibility) or `histplot` (an axes-level function for histograms).\n",
      "  warnings.warn(msg, FutureWarning)\n",
      "/Users/jerhadf/opt/anaconda3/lib/python3.9/site-packages/seaborn/distributions.py:2103: FutureWarning: The `axis` variable is no longer used and will be removed. Instead, assign variables directly to `x` or `y`.\n",
      "  warnings.warn(msg, FutureWarning)\n"
     ]
    },
    {
     "data": {
      "text/plain": [
       "<AxesSubplot:xlabel='calcUtil'>"
      ]
     },
     "execution_count": 10,
     "metadata": {},
     "output_type": "execute_result"
    },
    {
     "data": {
      "image/png": "[encoded data removed]",
      "text/plain": [
       "<Figure size 432x288 with 1 Axes>"
      ]
     },
     "metadata": {
      "needs_background": "light"
     },
     "output_type": "display_data"
    }
   ],
   "source": [
    "# plot a histogram of the calcUtil column \n",
    "sns.distplot(df['calcUtil'], bins=30, kde=False, rug=True)"
   ]
  },
  {
   "cell_type": "code",
   "execution_count": 9,
   "metadata": {},
   "outputs": [
    {
     "data": {
      "text/plain": [
       "count     4.014410e+06\n",
       "mean    -4.144038e+285\n",
       "std                inf\n",
       "min     -2.079001e+291\n",
       "25%       5.230078e+01\n",
       "50%       7.406721e+01\n",
       "75%       8.412582e+01\n",
       "max      4.112029e+156\n",
       "Name: calcUtil, dtype: float64"
      ]
     },
     "execution_count": 9,
     "metadata": {},
     "output_type": "execute_result"
    }
   ],
   "source": [
    "# remove outliers and NaNs in the calcUtil column and then calculate the standard deviation \n",
    "# and mean of the calcUtil column\n",
    "df['calcUtil'] = df['calcUtil'].replace([np.inf, -np.inf], np.nan)\n",
    "df['calcUtil'] = df['calcUtil'].replace(0, np.nan)\n",
    "# drop the N/A values \n",
    "df = df.dropna(subset=['calcUtil'])\n",
    "df['calcUtil'].describe()"
   ]
  },
  {
   "attachments": {},
   "cell_type": "markdown",
   "metadata": {},
   "source": [
    "## Feature Engineering"
   ]
  },
  {
   "attachments": {},
   "cell_type": "markdown",
   "metadata": {},
   "source": [
    "### Feature selection"
   ]
  },
  {
   "cell_type": "code",
   "execution_count": 1,
   "metadata": {},
   "outputs": [
    {
     "ename": "NameError",
     "evalue": "name 'df' is not defined",
     "output_type": "error",
     "traceback": [
      "\u001b[0;31m---------------------------------------------------------------------------\u001b[0m",
      "\u001b[0;31mNameError\u001b[0m                                 Traceback (most recent call last)",
      "\u001b[1;32m/Users/jerhadf/Desktop/coding/hyperthermDAPL/analysis/exploration.ipynb Cell 7\u001b[0m in \u001b[0;36m<cell line: 2>\u001b[0;34m()\u001b[0m\n\u001b[1;32m      <a href='vscode-notebook-cell:/Users/jerhadf/Desktop/coding/hyperthermDAPL/analysis/exploration.ipynb#X11sZmlsZQ%3D%3D?line=0'>1</a>\u001b[0m \u001b[39m# list the columns in the dataframe\u001b[39;00m\n\u001b[0;32m----> <a href='vscode-notebook-cell:/Users/jerhadf/Desktop/coding/hyperthermDAPL/analysis/exploration.ipynb#X11sZmlsZQ%3D%3D?line=1'>2</a>\u001b[0m column_list \u001b[39m=\u001b[39m df\u001b[39m.\u001b[39mcolumns\u001b[39m.\u001b[39mtolist()\n\u001b[1;32m      <a href='vscode-notebook-cell:/Users/jerhadf/Desktop/coding/hyperthermDAPL/analysis/exploration.ipynb#X11sZmlsZQ%3D%3D?line=3'>4</a>\u001b[0m \u001b[39m# list of index columns (like ixNest, ixJobSummary, ixPart)\u001b[39;00m\n\u001b[1;32m      <a href='vscode-notebook-cell:/Users/jerhadf/Desktop/coding/hyperthermDAPL/analysis/exploration.ipynb#X11sZmlsZQ%3D%3D?line=4'>5</a>\u001b[0m indices \u001b[39m=\u001b[39m [column \u001b[39mfor\u001b[39;00m column \u001b[39min\u001b[39;00m column_list \u001b[39mif\u001b[39;00m column\u001b[39m.\u001b[39mstartswith(\u001b[39m'\u001b[39m\u001b[39mix\u001b[39m\u001b[39m'\u001b[39m)]\n",
      "\u001b[0;31mNameError\u001b[0m: name 'df' is not defined"
     ]
    }
   ],
   "source": [
    "# list the columns in the dataframe\n",
    "column_list = df.columns.tolist()\n",
    "\n",
    "# list of index columns (like ixNest, ixJobSummary, ixPart)\n",
    "indices = [column for column in column_list if column.startswith('ix')]\n",
    "\n",
    "# list of strategy type column names \n",
    "strategies = [column for column in column_list if column.startswith('_')]\n",
    "\n",
    "nest_data = ['cTimesCut', 'fAllPartsNested', 'cParts', 'fStrategies', 'dNestingTime', \n",
    "             'dLengthUsed', 'dWidthUsed', 'dPartArea']\n",
    "# cTimesCut - removed, # of times nest will be cut in job, not known in advance \n",
    "# fAllPartsNested - removed, just a 0/1 indicator of if all the parts in the job were nested using automatic nesting\n",
    "# cParts - Total number of parts nested from Nest table - duplicated by cNested, unknown prior to nesting \n",
    "# analysis - check if cParts is identical to cNested, what are the differences \n",
    "# !! fStrategies might actually be helpful for tree based models - try adding later \n",
    "# fStrategies - what is the meaning of this? does it add anything? \n",
    "# dNestingTime - analyze later but not a feature \n",
    "# dLengthUsed & dWidthUsed - Length/width of plate used by nested parts - not features \n",
    "# dPartArea - Total area of nested parts - replicated by dPartTrueArea, from Nest Table \n",
    "\n",
    "# exclude the # of parts nested and the # required - not part characteristics \n",
    "others = ['cNested', 'cRequired']\n",
    "\n",
    "# set the target \n",
    "target = ['calcUtil']\n",
    "\n",
    "# select all the columns that are actually features \n",
    "non_features = set().union(indices, nest_data, others, target)\n",
    "\n",
    "# Get all columns from the DataFrame as a set\n",
    "all_columns_set = set(df.columns)\n",
    "\n",
    "# Subtract the sets of columns you don't want from the set of all columns\n",
    "selected_columns_set = all_columns_set - non_features\n",
    "feature_list = list(selected_columns_set) # Convert the resulting set back to a list\n",
    "\n",
    "feature_list"
   ]
  },
  {
   "cell_type": "code",
   "execution_count": null,
   "metadata": {},
   "outputs": [],
   "source": [
    "print(df.cTimesCut.value_counts()[:5])\n",
    "print(df.fStrategies.value_counts()[:5])"
   ]
  },
  {
   "cell_type": "code",
   "execution_count": null,
   "metadata": {},
   "outputs": [],
   "source": [
    "# sanity checking - making sure we don't need certain columns\n",
    "\n",
    "# ?? is fAllPartsNested always 1 when cNested = cRequired? \n",
    "df_subset = df[df['cNested'] == df['cRequired']]\n",
    "print(df_subset['fAllPartsNested'].unique()) \n",
    "\n",
    "# ?? For Mark: what is the difference between cParts in the Nest table and cNested in the Part table? \n",
    "# diff_df = df[df['cParts'] != df['cNested']]\n",
    "# print(diff_df[['cParts', 'cNested']])\n",
    "\n",
    "# using the training_df, compare the ixAutoNestStrategy and fStrategies columns "
   ]
  },
  {
   "cell_type": "code",
   "execution_count": 23,
   "metadata": {},
   "outputs": [],
   "source": [
    "# make a dataframe of just the features and the target\n",
    "ml_df = df[feature_list + target]\n",
    "\n",
    "# save the DF as a csv for the machine learning model\n",
    "ml_df.to_csv('../CEIP_csv/ml_data.csv')"
   ]
  },
  {
   "cell_type": "code",
   "execution_count": null,
   "metadata": {},
   "outputs": [],
   "source": [
    "# Select the variable of interest\n",
    "# selected_var = 'dCropUtil'\n",
    "\n",
    "# # Compute the correlation coefficients between the selected variable and all other variables\n",
    "# corr_values = df.corr()[selected_var]\n",
    "\n",
    "# # Compute the correlation coefficients between all pairs of variables\n",
    "# corr_values = df.corr()\n",
    "\n",
    "# # Display the correlation coefficients\n",
    "# print(corr_values)"
   ]
  },
  {
   "cell_type": "code",
   "execution_count": null,
   "metadata": {},
   "outputs": [],
   "source": [
    "# # Display the correlation matrix as a heatmap for better visualization\n",
    "# sns.heatmap(correlation_matrix, annot=True, cmap='coolwarm')\n",
    "# plt.show()"
   ]
  },
  {
   "cell_type": "code",
   "execution_count": null,
   "metadata": {},
   "outputs": [],
   "source": [
    "# Plot a histogram of the selected variable\n",
    "# sns.histplot(data=df_no_outliers, x=selected_var, kde=True)\n",
    "# plt.title('Histogram of {}'.format(selected_var))\n",
    "# plt.xlabel(selected_var)\n",
    "# plt.ylabel('Frequency')\n",
    "# plt.show()\n",
    "\n",
    "# # Plot a boxplot of the selected variable\n",
    "# sns.boxplot(data=df_no_outliers, x=selected_var)\n",
    "# plt.title('Boxplot of {}'.format(selected_var))\n",
    "# plt.xlabel(selected_var)\n",
    "# plt.show()\n",
    "\n",
    "# # Compute the summary statistics of the selected variable\n",
    "# summary = df_no_outliers[selected_var].describe()\n",
    "# print(summary)"
   ]
  },
  {
   "cell_type": "code",
   "execution_count": null,
   "metadata": {},
   "outputs": [],
   "source": [
    "# remove highly correlated features\n",
    "# corr_matrix = df_cleaned.corr().abs()\n",
    "# upper_triangle = corr_matrix.where(np.triu(np.ones(corr_matrix.shape), k=1).astype(np.bool))\n",
    "# cols_to_drop = [column for column in upper_triangle.columns if any(upper_triangle[column] > correlation_threshold)]\n",
    "# df_cleaned.drop(cols_to_drop, axis=1, inplace=True)"
   ]
  },
  {
   "cell_type": "code",
   "execution_count": null,
   "metadata": {},
   "outputs": [],
   "source": [
    "# Plot a histogram of the selected variable\n",
    "# sns.histplot(data=df_no_outliers, x=selected_var, kde=True)\n",
    "# plt.title('Histogram of {}'.format(selected_var))\n",
    "# plt.xlabel(selected_var)\n",
    "# plt.ylabel('Frequency')\n",
    "# plt.show()\n",
    "\n",
    "# # Plot a boxplot of the selected variable\n",
    "# sns.boxplot(data=df_no_outliers, x=selected_var)\n",
    "# plt.title('Boxplot of {}'.format(selected_var))\n",
    "# plt.xlabel(selected_var)\n",
    "# plt.show()\n",
    "\n",
    "# # Compute the summary statistics of the selected variable\n",
    "# summary = df_no_outliers[selected_var].describe()\n",
    "# print(summary)"
   ]
  },
  {
   "attachments": {},
   "cell_type": "markdown",
   "metadata": {},
   "source": [
    "#### Variance Inflation Factor analysis (VIF)"
   ]
  },
  {
   "attachments": {},
   "cell_type": "markdown",
   "metadata": {},
   "source": [
    "**Variance Inflation Factor (VIF):** VIF is a measure of multicollinearity among features within a multiple regression. It's calculated as the ratio of the variance of the predicted variable to the variance of the model that includes only one feature. If the VIF is equal to 1, there is no multicollinearity among features, but if the VIF exceeds 5 or 10, it's an indication that multicollinearity is high.\n",
    "\n",
    "This code will calculate the VIF for each feature. You may then analyze the \"VIF Factor\" for each feature and consider removing or transforming features that have a high VIF.VIF = 1, Not correlated.\n",
    "1 < VIF < 5, Moderately correlated.\n",
    "VIF >=5, Highly correlated.\n",
    "\n",
    "Most of your features have a VIF near or above 1, which means they are moderately to highly correlated with at least one other feature in your dataset. In particular, 'dLgIntArea' and 'dLgExtConArea' are especially high, almost reaching 1, which indicates a very high degree of correlation.\n",
    "'dPartTrueArea' gives a NaN, which usually indicates a division by zero during the calculation. This could be caused if this feature is a constant or nearly constant value across all observations. You should check this feature for constant values.\n",
    "'dSheetWidth' and 'dSheetLength' have VIF scores less than 1, indicating that they are not significantly correlated with other variables in the dataset."
   ]
  },
  {
   "attachments": {},
   "cell_type": "markdown",
   "metadata": {},
   "source": [
    "| Index | VIF Factor | Features                 |\n",
    "|-------|------------|--------------------------|\n",
    "| 0     | 0.996952   | dExtArea                 |\n",
    "| 1     | 0.991680   | dSheetArea               |\n",
    "| 2     | 0.967441   | dLgExtConContainedDist   |\n",
    "| 3     | 0.966788   | dExtBoundaryDist         |\n",
    "| 4     | 0.281767   | dSheetWidth              |\n",
    "| 5     | 0.998093   | dLgExtConArea            |\n",
    "| 6     | 0.673872   | dExtContainedDist        |\n",
    "| 7     | 0.956778   | dLgIntBoundaryDist       |\n",
    "| 8     | 0.376538   | dSheetLength             |\n",
    "| 9     | 0.787266   | fExtShape                |\n",
    "| 10    | 0.999993   | dLgIntArea               |\n",
    "| 11    | NaN        | dPartTrueArea            |\n",
    "| 12    | 0.965795   | dLgExtConBoundaryDist    |\n",
    "| 13    | 0.931104   | dLgIntContainedDist      |"
   ]
  },
  {
   "attachments": {},
   "cell_type": "markdown",
   "metadata": {},
   "source": [
    "A VIF of less than 5 generally indicates that there is not a high degree of multicollinearity between the feature and the other features. The feature 'dPartTrueArea' might have a VIF of NaN due to having zero variance or missing values. Investigate further \n",
    "\n",
    "**Takeaway:** None of our features are too colinear and we do not need to remove any of them. "
   ]
  },
  {
   "cell_type": "code",
   "execution_count": null,
   "metadata": {},
   "outputs": [],
   "source": [
    "# Variance Inflation Factor (VIF)\n",
    "#!! WARNING: This code takes forever to run (like ~5 minutes lol) - commented out \n",
    "# from statsmodels.stats.outliers_influence import variance_inflation_factor\n",
    "\n",
    "# # Get features from the training_df\n",
    "# features = training_df.drop(['calcUtil'], axis=1)\n",
    "\n",
    "# # Calculate VIF\n",
    "# vif = pd.DataFrame()\n",
    "# vif[\"VIF Factor\"] = [variance_inflation_factor(features.values, i) for i in range(features.shape[1])]\n",
    "# vif[\"features\"] = features.columns"
   ]
  },
  {
   "attachments": {},
   "cell_type": "markdown",
   "metadata": {},
   "source": [
    "**Correlation matrix:** Another way to quantify multicollinearity (a symptom of the curse of dimensionality) is to plot a correlation matrix of your features. Strongly correlated features might be redundant."
   ]
  },
  {
   "cell_type": "code",
   "execution_count": null,
   "metadata": {},
   "outputs": [],
   "source": [
    "# # interactive heatmap \n",
    "# import plotly.figure_factory as ff\n",
    "\n",
    "# z = corr.values\n",
    "# x = corr.columns.tolist()\n",
    "# y = corr.index.tolist()\n",
    "\n",
    "# heatmap = ff.create_annotated_heatmap(z, x=x, y=y, annotation_text=z.round(2), colorscale='RdBu')\n",
    "# heatmap.show()"
   ]
  },
  {
   "attachments": {},
   "cell_type": "markdown",
   "metadata": {},
   "source": [
    "### Feature creation\n",
    "* Making new features based on Mark's - what can we make? See the CEIP_db/Mark_calculations folder for more details on what he did "
   ]
  },
  {
   "cell_type": "code",
   "execution_count": null,
   "metadata": {},
   "outputs": [],
   "source": [
    "# # Create a new feature by combining two existing features\n",
    "# df['new_feature'] = df['column1'] * df['column2']\n",
    "\n",
    "# # Create a new feature by applying a mathematical operation\n",
    "# df['log_feature'] = np.log(df['column1'])\n",
    "\n",
    "# # Create a new feature by applying a custom function\n",
    "# def custom_function(x):\n",
    "#     return x**2\n",
    "\n",
    "# df['squared_feature'] = df['column1'].apply(custom_function)"
   ]
  },
  {
   "attachments": {},
   "cell_type": "markdown",
   "metadata": {},
   "source": [
    "## Exploratory Data Visualization"
   ]
  },
  {
   "attachments": {},
   "cell_type": "markdown",
   "metadata": {},
   "source": [
    "### Visualizing Removed Columns"
   ]
  },
  {
   "cell_type": "code",
   "execution_count": null,
   "metadata": {},
   "outputs": [],
   "source": [
    "# fig = px.pie(df, names='fAllPartsNested', title='Distribution of fAllPartsNested')\n",
    "# fig.show()"
   ]
  },
  {
   "cell_type": "code",
   "execution_count": null,
   "metadata": {},
   "outputs": [],
   "source": [
    "# below is bad - figure out better ways to visualize Utilization\n",
    "# fig = px.histogram(df, x='calcUtil')\n",
    "# fig.show()"
   ]
  },
  {
   "cell_type": "code",
   "execution_count": null,
   "metadata": {},
   "outputs": [],
   "source": [
    "# cTimesCut - removed, # of times nest will be cut in job, not known in advance \n",
    "# fAllPartsNested - removed, just a 0/1 indicator of if all the parts in the job were nested using automatic nesting\n",
    "# cParts - Total number of parts nested from Nest table - duplicated by cNested, unknown prior to nesting \n",
    "# analysis - check if cParts is identical to cNested, what are the differences \n",
    "# fStrategies - what is the meaning of this? does it add anything? \n",
    "# dNestingTime - analyze later but not a feature \n",
    "# dLengthUsed & dWidthUsed - Length/width of plate used by nested parts - not features \n",
    "# dPartArea - Total area of nested parts - replicated by dPartTrueArea, from Nest Table \n",
    "\n",
    "# visualize dNestingTime vs fStrategies\n",
    "# plt.hist(encoded_df['dNestingTime'], bins=50)\n",
    "# plt.xlabel('dNestingTime')\n",
    "# plt.ylabel('Count')\n",
    "# plt.title('Distribution of dNestingTime')\n",
    "# plt.show()\n",
    "\n",
    "# visualize dNestingTime vs calcUtil "
   ]
  },
  {
   "attachments": {},
   "cell_type": "markdown",
   "metadata": {},
   "source": [
    "### Visualizing Features"
   ]
  },
  {
   "cell_type": "code",
   "execution_count": null,
   "metadata": {},
   "outputs": [],
   "source": [
    "# automated EDA with AutoViz\n",
    "# eda()"
   ]
  },
  {
   "cell_type": "code",
   "execution_count": null,
   "metadata": {},
   "outputs": [],
   "source": [
    "# Replace 'feature' and 'target' with your actual column names\n",
    "# sns.boxplot(x='feature', y='target', data=main_df)\n",
    "# plt.show()\n",
    "\n",
    "# This will create a box plot of the 'target' variable for each value of 'feature',\n",
    "# which can help you understand the relationship between the feature and the target. \n",
    "# You would want to do this for each feature you're considering converting to categorical."
   ]
  },
  {
   "cell_type": "code",
   "execution_count": null,
   "metadata": {},
   "outputs": [],
   "source": [
    "# histograms\n",
    "# plt.hist(df_cleaned['column'], bins=20)\n",
    "# plt.xlabel('Column Name')\n",
    "# plt.ylabel('Frequency')\n",
    "# plt.title('Histogram of Column Name')\n",
    "# plt.show()\n",
    "\n",
    "# box plots \n",
    "# sns.boxplot(x=df_cleaned['column'])\n",
    "# plt.xlabel('Column Name')\n",
    "# plt.title('Box Plot of Column Name')\n",
    "# plt.show()"
   ]
  },
  {
   "cell_type": "code",
   "execution_count": null,
   "metadata": {},
   "outputs": [],
   "source": [
    "# scatter plots \n",
    "# plt.scatter(df_cleaned['column1'], df_cleaned['column2'])\n",
    "# plt.xlabel('Column 1')\n",
    "# plt.ylabel('Column 2')\n",
    "# plt.title('Scatter Plot of Column 1 vs. Column 2')\n",
    "# plt.show()\n",
    "\n",
    "# interactive scatter plot \n",
    "# fig = px.scatter(df_cleaned, x='column1', y='column2', color='category_column', hover_data=['column3'])\n",
    "# fig.show()"
   ]
  },
  {
   "cell_type": "code",
   "execution_count": null,
   "metadata": {},
   "outputs": [],
   "source": [
    "# bubble plots - 3 numerical variables\n",
    "# plt.scatter(df_cleaned['column1'], df_cleaned['column2'], s=df_cleaned['column3'], alpha=0.5)\n",
    "# plt.xlabel('Column 1')\n",
    "# plt.ylabel('Column 2')\n",
    "# plt.title('Bubble Plot of Column 1 vs. Column 2 (Size = Column 3)')\n",
    "# plt.show()"
   ]
  },
  {
   "cell_type": "code",
   "execution_count": null,
   "metadata": {},
   "outputs": [],
   "source": [
    "# parallel coordinates plot for multiple numerical variables\n",
    "# from pandas.plotting import parallel_coordinates\n",
    "\n",
    "# parallel_coordinates(df_cleaned[['column1', 'column2', 'column3', 'category_column']], 'category_column')\n",
    "# plt.title('Parallel Coordinates Plot')\n",
    "# plt.show()"
   ]
  },
  {
   "cell_type": "code",
   "execution_count": null,
   "metadata": {},
   "outputs": [],
   "source": [
    "# regression plotting \n",
    "# sns.regplot(x='column1', y='column2', data=df_cleaned)\n",
    "# plt.title('Regression Plot')\n",
    "# plt.show()"
   ]
  },
  {
   "cell_type": "code",
   "execution_count": null,
   "metadata": {},
   "outputs": [],
   "source": [
    "# Things to visualize: \n",
    "# tradeoffs between nesting time and utilization\n",
    "# distribution of utilization \n",
    "# relationship between fStrategies and utilization\n",
    "# visualization of the frequency of different Strategies used\n",
    "# visualization of the frequency of different Materials used \n",
    "# distribution of Parts, number of Parts per job, number of Parts nested "
   ]
  },
  {
   "attachments": {},
   "cell_type": "markdown",
   "metadata": {},
   "source": [
    "### Clustering"
   ]
  },
  {
   "cell_type": "code",
   "execution_count": null,
   "metadata": {},
   "outputs": [],
   "source": [
    "# from sklearn.cluster import KMeans\n",
    "\n",
    "# # Create a K-means clustering model with 3 clusters\n",
    "# kmeans = KMeans(n_clusters=3, random_state=0).fit(df)\n",
    "\n",
    "# # Get the cluster labels for each data point\n",
    "# labels = kmeans.labels_\n",
    "\n",
    "# # Add cluster labels to the original DataFrame\n",
    "# df['Cluster'] = labels"
   ]
  },
  {
   "cell_type": "code",
   "execution_count": null,
   "metadata": {},
   "outputs": [],
   "source": [
    "# with PyCaret\n",
    "# import pycaret clustering and init setup\n",
    "# see https://colab.research.google.com/github/pycaret/pycaret/blob/master/tutorials/Tutorial%20-%20Clustering.ipynb#scrollTo=4181de41\n",
    "# from pycaret.clustering import *\n",
    "# s = setup(data, session_id = 123)\n",
    "\n",
    "# # import ClusteringExperiment and init the class\n",
    "# from pycaret.clustering import ClusteringExperiment\n",
    "# exp = ClusteringExperiment()\n",
    "\n",
    "# # init setup on exp\n",
    "# exp.setup(data, session_id = 123)\n",
    "\n",
    "# # train kmeans model\n",
    "# kmeans = create_model('kmeans')\n",
    "\n",
    "# # to check all the available models\n",
    "# models()\n",
    "\n",
    "# # train meanshift model\n",
    "# meanshift = create_model('meanshift')\n",
    "\n",
    "# kmeans_cluster = assign_model(kmeans)\n",
    "# kmeans_cluster\n",
    "\n",
    "# # plot pca cluster plot \n",
    "# plot_model(kmeans, plot = 'cluster')\n",
    "\n",
    "# # plot elbow\n",
    "# plot_model(kmeans, plot = 'elbow')\n",
    "\n",
    "# # plot silhouette\n",
    "# plot_model(kmeans, plot = 'silhouette')\n",
    "\n",
    "# evaluate_model(kmeans)\n",
    "\n",
    "# # predict on test set\n",
    "# kmeans_pred = predict_model(kmeans, data=data)\n",
    "# kmeans_pred"
   ]
  }
 ],
 "metadata": {
  "kernelspec": {
   "display_name": "base",
   "language": "python",
   "name": "python3"
  },
  "language_info": {
   "codemirror_mode": {
    "name": "ipython",
    "version": 3
   },
   "file_extension": ".py",
   "mimetype": "text/x-python",
   "name": "python",
   "nbconvert_exporter": "python",
   "pygments_lexer": "ipython3",
   "version": "3.9.12"
  },
  "orig_nbformat": 4
 },
 "nbformat": 4,
 "nbformat_minor": 2
}
