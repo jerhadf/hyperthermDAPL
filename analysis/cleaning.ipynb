{
 "cells": [
  {
   "attachments": {},
   "cell_type": "markdown",
   "metadata": {},
   "source": [
    "# Data Cleaning\n",
    "Initial data cleaning and preprocessing for the project. This notebook is used to create the preprocessing pipeline in `pipeline.ipynb`. This used to clean the data for the exploratory data analysis and machine learning notebooks. It outputs a cleaned dataset to `CEIP_csv/cleaned.csv`."
   ]
  },
  {
   "attachments": {},
   "cell_type": "markdown",
   "metadata": {},
   "source": [
    "#### Setup"
   ]
  },
  {
   "cell_type": "code",
   "execution_count": 1,
   "metadata": {},
   "outputs": [],
   "source": [
    "# CORE\n",
    "import pandas as pd\n",
    "import os\n",
    "import json\n",
    "import numpy as np  # Numpy for numerical computations and array operations\n",
    "import pandas as pd  # Pandas for data manipulation and analysis\n",
    "\n",
    "# MACHINE LEARNING & STATISTICS \n",
    "import scipy.stats as stats  # SciPy for scientific computing and technical computing, including statistics\n",
    "import sklearn as sk # Scikit-learn for machine learning and predictive modeling\n",
    "\n",
    "# VISUALIZATION\n",
    "import matplotlib.pyplot as plt  # Matplotlib for creating static, animated, and interactive visualizations\n",
    "import seaborn as sns  # Seaborn for statistical data visualization built on top of Matplotlib\n",
    "import plotly.express as px  # Plotly Express for creating interactive plots and charts\n",
    "import plotly.graph_objects as go\n",
    "from plotly.subplots import make_subplots"
   ]
  },
  {
   "cell_type": "code",
   "execution_count": 2,
   "metadata": {},
   "outputs": [],
   "source": [
    "# filepaths of all of the csv data files to be analyzed\n",
    "\n",
    "# autonest_csv = \"CEIP_csv/AutoNest.csv\"\n",
    "# autonest_strategy_csv = \"CEIP_csv/AutoNestStrategy.csv\"\n",
    "# material_csv = \"CEIP_csv/Material.csv\"\n",
    "# nest_csv = \"CEIP_csv/Nest.csv\"\n",
    "# part_csv = \"CEIP_csv/Part.csv\"\n",
    "# performance_csv = \"CEIP_csv/Performance.csv\"\n",
    "training_csv = \"../CEIP_csv/training_data.csv\"\n",
    "\n",
    "# read in all of these csv files as pandas dataframes\n",
    "\n",
    "# autonest_df = pd.read_csv(autonest_csv)\n",
    "# autonest_strategy_df = pd.read_csv(autonest_strategy_csv)\n",
    "# material_df = pd.read_csv(material_csv)\n",
    "# nest_df = pd.read_csv(nest_csv)\n",
    "# part_df = pd.read_csv(part_csv)\n",
    "# performance_df = pd.read_csv(performance_csv)\n",
    "training_df = pd.read_csv(training_csv) # takes about 1 min to read "
   ]
  },
  {
   "attachments": {},
   "cell_type": "markdown",
   "metadata": {},
   "source": [
    "## Data Cleaning"
   ]
  },
  {
   "attachments": {},
   "cell_type": "markdown",
   "metadata": {},
   "source": [
    "#### Data Previewing"
   ]
  },
  {
   "cell_type": "code",
   "execution_count": 3,
   "metadata": {},
   "outputs": [],
   "source": [
    "# count the number of null values \n",
    "# training_df.isnull().sum() # --> RESULT: no null values in any column  \n",
    "\n",
    "# list of columns\n",
    "# column_list = list(training_df.columns)\n",
    "column_list = ['ixJobSummary', 'ixNest', 'ixPart', 'dPartTrueArea', 'cRequired', \n",
    "               'cNested', 'ixMaterial', 'fExtShape', 'dExtArea', 'dExtBoundaryDist', \n",
    "               'dExtContainedDist', 'dLgIntArea', 'dLgIntBoundaryDist', 'dLgIntContainedDist', \n",
    "               'dLgExtConArea', 'dLgExtConBoundaryDist', 'dLgExtConContainedDist', 'cTimesCut', \n",
    "               'dNestingTime', 'fStrategies', 'dSheetLength', 'dSheetWidth', 'dSheetArea', 'dLengthUsed', \n",
    "               'dWidthUsed', 'dPartArea', 'calcUtil', 'ixAutoNestStrategy', 'fAllPartsNested']\n",
    "\n",
    "# count the values for the ixMaterial column in the training_df \n",
    "# training_df.ixMaterial.value_counts()\n",
    "\n",
    "# plot the distribution of the ixMaterial column in the training_df\n",
    "# only plot the 10 most common values\n",
    "# training_df.ixMaterial.value_counts().nlargest(10).plot(kind='bar', figsize=(10,5))\n",
    "\n",
    "# count the number of unique values\n",
    "# training_df.nunique(axis=0)\n",
    "\n",
    "# ixJobSummary               224892\n",
    "# ixNest                     224892\n",
    "# ixPart                    4200357\n",
    "# dPartTrueArea              984974\n",
    "# cRequired                    1534\n",
    "# cNested                      1654\n",
    "# ixMaterial                   7316\n",
    "# fExtShape                      52\n",
    "# dExtArea                   825580\n",
    "# dExtBoundaryDist           159907\n",
    "# dExtContainedDist          526206\n",
    "# dLgIntArea                  74924\n",
    "# dLgIntBoundaryDist          35721\n",
    "# dLgIntContainedDist         83215\n",
    "# dLgExtConArea               71156\n",
    "# dLgExtConBoundaryDist       24334\n",
    "# dLgExtConContainedDist      68328\n",
    "# cTimesCut                     176\n",
    "# dNestingTime                23997\n",
    "# fStrategies                   292\n",
    "# dSheetLength                 2917\n",
    "# dSheetWidth                  1937\n",
    "# dSheetArea                  13217\n",
    "# dLengthUsed                136950\n",
    "# dWidthUsed                 112688\n",
    "# dPartArea                  168268\n",
    "# calcUtil                   172012\n",
    "# ixAutoNestStrategy             13\n",
    "# fAllPartsNested                 2\n",
    "# dtype: int64"
   ]
  },
  {
   "cell_type": "code",
   "execution_count": 4,
   "metadata": {},
   "outputs": [
    {
     "data": {
      "text/plain": [
       "(5762622, 29)"
      ]
     },
     "execution_count": 4,
     "metadata": {},
     "output_type": "execute_result"
    }
   ],
   "source": [
    "# above shows that there are only 4.2 million unique values for ixPart \n",
    "# this indicates that there are a lot of rows that are duplicated? \n",
    "\n",
    "# remove duplicates \n",
    "training_df = training_df.drop_duplicates()\n",
    "training_df.shape # --> (5,762,622 rows, 29 columns)"
   ]
  },
  {
   "attachments": {},
   "cell_type": "markdown",
   "metadata": {},
   "source": [
    "#### Re-encoding Variables\n",
    "* One-hot encode all variables that are numerical but represent categories\n",
    "* Replace ixMaterial and ixAutoNestStrategy with their appropriate values from the JSON file \n",
    "* Limit to only Materials that are steel"
   ]
  },
  {
   "cell_type": "code",
   "execution_count": 5,
   "metadata": {},
   "outputs": [],
   "source": [
    "# replace ixMaterial column with the values from the MaterialTypes.json file \n",
    "# read in the json file as a pandas dataframe\n",
    "material_types_df = pd.read_json('../CEIP_csv/MaterialTypes.json')\n",
    "\n",
    "# create a dictionary of the material types and their corresponding values \n",
    "material_dict = material_types_df.to_dict()\n",
    "\n",
    "# We need to make a new dictionary where the keys are the same but the values are the sNames\n",
    "sName_dict = {k: v['sName'] for k, v in material_dict.items()}\n",
    "\n",
    "# Now we use this dictionary to replace the ixMaterial values in training_df\n",
    "training_df['ixMaterial'] = training_df['ixMaterial'].map(sName_dict)\n",
    "\n",
    "# Rename the column\n",
    "training_df = training_df.rename(columns={'ixMaterial': 'Material'})"
   ]
  },
  {
   "cell_type": "code",
   "execution_count": 6,
   "metadata": {},
   "outputs": [
    {
     "name": "stdout",
     "output_type": "stream",
     "text": [
      "There are 2117 unique materials in the dataset.\n"
     ]
    },
    {
     "data": {
      "application/vnd.plotly.v1+json": {
       "config": {
        "plotlyServerURL": "https://plot.ly"
       },
       "data": [
        {
         "alignmentgroup": "True",
         "hovertemplate": "Material=%{x}<br>Count=%{y}<extra></extra>",
         "legendgroup": "",
         "marker": {
          "color": "#636efa",
          "pattern": {
           "shape": ""
          }
         },
         "name": "",
         "offsetgroup": "",
         "orientation": "v",
         "showlegend": false,
         "textposition": "auto",
         "type": "bar",
         "x": [
          "ms",
          "ss",
          "al",
          "cs",
          "a36",
          "hpr ms o2 130amp",
          "domex 100 xf",
          "steel",
          "domex 110 xf",
          "ms o2 130amp",
          "s355",
          "st37-60",
          "st",
          "pl",
          "galvannealed",
          "ms o2 80amp",
          "ms 100xf",
          "o-hrs",
          "aluminium 5083-h321",
          "ms o2 200amp",
          "ms-130amps",
          1100,
          "ss400",
          "16 ga.",
          304,
          "astm a36 steel",
          "oc",
          "1/4\" 80k",
          "grade a sigma",
          "hrs",
          "ms cl6",
          "24ga_galv",
          "mild steel",
          "10 gauge material",
          "aluminium 5083-h111",
          "300w",
          "26ga_galv",
          "cs 11g",
          "ar400",
          "hpr ms o2 80amp",
          "a-36",
          "ar 400",
          "ms-80amps-o2/air",
          "alum. 5052-h32",
          2205,
          "a572-50",
          "hdx",
          "3/8\" 80k",
          "ms 10ga",
          "ms-50amps-o2/o2",
          "a572",
          316,
          "a572-gr50",
          "14 ga.",
          "7030-051",
          "st37-40",
          "alu",
          "q345b",
          "qt100",
          "7 gauge material",
          "ss-#4",
          "ms-80amps",
          "alum .125",
          "ms 12ga",
          "sa516-70",
          "ms gr80",
          "7030-341",
          "st37-20",
          "al 5052",
          "s235",
          "11 gauge",
          "gal",
          "ms 7ga",
          "qt-200amps",
          "ss f5 80amp",
          "a36 ms",
          "stainless",
          "ms o2 260amp",
          "crs",
          "3/16\" 80k",
          "a516 ms",
          "a-572",
          "44w",
          "12 ga alumizd",
          "16 ga alumizd",
          "18#4",
          "7029-061",
          "ms-200amps",
          "ms g50 80amp",
          "hr",
          "qt-130amps",
          "ct",
          "sus",
          "ms-130amps-o2/air",
          "gr300",
          "grade a",
          "aisi-304",
          "galv 10",
          "gr50s1s3s4s5m",
          "ar 200"
         ],
         "xaxis": "x",
         "y": [
          4072515,
          191961,
          167863,
          86198,
          82536,
          68702,
          50936,
          42976,
          42227,
          28730,
          17978,
          17950,
          17006,
          16182,
          16051,
          15364,
          15040,
          13499,
          13411,
          12802,
          12629,
          11711,
          11239,
          11213,
          10449,
          10222,
          9724,
          9168,
          9121,
          8737,
          7898,
          7214,
          6913,
          6234,
          5606,
          5458,
          5413,
          5401,
          5383,
          5212,
          5206,
          5063,
          4977,
          4974,
          4965,
          4836,
          4817,
          4776,
          4771,
          4738,
          4711,
          4711,
          4706,
          4564,
          4536,
          4389,
          4378,
          4333,
          4132,
          4021,
          4000,
          3854,
          3847,
          3762,
          3569,
          3554,
          3551,
          3543,
          3541,
          3517,
          3502,
          3274,
          3136,
          3109,
          3104,
          3091,
          3064,
          3055,
          3054,
          3053,
          2970,
          2964,
          2962,
          2915,
          2880,
          2832,
          2781,
          2687,
          2582,
          2549,
          2508,
          2489,
          2475,
          2406,
          2393,
          2339,
          2326,
          2101,
          2096,
          2060
         ],
         "yaxis": "y"
        }
       ],
       "layout": {
        "barmode": "relative",
        "legend": {
         "tracegroupgap": 0
        },
        "template": {
         "data": {
          "bar": [
           {
            "error_x": {
             "color": "#2a3f5f"
            },
            "error_y": {
             "color": "#2a3f5f"
            },
            "marker": {
             "line": {
              "color": "#E5ECF6",
              "width": 0.5
             },
             "pattern": {
              "fillmode": "overlay",
              "size": 10,
              "solidity": 0.2
             }
            },
            "type": "bar"
           }
          ],
          "barpolar": [
           {
            "marker": {
             "line": {
              "color": "#E5ECF6",
              "width": 0.5
             },
             "pattern": {
              "fillmode": "overlay",
              "size": 10,
              "solidity": 0.2
             }
            },
            "type": "barpolar"
           }
          ],
          "carpet": [
           {
            "aaxis": {
             "endlinecolor": "#2a3f5f",
             "gridcolor": "white",
             "linecolor": "white",
             "minorgridcolor": "white",
             "startlinecolor": "#2a3f5f"
            },
            "baxis": {
             "endlinecolor": "#2a3f5f",
             "gridcolor": "white",
             "linecolor": "white",
             "minorgridcolor": "white",
             "startlinecolor": "#2a3f5f"
            },
            "type": "carpet"
           }
          ],
          "choropleth": [
           {
            "colorbar": {
             "outlinewidth": 0,
             "ticks": ""
            },
            "type": "choropleth"
           }
          ],
          "contour": [
           {
            "colorbar": {
             "outlinewidth": 0,
             "ticks": ""
            },
            "colorscale": [
             [
              0,
              "#0d0887"
             ],
             [
              0.1111111111111111,
              "#46039f"
             ],
             [
              0.2222222222222222,
              "#7201a8"
             ],
             [
              0.3333333333333333,
              "#9c179e"
             ],
             [
              0.4444444444444444,
              "#bd3786"
             ],
             [
              0.5555555555555556,
              "#d8576b"
             ],
             [
              0.6666666666666666,
              "#ed7953"
             ],
             [
              0.7777777777777778,
              "#fb9f3a"
             ],
             [
              0.8888888888888888,
              "#fdca26"
             ],
             [
              1,
              "#f0f921"
             ]
            ],
            "type": "contour"
           }
          ],
          "contourcarpet": [
           {
            "colorbar": {
             "outlinewidth": 0,
             "ticks": ""
            },
            "type": "contourcarpet"
           }
          ],
          "heatmap": [
           {
            "colorbar": {
             "outlinewidth": 0,
             "ticks": ""
            },
            "colorscale": [
             [
              0,
              "#0d0887"
             ],
             [
              0.1111111111111111,
              "#46039f"
             ],
             [
              0.2222222222222222,
              "#7201a8"
             ],
             [
              0.3333333333333333,
              "#9c179e"
             ],
             [
              0.4444444444444444,
              "#bd3786"
             ],
             [
              0.5555555555555556,
              "#d8576b"
             ],
             [
              0.6666666666666666,
              "#ed7953"
             ],
             [
              0.7777777777777778,
              "#fb9f3a"
             ],
             [
              0.8888888888888888,
              "#fdca26"
             ],
             [
              1,
              "#f0f921"
             ]
            ],
            "type": "heatmap"
           }
          ],
          "heatmapgl": [
           {
            "colorbar": {
             "outlinewidth": 0,
             "ticks": ""
            },
            "colorscale": [
             [
              0,
              "#0d0887"
             ],
             [
              0.1111111111111111,
              "#46039f"
             ],
             [
              0.2222222222222222,
              "#7201a8"
             ],
             [
              0.3333333333333333,
              "#9c179e"
             ],
             [
              0.4444444444444444,
              "#bd3786"
             ],
             [
              0.5555555555555556,
              "#d8576b"
             ],
             [
              0.6666666666666666,
              "#ed7953"
             ],
             [
              0.7777777777777778,
              "#fb9f3a"
             ],
             [
              0.8888888888888888,
              "#fdca26"
             ],
             [
              1,
              "#f0f921"
             ]
            ],
            "type": "heatmapgl"
           }
          ],
          "histogram": [
           {
            "marker": {
             "pattern": {
              "fillmode": "overlay",
              "size": 10,
              "solidity": 0.2
             }
            },
            "type": "histogram"
           }
          ],
          "histogram2d": [
           {
            "colorbar": {
             "outlinewidth": 0,
             "ticks": ""
            },
            "colorscale": [
             [
              0,
              "#0d0887"
             ],
             [
              0.1111111111111111,
              "#46039f"
             ],
             [
              0.2222222222222222,
              "#7201a8"
             ],
             [
              0.3333333333333333,
              "#9c179e"
             ],
             [
              0.4444444444444444,
              "#bd3786"
             ],
             [
              0.5555555555555556,
              "#d8576b"
             ],
             [
              0.6666666666666666,
              "#ed7953"
             ],
             [
              0.7777777777777778,
              "#fb9f3a"
             ],
             [
              0.8888888888888888,
              "#fdca26"
             ],
             [
              1,
              "#f0f921"
             ]
            ],
            "type": "histogram2d"
           }
          ],
          "histogram2dcontour": [
           {
            "colorbar": {
             "outlinewidth": 0,
             "ticks": ""
            },
            "colorscale": [
             [
              0,
              "#0d0887"
             ],
             [
              0.1111111111111111,
              "#46039f"
             ],
             [
              0.2222222222222222,
              "#7201a8"
             ],
             [
              0.3333333333333333,
              "#9c179e"
             ],
             [
              0.4444444444444444,
              "#bd3786"
             ],
             [
              0.5555555555555556,
              "#d8576b"
             ],
             [
              0.6666666666666666,
              "#ed7953"
             ],
             [
              0.7777777777777778,
              "#fb9f3a"
             ],
             [
              0.8888888888888888,
              "#fdca26"
             ],
             [
              1,
              "#f0f921"
             ]
            ],
            "type": "histogram2dcontour"
           }
          ],
          "mesh3d": [
           {
            "colorbar": {
             "outlinewidth": 0,
             "ticks": ""
            },
            "type": "mesh3d"
           }
          ],
          "parcoords": [
           {
            "line": {
             "colorbar": {
              "outlinewidth": 0,
              "ticks": ""
             }
            },
            "type": "parcoords"
           }
          ],
          "pie": [
           {
            "automargin": true,
            "type": "pie"
           }
          ],
          "scatter": [
           {
            "marker": {
             "colorbar": {
              "outlinewidth": 0,
              "ticks": ""
             }
            },
            "type": "scatter"
           }
          ],
          "scatter3d": [
           {
            "line": {
             "colorbar": {
              "outlinewidth": 0,
              "ticks": ""
             }
            },
            "marker": {
             "colorbar": {
              "outlinewidth": 0,
              "ticks": ""
             }
            },
            "type": "scatter3d"
           }
          ],
          "scattercarpet": [
           {
            "marker": {
             "colorbar": {
              "outlinewidth": 0,
              "ticks": ""
             }
            },
            "type": "scattercarpet"
           }
          ],
          "scattergeo": [
           {
            "marker": {
             "colorbar": {
              "outlinewidth": 0,
              "ticks": ""
             }
            },
            "type": "scattergeo"
           }
          ],
          "scattergl": [
           {
            "marker": {
             "colorbar": {
              "outlinewidth": 0,
              "ticks": ""
             }
            },
            "type": "scattergl"
           }
          ],
          "scattermapbox": [
           {
            "marker": {
             "colorbar": {
              "outlinewidth": 0,
              "ticks": ""
             }
            },
            "type": "scattermapbox"
           }
          ],
          "scatterpolar": [
           {
            "marker": {
             "colorbar": {
              "outlinewidth": 0,
              "ticks": ""
             }
            },
            "type": "scatterpolar"
           }
          ],
          "scatterpolargl": [
           {
            "marker": {
             "colorbar": {
              "outlinewidth": 0,
              "ticks": ""
             }
            },
            "type": "scatterpolargl"
           }
          ],
          "scatterternary": [
           {
            "marker": {
             "colorbar": {
              "outlinewidth": 0,
              "ticks": ""
             }
            },
            "type": "scatterternary"
           }
          ],
          "surface": [
           {
            "colorbar": {
             "outlinewidth": 0,
             "ticks": ""
            },
            "colorscale": [
             [
              0,
              "#0d0887"
             ],
             [
              0.1111111111111111,
              "#46039f"
             ],
             [
              0.2222222222222222,
              "#7201a8"
             ],
             [
              0.3333333333333333,
              "#9c179e"
             ],
             [
              0.4444444444444444,
              "#bd3786"
             ],
             [
              0.5555555555555556,
              "#d8576b"
             ],
             [
              0.6666666666666666,
              "#ed7953"
             ],
             [
              0.7777777777777778,
              "#fb9f3a"
             ],
             [
              0.8888888888888888,
              "#fdca26"
             ],
             [
              1,
              "#f0f921"
             ]
            ],
            "type": "surface"
           }
          ],
          "table": [
           {
            "cells": {
             "fill": {
              "color": "#EBF0F8"
             },
             "line": {
              "color": "white"
             }
            },
            "header": {
             "fill": {
              "color": "#C8D4E3"
             },
             "line": {
              "color": "white"
             }
            },
            "type": "table"
           }
          ]
         },
         "layout": {
          "annotationdefaults": {
           "arrowcolor": "#2a3f5f",
           "arrowhead": 0,
           "arrowwidth": 1
          },
          "autotypenumbers": "strict",
          "coloraxis": {
           "colorbar": {
            "outlinewidth": 0,
            "ticks": ""
           }
          },
          "colorscale": {
           "diverging": [
            [
             0,
             "#8e0152"
            ],
            [
             0.1,
             "#c51b7d"
            ],
            [
             0.2,
             "#de77ae"
            ],
            [
             0.3,
             "#f1b6da"
            ],
            [
             0.4,
             "#fde0ef"
            ],
            [
             0.5,
             "#f7f7f7"
            ],
            [
             0.6,
             "#e6f5d0"
            ],
            [
             0.7,
             "#b8e186"
            ],
            [
             0.8,
             "#7fbc41"
            ],
            [
             0.9,
             "#4d9221"
            ],
            [
             1,
             "#276419"
            ]
           ],
           "sequential": [
            [
             0,
             "#0d0887"
            ],
            [
             0.1111111111111111,
             "#46039f"
            ],
            [
             0.2222222222222222,
             "#7201a8"
            ],
            [
             0.3333333333333333,
             "#9c179e"
            ],
            [
             0.4444444444444444,
             "#bd3786"
            ],
            [
             0.5555555555555556,
             "#d8576b"
            ],
            [
             0.6666666666666666,
             "#ed7953"
            ],
            [
             0.7777777777777778,
             "#fb9f3a"
            ],
            [
             0.8888888888888888,
             "#fdca26"
            ],
            [
             1,
             "#f0f921"
            ]
           ],
           "sequentialminus": [
            [
             0,
             "#0d0887"
            ],
            [
             0.1111111111111111,
             "#46039f"
            ],
            [
             0.2222222222222222,
             "#7201a8"
            ],
            [
             0.3333333333333333,
             "#9c179e"
            ],
            [
             0.4444444444444444,
             "#bd3786"
            ],
            [
             0.5555555555555556,
             "#d8576b"
            ],
            [
             0.6666666666666666,
             "#ed7953"
            ],
            [
             0.7777777777777778,
             "#fb9f3a"
            ],
            [
             0.8888888888888888,
             "#fdca26"
            ],
            [
             1,
             "#f0f921"
            ]
           ]
          },
          "colorway": [
           "#636efa",
           "#EF553B",
           "#00cc96",
           "#ab63fa",
           "#FFA15A",
           "#19d3f3",
           "#FF6692",
           "#B6E880",
           "#FF97FF",
           "#FECB52"
          ],
          "font": {
           "color": "#2a3f5f"
          },
          "geo": {
           "bgcolor": "white",
           "lakecolor": "white",
           "landcolor": "#E5ECF6",
           "showlakes": true,
           "showland": true,
           "subunitcolor": "white"
          },
          "hoverlabel": {
           "align": "left"
          },
          "hovermode": "closest",
          "mapbox": {
           "style": "light"
          },
          "paper_bgcolor": "white",
          "plot_bgcolor": "#E5ECF6",
          "polar": {
           "angularaxis": {
            "gridcolor": "white",
            "linecolor": "white",
            "ticks": ""
           },
           "bgcolor": "#E5ECF6",
           "radialaxis": {
            "gridcolor": "white",
            "linecolor": "white",
            "ticks": ""
           }
          },
          "scene": {
           "xaxis": {
            "backgroundcolor": "#E5ECF6",
            "gridcolor": "white",
            "gridwidth": 2,
            "linecolor": "white",
            "showbackground": true,
            "ticks": "",
            "zerolinecolor": "white"
           },
           "yaxis": {
            "backgroundcolor": "#E5ECF6",
            "gridcolor": "white",
            "gridwidth": 2,
            "linecolor": "white",
            "showbackground": true,
            "ticks": "",
            "zerolinecolor": "white"
           },
           "zaxis": {
            "backgroundcolor": "#E5ECF6",
            "gridcolor": "white",
            "gridwidth": 2,
            "linecolor": "white",
            "showbackground": true,
            "ticks": "",
            "zerolinecolor": "white"
           }
          },
          "shapedefaults": {
           "line": {
            "color": "#2a3f5f"
           }
          },
          "ternary": {
           "aaxis": {
            "gridcolor": "white",
            "linecolor": "white",
            "ticks": ""
           },
           "baxis": {
            "gridcolor": "white",
            "linecolor": "white",
            "ticks": ""
           },
           "bgcolor": "#E5ECF6",
           "caxis": {
            "gridcolor": "white",
            "linecolor": "white",
            "ticks": ""
           }
          },
          "title": {
           "x": 0.05
          },
          "xaxis": {
           "automargin": true,
           "gridcolor": "white",
           "linecolor": "white",
           "ticks": "",
           "title": {
            "standoff": 15
           },
           "zerolinecolor": "white",
           "zerolinewidth": 2
          },
          "yaxis": {
           "automargin": true,
           "gridcolor": "white",
           "linecolor": "white",
           "ticks": "",
           "title": {
            "standoff": 15
           },
           "zerolinecolor": "white",
           "zerolinewidth": 2
          }
         }
        },
        "title": {
         "text": "Distribution of Top 100 Material Types"
        },
        "xaxis": {
         "anchor": "y",
         "domain": [
          0,
          1
         ],
         "title": {
          "text": "Material"
         }
        },
        "yaxis": {
         "anchor": "x",
         "domain": [
          0,
          1
         ],
         "title": {
          "text": "Count"
         }
        }
       }
      }
     },
     "metadata": {},
     "output_type": "display_data"
    }
   ],
   "source": [
    "# Count the different material types\n",
    "material_counts = training_df['Material'].value_counts()\n",
    "# results: 4,072,515 rows are MS, the next most is SS with 191,961 \n",
    "\n",
    "# count the number of unique materials\n",
    "nunique_materials = training_df.Material.nunique()\n",
    "print(f'There are {nunique_materials} unique materials in the dataset.')\n",
    "\n",
    "# Convert the Series to a DataFrame\n",
    "material_counts_df = material_counts.reset_index()\n",
    "\n",
    "# Rename the columns for clarity\n",
    "material_counts_df.columns = ['Material', 'Count']\n",
    "\n",
    "# Sort the DataFrame by the 'Count' column in descending order and take the top 30 rows\n",
    "top_material_counts_df = material_counts_df.sort_values('Count', ascending=False).head(100)\n",
    "\n",
    "# Create a bar chart for the top 30 materials\n",
    "fig = px.bar(top_material_counts_df, x='Material', y='Count', title='Distribution of Top 100 Material Types')\n",
    "fig.show()"
   ]
  },
  {
   "cell_type": "code",
   "execution_count": 7,
   "metadata": {},
   "outputs": [],
   "source": [
    "# remove all rows that do not have mild steel (ms) as the Material\n",
    "\n",
    "# drop all the NA values from Material, Keep only the rows where Material contains 'ms'\n",
    "training_df = training_df.dropna(subset=['Material'])\n",
    "training_df = training_df[training_df['Material'] == 'ms']\n",
    "\n",
    "# Drop the Material column from the dataframe - don't need it anymore \n",
    "encoded_df = training_df.drop(columns=['Material'])"
   ]
  },
  {
   "cell_type": "code",
   "execution_count": 14,
   "metadata": {},
   "outputs": [],
   "source": [
    "# re-encode the fStrategies column \n",
    "\n",
    "# fStrategies = int \n",
    "# This is a bitmask comprised of the following nesting strategies:\n",
    "\n",
    "# 0x00000000 = None\n",
    "# 0x00000001 = Strategy1\n",
    "# 0x00000002 = Strategy2\t\n",
    "# 0x00000004 = Strategy3\t\n",
    "# 0x00000008 = Strategy4\t\n",
    "# 0x00000010 = Strategy5\t\n",
    "# 0x00000020 = Strategy6\t\n",
    "# 0x00000040 = Strategy7\t\n",
    "# 0x00000080 = Strategy8\t\n",
    "# 0x00000100 = Strategy9\t\n",
    "# 0x00000200 = Strategy10\t\n",
    "# 0x00000400 = Block nesting\t\n",
    "# 0x00000800 = Block optimization \n",
    "# 0x00001000 = IntelliNest\t\n",
    "# 0x00002000 = IC Profile nesting\t\n",
    "# 0x00004000 = IC Pattern and fill\n",
    "# 0x80000000 = Manual nesting\t\n",
    "\n",
    "# convert the bitmask values in the fStrategies to the string -> one-hot-encoding \n",
    "# result: \n",
    "# or is it good to use a bitmask? what problems might that lead to? is it good? \n",
    "\n",
    "# ?? what does it mean when it has a strategy in fStrategies AND one in ixAutoNestStrategy? \n",
    "\n",
    "# !! ask Mark - can we safely assume that if fStrategies uses IntelliNest, ixAutoNestStrategy is IntelliNest? \n",
    "# What additional info does ixAutoNestStrategy give us? \n",
    "\n",
    "# ?? Can a given Job use both manual nesting (chosen strategies in fStrategies) AND IntelliNest? \n",
    "\n",
    "# can also do a classifer that tries to predict the strategy used given the other columns (part characteristics)\n",
    "\n",
    "# next step: can you make a multi-class classifier + regression model? \n",
    "\n",
    "# classify the strategy -> classify the strategy that yields the optimal util, GIVEN the part characteristics"
   ]
  },
  {
   "cell_type": "code",
   "execution_count": 8,
   "metadata": {},
   "outputs": [
    {
     "data": {
      "application/vnd.plotly.v1+json": {
       "config": {
        "plotlyServerURL": "https://plot.ly"
       },
       "data": [
        {
         "domain": {
          "x": [
           0,
           1
          ],
          "y": [
           0,
           1
          ]
         },
         "hovertemplate": "index=%{label}<br>value=%{value}<extra></extra>",
         "labels": [
          "IntelliChoice",
          "Strategy_4",
          "Strategy_10",
          "Strategy_1",
          "Strategy_5",
          "Strategy_3",
          "Rectangular",
          "Rectangular_Optimization",
          "Strategy_8",
          "Strategy_9",
          "Strategy_2",
          "Strategy_6",
          "Strategy_7"
         ],
         "legendgroup": "",
         "name": "",
         "showlegend": true,
         "type": "pie",
         "values": [
          1643612,
          1168220,
          359470,
          286109,
          124727,
          86669,
          76583,
          65074,
          62512,
          58105,
          53312,
          45102,
          43020
         ]
        }
       ],
       "layout": {
        "legend": {
         "tracegroupgap": 0
        },
        "template": {
         "data": {
          "bar": [
           {
            "error_x": {
             "color": "#2a3f5f"
            },
            "error_y": {
             "color": "#2a3f5f"
            },
            "marker": {
             "line": {
              "color": "#E5ECF6",
              "width": 0.5
             },
             "pattern": {
              "fillmode": "overlay",
              "size": 10,
              "solidity": 0.2
             }
            },
            "type": "bar"
           }
          ],
          "barpolar": [
           {
            "marker": {
             "line": {
              "color": "#E5ECF6",
              "width": 0.5
             },
             "pattern": {
              "fillmode": "overlay",
              "size": 10,
              "solidity": 0.2
             }
            },
            "type": "barpolar"
           }
          ],
          "carpet": [
           {
            "aaxis": {
             "endlinecolor": "#2a3f5f",
             "gridcolor": "white",
             "linecolor": "white",
             "minorgridcolor": "white",
             "startlinecolor": "#2a3f5f"
            },
            "baxis": {
             "endlinecolor": "#2a3f5f",
             "gridcolor": "white",
             "linecolor": "white",
             "minorgridcolor": "white",
             "startlinecolor": "#2a3f5f"
            },
            "type": "carpet"
           }
          ],
          "choropleth": [
           {
            "colorbar": {
             "outlinewidth": 0,
             "ticks": ""
            },
            "type": "choropleth"
           }
          ],
          "contour": [
           {
            "colorbar": {
             "outlinewidth": 0,
             "ticks": ""
            },
            "colorscale": [
             [
              0,
              "#0d0887"
             ],
             [
              0.1111111111111111,
              "#46039f"
             ],
             [
              0.2222222222222222,
              "#7201a8"
             ],
             [
              0.3333333333333333,
              "#9c179e"
             ],
             [
              0.4444444444444444,
              "#bd3786"
             ],
             [
              0.5555555555555556,
              "#d8576b"
             ],
             [
              0.6666666666666666,
              "#ed7953"
             ],
             [
              0.7777777777777778,
              "#fb9f3a"
             ],
             [
              0.8888888888888888,
              "#fdca26"
             ],
             [
              1,
              "#f0f921"
             ]
            ],
            "type": "contour"
           }
          ],
          "contourcarpet": [
           {
            "colorbar": {
             "outlinewidth": 0,
             "ticks": ""
            },
            "type": "contourcarpet"
           }
          ],
          "heatmap": [
           {
            "colorbar": {
             "outlinewidth": 0,
             "ticks": ""
            },
            "colorscale": [
             [
              0,
              "#0d0887"
             ],
             [
              0.1111111111111111,
              "#46039f"
             ],
             [
              0.2222222222222222,
              "#7201a8"
             ],
             [
              0.3333333333333333,
              "#9c179e"
             ],
             [
              0.4444444444444444,
              "#bd3786"
             ],
             [
              0.5555555555555556,
              "#d8576b"
             ],
             [
              0.6666666666666666,
              "#ed7953"
             ],
             [
              0.7777777777777778,
              "#fb9f3a"
             ],
             [
              0.8888888888888888,
              "#fdca26"
             ],
             [
              1,
              "#f0f921"
             ]
            ],
            "type": "heatmap"
           }
          ],
          "heatmapgl": [
           {
            "colorbar": {
             "outlinewidth": 0,
             "ticks": ""
            },
            "colorscale": [
             [
              0,
              "#0d0887"
             ],
             [
              0.1111111111111111,
              "#46039f"
             ],
             [
              0.2222222222222222,
              "#7201a8"
             ],
             [
              0.3333333333333333,
              "#9c179e"
             ],
             [
              0.4444444444444444,
              "#bd3786"
             ],
             [
              0.5555555555555556,
              "#d8576b"
             ],
             [
              0.6666666666666666,
              "#ed7953"
             ],
             [
              0.7777777777777778,
              "#fb9f3a"
             ],
             [
              0.8888888888888888,
              "#fdca26"
             ],
             [
              1,
              "#f0f921"
             ]
            ],
            "type": "heatmapgl"
           }
          ],
          "histogram": [
           {
            "marker": {
             "pattern": {
              "fillmode": "overlay",
              "size": 10,
              "solidity": 0.2
             }
            },
            "type": "histogram"
           }
          ],
          "histogram2d": [
           {
            "colorbar": {
             "outlinewidth": 0,
             "ticks": ""
            },
            "colorscale": [
             [
              0,
              "#0d0887"
             ],
             [
              0.1111111111111111,
              "#46039f"
             ],
             [
              0.2222222222222222,
              "#7201a8"
             ],
             [
              0.3333333333333333,
              "#9c179e"
             ],
             [
              0.4444444444444444,
              "#bd3786"
             ],
             [
              0.5555555555555556,
              "#d8576b"
             ],
             [
              0.6666666666666666,
              "#ed7953"
             ],
             [
              0.7777777777777778,
              "#fb9f3a"
             ],
             [
              0.8888888888888888,
              "#fdca26"
             ],
             [
              1,
              "#f0f921"
             ]
            ],
            "type": "histogram2d"
           }
          ],
          "histogram2dcontour": [
           {
            "colorbar": {
             "outlinewidth": 0,
             "ticks": ""
            },
            "colorscale": [
             [
              0,
              "#0d0887"
             ],
             [
              0.1111111111111111,
              "#46039f"
             ],
             [
              0.2222222222222222,
              "#7201a8"
             ],
             [
              0.3333333333333333,
              "#9c179e"
             ],
             [
              0.4444444444444444,
              "#bd3786"
             ],
             [
              0.5555555555555556,
              "#d8576b"
             ],
             [
              0.6666666666666666,
              "#ed7953"
             ],
             [
              0.7777777777777778,
              "#fb9f3a"
             ],
             [
              0.8888888888888888,
              "#fdca26"
             ],
             [
              1,
              "#f0f921"
             ]
            ],
            "type": "histogram2dcontour"
           }
          ],
          "mesh3d": [
           {
            "colorbar": {
             "outlinewidth": 0,
             "ticks": ""
            },
            "type": "mesh3d"
           }
          ],
          "parcoords": [
           {
            "line": {
             "colorbar": {
              "outlinewidth": 0,
              "ticks": ""
             }
            },
            "type": "parcoords"
           }
          ],
          "pie": [
           {
            "automargin": true,
            "type": "pie"
           }
          ],
          "scatter": [
           {
            "marker": {
             "colorbar": {
              "outlinewidth": 0,
              "ticks": ""
             }
            },
            "type": "scatter"
           }
          ],
          "scatter3d": [
           {
            "line": {
             "colorbar": {
              "outlinewidth": 0,
              "ticks": ""
             }
            },
            "marker": {
             "colorbar": {
              "outlinewidth": 0,
              "ticks": ""
             }
            },
            "type": "scatter3d"
           }
          ],
          "scattercarpet": [
           {
            "marker": {
             "colorbar": {
              "outlinewidth": 0,
              "ticks": ""
             }
            },
            "type": "scattercarpet"
           }
          ],
          "scattergeo": [
           {
            "marker": {
             "colorbar": {
              "outlinewidth": 0,
              "ticks": ""
             }
            },
            "type": "scattergeo"
           }
          ],
          "scattergl": [
           {
            "marker": {
             "colorbar": {
              "outlinewidth": 0,
              "ticks": ""
             }
            },
            "type": "scattergl"
           }
          ],
          "scattermapbox": [
           {
            "marker": {
             "colorbar": {
              "outlinewidth": 0,
              "ticks": ""
             }
            },
            "type": "scattermapbox"
           }
          ],
          "scatterpolar": [
           {
            "marker": {
             "colorbar": {
              "outlinewidth": 0,
              "ticks": ""
             }
            },
            "type": "scatterpolar"
           }
          ],
          "scatterpolargl": [
           {
            "marker": {
             "colorbar": {
              "outlinewidth": 0,
              "ticks": ""
             }
            },
            "type": "scatterpolargl"
           }
          ],
          "scatterternary": [
           {
            "marker": {
             "colorbar": {
              "outlinewidth": 0,
              "ticks": ""
             }
            },
            "type": "scatterternary"
           }
          ],
          "surface": [
           {
            "colorbar": {
             "outlinewidth": 0,
             "ticks": ""
            },
            "colorscale": [
             [
              0,
              "#0d0887"
             ],
             [
              0.1111111111111111,
              "#46039f"
             ],
             [
              0.2222222222222222,
              "#7201a8"
             ],
             [
              0.3333333333333333,
              "#9c179e"
             ],
             [
              0.4444444444444444,
              "#bd3786"
             ],
             [
              0.5555555555555556,
              "#d8576b"
             ],
             [
              0.6666666666666666,
              "#ed7953"
             ],
             [
              0.7777777777777778,
              "#fb9f3a"
             ],
             [
              0.8888888888888888,
              "#fdca26"
             ],
             [
              1,
              "#f0f921"
             ]
            ],
            "type": "surface"
           }
          ],
          "table": [
           {
            "cells": {
             "fill": {
              "color": "#EBF0F8"
             },
             "line": {
              "color": "white"
             }
            },
            "header": {
             "fill": {
              "color": "#C8D4E3"
             },
             "line": {
              "color": "white"
             }
            },
            "type": "table"
           }
          ]
         },
         "layout": {
          "annotationdefaults": {
           "arrowcolor": "#2a3f5f",
           "arrowhead": 0,
           "arrowwidth": 1
          },
          "autotypenumbers": "strict",
          "coloraxis": {
           "colorbar": {
            "outlinewidth": 0,
            "ticks": ""
           }
          },
          "colorscale": {
           "diverging": [
            [
             0,
             "#8e0152"
            ],
            [
             0.1,
             "#c51b7d"
            ],
            [
             0.2,
             "#de77ae"
            ],
            [
             0.3,
             "#f1b6da"
            ],
            [
             0.4,
             "#fde0ef"
            ],
            [
             0.5,
             "#f7f7f7"
            ],
            [
             0.6,
             "#e6f5d0"
            ],
            [
             0.7,
             "#b8e186"
            ],
            [
             0.8,
             "#7fbc41"
            ],
            [
             0.9,
             "#4d9221"
            ],
            [
             1,
             "#276419"
            ]
           ],
           "sequential": [
            [
             0,
             "#0d0887"
            ],
            [
             0.1111111111111111,
             "#46039f"
            ],
            [
             0.2222222222222222,
             "#7201a8"
            ],
            [
             0.3333333333333333,
             "#9c179e"
            ],
            [
             0.4444444444444444,
             "#bd3786"
            ],
            [
             0.5555555555555556,
             "#d8576b"
            ],
            [
             0.6666666666666666,
             "#ed7953"
            ],
            [
             0.7777777777777778,
             "#fb9f3a"
            ],
            [
             0.8888888888888888,
             "#fdca26"
            ],
            [
             1,
             "#f0f921"
            ]
           ],
           "sequentialminus": [
            [
             0,
             "#0d0887"
            ],
            [
             0.1111111111111111,
             "#46039f"
            ],
            [
             0.2222222222222222,
             "#7201a8"
            ],
            [
             0.3333333333333333,
             "#9c179e"
            ],
            [
             0.4444444444444444,
             "#bd3786"
            ],
            [
             0.5555555555555556,
             "#d8576b"
            ],
            [
             0.6666666666666666,
             "#ed7953"
            ],
            [
             0.7777777777777778,
             "#fb9f3a"
            ],
            [
             0.8888888888888888,
             "#fdca26"
            ],
            [
             1,
             "#f0f921"
            ]
           ]
          },
          "colorway": [
           "#636efa",
           "#EF553B",
           "#00cc96",
           "#ab63fa",
           "#FFA15A",
           "#19d3f3",
           "#FF6692",
           "#B6E880",
           "#FF97FF",
           "#FECB52"
          ],
          "font": {
           "color": "#2a3f5f"
          },
          "geo": {
           "bgcolor": "white",
           "lakecolor": "white",
           "landcolor": "#E5ECF6",
           "showlakes": true,
           "showland": true,
           "subunitcolor": "white"
          },
          "hoverlabel": {
           "align": "left"
          },
          "hovermode": "closest",
          "mapbox": {
           "style": "light"
          },
          "paper_bgcolor": "white",
          "plot_bgcolor": "#E5ECF6",
          "polar": {
           "angularaxis": {
            "gridcolor": "white",
            "linecolor": "white",
            "ticks": ""
           },
           "bgcolor": "#E5ECF6",
           "radialaxis": {
            "gridcolor": "white",
            "linecolor": "white",
            "ticks": ""
           }
          },
          "scene": {
           "xaxis": {
            "backgroundcolor": "#E5ECF6",
            "gridcolor": "white",
            "gridwidth": 2,
            "linecolor": "white",
            "showbackground": true,
            "ticks": "",
            "zerolinecolor": "white"
           },
           "yaxis": {
            "backgroundcolor": "#E5ECF6",
            "gridcolor": "white",
            "gridwidth": 2,
            "linecolor": "white",
            "showbackground": true,
            "ticks": "",
            "zerolinecolor": "white"
           },
           "zaxis": {
            "backgroundcolor": "#E5ECF6",
            "gridcolor": "white",
            "gridwidth": 2,
            "linecolor": "white",
            "showbackground": true,
            "ticks": "",
            "zerolinecolor": "white"
           }
          },
          "shapedefaults": {
           "line": {
            "color": "#2a3f5f"
           }
          },
          "ternary": {
           "aaxis": {
            "gridcolor": "white",
            "linecolor": "white",
            "ticks": ""
           },
           "baxis": {
            "gridcolor": "white",
            "linecolor": "white",
            "ticks": ""
           },
           "bgcolor": "#E5ECF6",
           "caxis": {
            "gridcolor": "white",
            "linecolor": "white",
            "ticks": ""
           }
          },
          "title": {
           "x": 0.05
          },
          "xaxis": {
           "automargin": true,
           "gridcolor": "white",
           "linecolor": "white",
           "ticks": "",
           "title": {
            "standoff": 15
           },
           "zerolinecolor": "white",
           "zerolinewidth": 2
          },
          "yaxis": {
           "automargin": true,
           "gridcolor": "white",
           "linecolor": "white",
           "ticks": "",
           "title": {
            "standoff": 15
           },
           "zerolinecolor": "white",
           "zerolinewidth": 2
          }
         }
        },
        "title": {
         "text": "Distribution of Strategies Used in AutoNest"
        }
       }
      }
     },
     "metadata": {},
     "output_type": "display_data"
    }
   ],
   "source": [
    "# Load the dictionary from the JSON file\n",
    "with open('../CEIP_csv/AutoNestStrategy.json', 'r') as f:\n",
    "    autoneststrategy_dict = json.load(f)\n",
    "    \n",
    "#  Convert ixAutoNestStrategy to string\n",
    "encoded_df['ixAutoNestStrategy'] = encoded_df['ixAutoNestStrategy'].astype(str)\n",
    "\n",
    "# Replace the ixAutoNestStrategy values in the DataFrame\n",
    "encoded_df['ixAutoNestStrategy'] = encoded_df['ixAutoNestStrategy'].map(autoneststrategy_dict)\n",
    "\n",
    "# Count the different strategies\n",
    "strategy_counts = encoded_df['ixAutoNestStrategy'].value_counts()\n",
    "\n",
    "# Create a pie chart directly from the Series\n",
    "fig = px.pie(strategy_counts, values=strategy_counts.values, names=strategy_counts.index, \n",
    "             title='Distribution of Strategies Used in AutoNest')\n",
    "fig.show()"
   ]
  },
  {
   "cell_type": "code",
   "execution_count": 9,
   "metadata": {},
   "outputs": [
    {
     "data": {
      "text/html": [
       "<div>\n",
       "<style scoped>\n",
       "    .dataframe tbody tr th:only-of-type {\n",
       "        vertical-align: middle;\n",
       "    }\n",
       "\n",
       "    .dataframe tbody tr th {\n",
       "        vertical-align: top;\n",
       "    }\n",
       "\n",
       "    .dataframe thead th {\n",
       "        text-align: right;\n",
       "    }\n",
       "</style>\n",
       "<table border=\"1\" class=\"dataframe\">\n",
       "  <thead>\n",
       "    <tr style=\"text-align: right;\">\n",
       "      <th></th>\n",
       "      <th>ixJobSummary</th>\n",
       "      <th>ixNest</th>\n",
       "      <th>ixPart</th>\n",
       "      <th>dPartTrueArea</th>\n",
       "      <th>cRequired</th>\n",
       "      <th>cNested</th>\n",
       "      <th>fExtShape</th>\n",
       "      <th>dExtArea</th>\n",
       "      <th>dExtBoundaryDist</th>\n",
       "      <th>dExtContainedDist</th>\n",
       "      <th>...</th>\n",
       "      <th>_Strategy_1</th>\n",
       "      <th>_Strategy_10</th>\n",
       "      <th>_Strategy_2</th>\n",
       "      <th>_Strategy_3</th>\n",
       "      <th>_Strategy_4</th>\n",
       "      <th>_Strategy_5</th>\n",
       "      <th>_Strategy_6</th>\n",
       "      <th>_Strategy_7</th>\n",
       "      <th>_Strategy_8</th>\n",
       "      <th>_Strategy_9</th>\n",
       "    </tr>\n",
       "  </thead>\n",
       "  <tbody>\n",
       "    <tr>\n",
       "      <th>0</th>\n",
       "      <td>304409</td>\n",
       "      <td>746165</td>\n",
       "      <td>2377314</td>\n",
       "      <td>151.1253</td>\n",
       "      <td>5</td>\n",
       "      <td>5</td>\n",
       "      <td>0</td>\n",
       "      <td>151.1253</td>\n",
       "      <td>4.7891</td>\n",
       "      <td>15.8795</td>\n",
       "      <td>...</td>\n",
       "      <td>0</td>\n",
       "      <td>0</td>\n",
       "      <td>0</td>\n",
       "      <td>0</td>\n",
       "      <td>1</td>\n",
       "      <td>0</td>\n",
       "      <td>0</td>\n",
       "      <td>0</td>\n",
       "      <td>0</td>\n",
       "      <td>0</td>\n",
       "    </tr>\n",
       "    <tr>\n",
       "      <th>1</th>\n",
       "      <td>304409</td>\n",
       "      <td>746165</td>\n",
       "      <td>2377315</td>\n",
       "      <td>49.5807</td>\n",
       "      <td>10</td>\n",
       "      <td>10</td>\n",
       "      <td>0</td>\n",
       "      <td>49.5807</td>\n",
       "      <td>3.1157</td>\n",
       "      <td>9.9701</td>\n",
       "      <td>...</td>\n",
       "      <td>0</td>\n",
       "      <td>0</td>\n",
       "      <td>0</td>\n",
       "      <td>0</td>\n",
       "      <td>1</td>\n",
       "      <td>0</td>\n",
       "      <td>0</td>\n",
       "      <td>0</td>\n",
       "      <td>0</td>\n",
       "      <td>0</td>\n",
       "    </tr>\n",
       "    <tr>\n",
       "      <th>3</th>\n",
       "      <td>304409</td>\n",
       "      <td>746165</td>\n",
       "      <td>2377316</td>\n",
       "      <td>222.0186</td>\n",
       "      <td>5</td>\n",
       "      <td>5</td>\n",
       "      <td>0</td>\n",
       "      <td>222.0186</td>\n",
       "      <td>4.7891</td>\n",
       "      <td>24.3234</td>\n",
       "      <td>...</td>\n",
       "      <td>0</td>\n",
       "      <td>0</td>\n",
       "      <td>0</td>\n",
       "      <td>0</td>\n",
       "      <td>1</td>\n",
       "      <td>0</td>\n",
       "      <td>0</td>\n",
       "      <td>0</td>\n",
       "      <td>0</td>\n",
       "      <td>0</td>\n",
       "    </tr>\n",
       "    <tr>\n",
       "      <th>5</th>\n",
       "      <td>304409</td>\n",
       "      <td>746165</td>\n",
       "      <td>2377317</td>\n",
       "      <td>2.5008</td>\n",
       "      <td>120</td>\n",
       "      <td>120</td>\n",
       "      <td>0</td>\n",
       "      <td>2.5008</td>\n",
       "      <td>0.6184</td>\n",
       "      <td>2.7209</td>\n",
       "      <td>...</td>\n",
       "      <td>0</td>\n",
       "      <td>0</td>\n",
       "      <td>0</td>\n",
       "      <td>0</td>\n",
       "      <td>1</td>\n",
       "      <td>0</td>\n",
       "      <td>0</td>\n",
       "      <td>0</td>\n",
       "      <td>0</td>\n",
       "      <td>0</td>\n",
       "    </tr>\n",
       "    <tr>\n",
       "      <th>7</th>\n",
       "      <td>304409</td>\n",
       "      <td>746165</td>\n",
       "      <td>2377318</td>\n",
       "      <td>11.5773</td>\n",
       "      <td>55</td>\n",
       "      <td>55</td>\n",
       "      <td>0</td>\n",
       "      <td>11.5773</td>\n",
       "      <td>0.9060</td>\n",
       "      <td>5.9537</td>\n",
       "      <td>...</td>\n",
       "      <td>0</td>\n",
       "      <td>0</td>\n",
       "      <td>0</td>\n",
       "      <td>0</td>\n",
       "      <td>1</td>\n",
       "      <td>0</td>\n",
       "      <td>0</td>\n",
       "      <td>0</td>\n",
       "      <td>0</td>\n",
       "      <td>0</td>\n",
       "    </tr>\n",
       "  </tbody>\n",
       "</table>\n",
       "<p>5 rows × 40 columns</p>\n",
       "</div>"
      ],
      "text/plain": [
       "   ixJobSummary  ixNest   ixPart  dPartTrueArea  cRequired  cNested  \\\n",
       "0        304409  746165  2377314       151.1253          5        5   \n",
       "1        304409  746165  2377315        49.5807         10       10   \n",
       "3        304409  746165  2377316       222.0186          5        5   \n",
       "5        304409  746165  2377317         2.5008        120      120   \n",
       "7        304409  746165  2377318        11.5773         55       55   \n",
       "\n",
       "   fExtShape  dExtArea  dExtBoundaryDist  dExtContainedDist  ...  _Strategy_1  \\\n",
       "0          0  151.1253            4.7891            15.8795  ...            0   \n",
       "1          0   49.5807            3.1157             9.9701  ...            0   \n",
       "3          0  222.0186            4.7891            24.3234  ...            0   \n",
       "5          0    2.5008            0.6184             2.7209  ...            0   \n",
       "7          0   11.5773            0.9060             5.9537  ...            0   \n",
       "\n",
       "   _Strategy_10  _Strategy_2  _Strategy_3  _Strategy_4  _Strategy_5  \\\n",
       "0             0            0            0            1            0   \n",
       "1             0            0            0            1            0   \n",
       "3             0            0            0            1            0   \n",
       "5             0            0            0            1            0   \n",
       "7             0            0            0            1            0   \n",
       "\n",
       "   _Strategy_6  _Strategy_7  _Strategy_8  _Strategy_9  \n",
       "0            0            0            0            0  \n",
       "1            0            0            0            0  \n",
       "3            0            0            0            0  \n",
       "5            0            0            0            0  \n",
       "7            0            0            0            0  \n",
       "\n",
       "[5 rows x 40 columns]"
      ]
     },
     "execution_count": 9,
     "metadata": {},
     "output_type": "execute_result"
    }
   ],
   "source": [
    "# one hot encoding for the AutoNestStrategy to convert categorical from numeric \n",
    "# One-hot encode ixAutoNestStrategy\n",
    "encoded_df = pd.get_dummies(encoded_df, columns=['ixAutoNestStrategy'], prefix='')\n",
    "\n",
    "# Prepare a dictionary for renaming the columns\n",
    "rename_dict = {f'_{k}': v for k, v in autoneststrategy_dict.items()}\n",
    "\n",
    "# Rename the columns\n",
    "encoded_df.rename(columns=rename_dict, inplace=True)\n",
    "\n",
    "encoded_df.head()"
   ]
  },
  {
   "cell_type": "code",
   "execution_count": 10,
   "metadata": {},
   "outputs": [
    {
     "data": {
      "text/html": [
       "<div>\n",
       "<style scoped>\n",
       "    .dataframe tbody tr th:only-of-type {\n",
       "        vertical-align: middle;\n",
       "    }\n",
       "\n",
       "    .dataframe tbody tr th {\n",
       "        vertical-align: top;\n",
       "    }\n",
       "\n",
       "    .dataframe thead th {\n",
       "        text-align: right;\n",
       "    }\n",
       "</style>\n",
       "<table border=\"1\" class=\"dataframe\">\n",
       "  <thead>\n",
       "    <tr style=\"text-align: right;\">\n",
       "      <th></th>\n",
       "      <th>ixJobSummary</th>\n",
       "      <th>ixNest</th>\n",
       "      <th>ixPart</th>\n",
       "      <th>dPartTrueArea</th>\n",
       "      <th>cRequired</th>\n",
       "      <th>cNested</th>\n",
       "      <th>fExtShape</th>\n",
       "      <th>dExtArea</th>\n",
       "      <th>dExtBoundaryDist</th>\n",
       "      <th>dExtContainedDist</th>\n",
       "      <th>...</th>\n",
       "      <th>_Strategy_1</th>\n",
       "      <th>_Strategy_10</th>\n",
       "      <th>_Strategy_2</th>\n",
       "      <th>_Strategy_3</th>\n",
       "      <th>_Strategy_4</th>\n",
       "      <th>_Strategy_5</th>\n",
       "      <th>_Strategy_6</th>\n",
       "      <th>_Strategy_7</th>\n",
       "      <th>_Strategy_8</th>\n",
       "      <th>_Strategy_9</th>\n",
       "    </tr>\n",
       "  </thead>\n",
       "  <tbody>\n",
       "    <tr>\n",
       "      <th>count</th>\n",
       "      <td>4.072515e+06</td>\n",
       "      <td>4.072515e+06</td>\n",
       "      <td>4.072515e+06</td>\n",
       "      <td>4.072515e+06</td>\n",
       "      <td>4.072515e+06</td>\n",
       "      <td>4.072515e+06</td>\n",
       "      <td>4.072515e+06</td>\n",
       "      <td>4.072515e+06</td>\n",
       "      <td>4.072515e+06</td>\n",
       "      <td>4.072515e+06</td>\n",
       "      <td>...</td>\n",
       "      <td>4.072515e+06</td>\n",
       "      <td>4.072515e+06</td>\n",
       "      <td>4.072515e+06</td>\n",
       "      <td>4.072515e+06</td>\n",
       "      <td>4.072515e+06</td>\n",
       "      <td>4.072515e+06</td>\n",
       "      <td>4.072515e+06</td>\n",
       "      <td>4.072515e+06</td>\n",
       "      <td>4.072515e+06</td>\n",
       "      <td>4.072515e+06</td>\n",
       "    </tr>\n",
       "    <tr>\n",
       "      <th>mean</th>\n",
       "      <td>1.899243e+06</td>\n",
       "      <td>4.511965e+06</td>\n",
       "      <td>1.580208e+07</td>\n",
       "      <td>-7.351136e+286</td>\n",
       "      <td>1.314087e+01</td>\n",
       "      <td>1.060778e+01</td>\n",
       "      <td>5.439213e+00</td>\n",
       "      <td>6.540658e+02</td>\n",
       "      <td>5.553442e+00</td>\n",
       "      <td>3.577339e+01</td>\n",
       "      <td>...</td>\n",
       "      <td>7.025364e-02</td>\n",
       "      <td>8.826732e-02</td>\n",
       "      <td>1.309068e-02</td>\n",
       "      <td>2.128144e-02</td>\n",
       "      <td>2.868547e-01</td>\n",
       "      <td>3.062653e-02</td>\n",
       "      <td>1.107473e-02</td>\n",
       "      <td>1.056350e-02</td>\n",
       "      <td>1.534973e-02</td>\n",
       "      <td>1.426760e-02</td>\n",
       "    </tr>\n",
       "    <tr>\n",
       "      <th>std</th>\n",
       "      <td>1.042945e+06</td>\n",
       "      <td>2.441282e+06</td>\n",
       "      <td>8.736020e+06</td>\n",
       "      <td>inf</td>\n",
       "      <td>2.759251e+03</td>\n",
       "      <td>1.338320e+02</td>\n",
       "      <td>1.045352e+01</td>\n",
       "      <td>1.177717e+04</td>\n",
       "      <td>2.978956e+01</td>\n",
       "      <td>5.134109e+01</td>\n",
       "      <td>...</td>\n",
       "      <td>2.555740e-01</td>\n",
       "      <td>2.836833e-01</td>\n",
       "      <td>1.136632e-01</td>\n",
       "      <td>1.443210e-01</td>\n",
       "      <td>4.522932e-01</td>\n",
       "      <td>1.723037e-01</td>\n",
       "      <td>1.046522e-01</td>\n",
       "      <td>1.022346e-01</td>\n",
       "      <td>1.229395e-01</td>\n",
       "      <td>1.185919e-01</td>\n",
       "    </tr>\n",
       "    <tr>\n",
       "      <th>min</th>\n",
       "      <td>3.560100e+04</td>\n",
       "      <td>1.007630e+05</td>\n",
       "      <td>3.047800e+05</td>\n",
       "      <td>-3.742202e+292</td>\n",
       "      <td>0.000000e+00</td>\n",
       "      <td>0.000000e+00</td>\n",
       "      <td>0.000000e+00</td>\n",
       "      <td>0.000000e+00</td>\n",
       "      <td>0.000000e+00</td>\n",
       "      <td>0.000000e+00</td>\n",
       "      <td>...</td>\n",
       "      <td>0.000000e+00</td>\n",
       "      <td>0.000000e+00</td>\n",
       "      <td>0.000000e+00</td>\n",
       "      <td>0.000000e+00</td>\n",
       "      <td>0.000000e+00</td>\n",
       "      <td>0.000000e+00</td>\n",
       "      <td>0.000000e+00</td>\n",
       "      <td>0.000000e+00</td>\n",
       "      <td>0.000000e+00</td>\n",
       "      <td>0.000000e+00</td>\n",
       "    </tr>\n",
       "    <tr>\n",
       "      <th>25%</th>\n",
       "      <td>1.014986e+06</td>\n",
       "      <td>2.468597e+06</td>\n",
       "      <td>8.436690e+06</td>\n",
       "      <td>3.153750e+01</td>\n",
       "      <td>1.000000e+00</td>\n",
       "      <td>1.000000e+00</td>\n",
       "      <td>0.000000e+00</td>\n",
       "      <td>3.266250e+01</td>\n",
       "      <td>1.898800e+00</td>\n",
       "      <td>9.622400e+00</td>\n",
       "      <td>...</td>\n",
       "      <td>0.000000e+00</td>\n",
       "      <td>0.000000e+00</td>\n",
       "      <td>0.000000e+00</td>\n",
       "      <td>0.000000e+00</td>\n",
       "      <td>0.000000e+00</td>\n",
       "      <td>0.000000e+00</td>\n",
       "      <td>0.000000e+00</td>\n",
       "      <td>0.000000e+00</td>\n",
       "      <td>0.000000e+00</td>\n",
       "      <td>0.000000e+00</td>\n",
       "    </tr>\n",
       "    <tr>\n",
       "      <th>50%</th>\n",
       "      <td>1.905288e+06</td>\n",
       "      <td>4.519524e+06</td>\n",
       "      <td>1.593877e+07</td>\n",
       "      <td>1.058387e+02</td>\n",
       "      <td>2.000000e+00</td>\n",
       "      <td>2.000000e+00</td>\n",
       "      <td>0.000000e+00</td>\n",
       "      <td>1.105994e+02</td>\n",
       "      <td>3.395500e+00</td>\n",
       "      <td>1.900000e+01</td>\n",
       "      <td>...</td>\n",
       "      <td>0.000000e+00</td>\n",
       "      <td>0.000000e+00</td>\n",
       "      <td>0.000000e+00</td>\n",
       "      <td>0.000000e+00</td>\n",
       "      <td>0.000000e+00</td>\n",
       "      <td>0.000000e+00</td>\n",
       "      <td>0.000000e+00</td>\n",
       "      <td>0.000000e+00</td>\n",
       "      <td>0.000000e+00</td>\n",
       "      <td>0.000000e+00</td>\n",
       "    </tr>\n",
       "    <tr>\n",
       "      <th>75%</th>\n",
       "      <td>2.794505e+06</td>\n",
       "      <td>6.605744e+06</td>\n",
       "      <td>2.329271e+07</td>\n",
       "      <td>4.201447e+02</td>\n",
       "      <td>5.000000e+00</td>\n",
       "      <td>5.000000e+00</td>\n",
       "      <td>5.000000e+00</td>\n",
       "      <td>4.382475e+02</td>\n",
       "      <td>6.750000e+00</td>\n",
       "      <td>4.214070e+01</td>\n",
       "      <td>...</td>\n",
       "      <td>0.000000e+00</td>\n",
       "      <td>0.000000e+00</td>\n",
       "      <td>0.000000e+00</td>\n",
       "      <td>0.000000e+00</td>\n",
       "      <td>1.000000e+00</td>\n",
       "      <td>0.000000e+00</td>\n",
       "      <td>0.000000e+00</td>\n",
       "      <td>0.000000e+00</td>\n",
       "      <td>0.000000e+00</td>\n",
       "      <td>0.000000e+00</td>\n",
       "    </tr>\n",
       "    <tr>\n",
       "      <th>max</th>\n",
       "      <td>3.688756e+06</td>\n",
       "      <td>8.711716e+06</td>\n",
       "      <td>3.097014e+07</td>\n",
       "      <td>2.960661e+157</td>\n",
       "      <td>5.555555e+06</td>\n",
       "      <td>1.632310e+05</td>\n",
       "      <td>5.400000e+01</td>\n",
       "      <td>1.231630e+07</td>\n",
       "      <td>5.673666e+04</td>\n",
       "      <td>3.239010e+04</td>\n",
       "      <td>...</td>\n",
       "      <td>1.000000e+00</td>\n",
       "      <td>1.000000e+00</td>\n",
       "      <td>1.000000e+00</td>\n",
       "      <td>1.000000e+00</td>\n",
       "      <td>1.000000e+00</td>\n",
       "      <td>1.000000e+00</td>\n",
       "      <td>1.000000e+00</td>\n",
       "      <td>1.000000e+00</td>\n",
       "      <td>1.000000e+00</td>\n",
       "      <td>1.000000e+00</td>\n",
       "    </tr>\n",
       "  </tbody>\n",
       "</table>\n",
       "<p>8 rows × 40 columns</p>\n",
       "</div>"
      ],
      "text/plain": [
       "       ixJobSummary        ixNest        ixPart  dPartTrueArea     cRequired  \\\n",
       "count  4.072515e+06  4.072515e+06  4.072515e+06   4.072515e+06  4.072515e+06   \n",
       "mean   1.899243e+06  4.511965e+06  1.580208e+07 -7.351136e+286  1.314087e+01   \n",
       "std    1.042945e+06  2.441282e+06  8.736020e+06            inf  2.759251e+03   \n",
       "min    3.560100e+04  1.007630e+05  3.047800e+05 -3.742202e+292  0.000000e+00   \n",
       "25%    1.014986e+06  2.468597e+06  8.436690e+06   3.153750e+01  1.000000e+00   \n",
       "50%    1.905288e+06  4.519524e+06  1.593877e+07   1.058387e+02  2.000000e+00   \n",
       "75%    2.794505e+06  6.605744e+06  2.329271e+07   4.201447e+02  5.000000e+00   \n",
       "max    3.688756e+06  8.711716e+06  3.097014e+07  2.960661e+157  5.555555e+06   \n",
       "\n",
       "            cNested     fExtShape      dExtArea  dExtBoundaryDist  \\\n",
       "count  4.072515e+06  4.072515e+06  4.072515e+06      4.072515e+06   \n",
       "mean   1.060778e+01  5.439213e+00  6.540658e+02      5.553442e+00   \n",
       "std    1.338320e+02  1.045352e+01  1.177717e+04      2.978956e+01   \n",
       "min    0.000000e+00  0.000000e+00  0.000000e+00      0.000000e+00   \n",
       "25%    1.000000e+00  0.000000e+00  3.266250e+01      1.898800e+00   \n",
       "50%    2.000000e+00  0.000000e+00  1.105994e+02      3.395500e+00   \n",
       "75%    5.000000e+00  5.000000e+00  4.382475e+02      6.750000e+00   \n",
       "max    1.632310e+05  5.400000e+01  1.231630e+07      5.673666e+04   \n",
       "\n",
       "       dExtContainedDist  ...   _Strategy_1  _Strategy_10   _Strategy_2  \\\n",
       "count       4.072515e+06  ...  4.072515e+06  4.072515e+06  4.072515e+06   \n",
       "mean        3.577339e+01  ...  7.025364e-02  8.826732e-02  1.309068e-02   \n",
       "std         5.134109e+01  ...  2.555740e-01  2.836833e-01  1.136632e-01   \n",
       "min         0.000000e+00  ...  0.000000e+00  0.000000e+00  0.000000e+00   \n",
       "25%         9.622400e+00  ...  0.000000e+00  0.000000e+00  0.000000e+00   \n",
       "50%         1.900000e+01  ...  0.000000e+00  0.000000e+00  0.000000e+00   \n",
       "75%         4.214070e+01  ...  0.000000e+00  0.000000e+00  0.000000e+00   \n",
       "max         3.239010e+04  ...  1.000000e+00  1.000000e+00  1.000000e+00   \n",
       "\n",
       "        _Strategy_3   _Strategy_4   _Strategy_5   _Strategy_6   _Strategy_7  \\\n",
       "count  4.072515e+06  4.072515e+06  4.072515e+06  4.072515e+06  4.072515e+06   \n",
       "mean   2.128144e-02  2.868547e-01  3.062653e-02  1.107473e-02  1.056350e-02   \n",
       "std    1.443210e-01  4.522932e-01  1.723037e-01  1.046522e-01  1.022346e-01   \n",
       "min    0.000000e+00  0.000000e+00  0.000000e+00  0.000000e+00  0.000000e+00   \n",
       "25%    0.000000e+00  0.000000e+00  0.000000e+00  0.000000e+00  0.000000e+00   \n",
       "50%    0.000000e+00  0.000000e+00  0.000000e+00  0.000000e+00  0.000000e+00   \n",
       "75%    0.000000e+00  1.000000e+00  0.000000e+00  0.000000e+00  0.000000e+00   \n",
       "max    1.000000e+00  1.000000e+00  1.000000e+00  1.000000e+00  1.000000e+00   \n",
       "\n",
       "        _Strategy_8   _Strategy_9  \n",
       "count  4.072515e+06  4.072515e+06  \n",
       "mean   1.534973e-02  1.426760e-02  \n",
       "std    1.229395e-01  1.185919e-01  \n",
       "min    0.000000e+00  0.000000e+00  \n",
       "25%    0.000000e+00  0.000000e+00  \n",
       "50%    0.000000e+00  0.000000e+00  \n",
       "75%    0.000000e+00  0.000000e+00  \n",
       "max    1.000000e+00  1.000000e+00  \n",
       "\n",
       "[8 rows x 40 columns]"
      ]
     },
     "execution_count": 10,
     "metadata": {},
     "output_type": "execute_result"
    }
   ],
   "source": [
    "# summarize the encoded df with the summary statistics\n",
    "encoded_df.describe()"
   ]
  },
  {
   "attachments": {},
   "cell_type": "markdown",
   "metadata": {},
   "source": [
    "#### Other data cleaning we might do"
   ]
  },
  {
   "cell_type": "code",
   "execution_count": 11,
   "metadata": {},
   "outputs": [],
   "source": [
    "# Convert a numeric variable to categorical using custom ranges\n",
    "# bins = [0, 10, 20, 30, 40, 50, 60, 70, 80, 90, 100]\n",
    "# labels = ['0-10', '11-20', '21-30', '31-40', '41-50', '51-60', '61-70', '71-80', '81-90', '91-100']\n",
    "# df['age_group'] = pd.cut(df['age'], bins=bins, labels=lab"
   ]
  },
  {
   "cell_type": "code",
   "execution_count": 12,
   "metadata": {},
   "outputs": [],
   "source": [
    "# output the results as a cleaned csv \n",
    "encoded_df.to_csv('../CEIP_csv/cleaned.csv', index=False)"
   ]
  },
  {
   "attachments": {},
   "cell_type": "markdown",
   "metadata": {},
   "source": [
    "#### Downsampling Data\n",
    "Downsampling data to ~1,000,000 samples for early machine learning & analysis"
   ]
  }
 ],
 "metadata": {
  "kernelspec": {
   "display_name": "base",
   "language": "python",
   "name": "python3"
  },
  "language_info": {
   "codemirror_mode": {
    "name": "ipython",
    "version": 3
   },
   "file_extension": ".py",
   "mimetype": "text/x-python",
   "name": "python",
   "nbconvert_exporter": "python",
   "pygments_lexer": "ipython3",
   "version": "3.9.12"
  },
  "orig_nbformat": 4
 },
 "nbformat": 4,
 "nbformat_minor": 2
}
