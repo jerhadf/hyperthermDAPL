{
 "cells": [
  {
   "attachments": {},
   "cell_type": "markdown",
   "metadata": {},
   "source": [
    "# Data Cleaning\n",
    "Initial data cleaning and preprocessing for the project. Takes in data from `training_data.csv`, which was output from a SQL query from the CEIP database. This notebook is used to create the preprocessing pipeline in `pipeline.ipynb`. This used to clean the data for the exploratory data analysis and machine learning notebooks. It outputs a cleaned dataset to `CEIP_csv/cleaned.csv`."
   ]
  },
  {
   "attachments": {},
   "cell_type": "markdown",
   "metadata": {},
   "source": [
    "#### Setup"
   ]
  },
  {
   "cell_type": "code",
   "execution_count": 6,
   "metadata": {},
   "outputs": [],
   "source": [
    "# CORE\n",
    "import pandas as pd\n",
    "import os\n",
    "import json\n",
    "import numpy as np  # Numpy for numerical computations and array operations\n",
    "import pandas as pd  # Pandas for data manipulation and analysis\n",
    "\n",
    "# MACHINE LEARNING & STATISTICS \n",
    "import scipy.stats as stats  # SciPy for scientific computing and technical computing, including statistics\n",
    "import sklearn as sk # Scikit-learn for machine learning and predictive modeling\n",
    "\n",
    "# VISUALIZATION\n",
    "import matplotlib.pyplot as plt  # Matplotlib for creating static, animated, and interactive visualizations\n",
    "import seaborn as sns  # Seaborn for statistical data visualization built on top of Matplotlib\n",
    "import plotly.express as px  # Plotly Express for creating interactive plots and charts\n",
    "import plotly.graph_objects as go\n",
    "from plotly.subplots import make_subplots"
   ]
  },
  {
   "cell_type": "code",
   "execution_count": 7,
   "metadata": {},
   "outputs": [],
   "source": [
    "# filepaths of all of the csv data files to be analyzed\n",
    "\n",
    "# autonest_csv = \"CEIP_csv/AutoNest.csv\"\n",
    "# autonest_strategy_csv = \"CEIP_csv/AutoNestStrategy.csv\"\n",
    "# material_csv = \"CEIP_csv/Material.csv\"\n",
    "# nest_csv = \"CEIP_csv/Nest.csv\"\n",
    "# part_csv = \"CEIP_csv/Part.csv\"\n",
    "# performance_csv = \"CEIP_csv/Performance.csv\"\n",
    "training_csv = \"../CEIP_csv/training_data.csv\"\n",
    "\n",
    "# read in all of these csv files as pandas dataframes\n",
    "\n",
    "# autonest_df = pd.read_csv(autonest_csv)\n",
    "# autonest_strategy_df = pd.read_csv(autonest_strategy_csv)\n",
    "# material_df = pd.read_csv(material_csv)\n",
    "# nest_df = pd.read_csv(nest_csv)\n",
    "# part_df = pd.read_csv(part_csv)\n",
    "# performance_df = pd.read_csv(performance_csv)\n",
    "training_df = pd.read_csv(training_csv) # takes about 1 min to read "
   ]
  },
  {
   "attachments": {},
   "cell_type": "markdown",
   "metadata": {},
   "source": [
    "## Data Cleaning"
   ]
  },
  {
   "attachments": {},
   "cell_type": "markdown",
   "metadata": {},
   "source": [
    "#### Data Previewing"
   ]
  },
  {
   "cell_type": "code",
   "execution_count": 8,
   "metadata": {},
   "outputs": [],
   "source": [
    "# count the number of null values \n",
    "# training_df.isnull().sum() # --> RESULT: no null values in any column  \n",
    "\n",
    "# list of columns\n",
    "# column_list = list(training_df.columns)\n",
    "column_list = ['ixJobSummary', 'ixNest', 'ixPart', 'dPartTrueArea', 'cRequired', \n",
    "               'cNested', 'ixMaterial', 'fExtShape', 'dExtArea', 'dExtBoundaryDist', \n",
    "               'dExtContainedDist', 'dLgIntArea', 'dLgIntBoundaryDist', 'dLgIntContainedDist', \n",
    "               'dLgExtConArea', 'dLgExtConBoundaryDist', 'dLgExtConContainedDist', 'cTimesCut', \n",
    "               'dNestingTime', 'fStrategies', 'dSheetLength', 'dSheetWidth', 'dSheetArea', 'dLengthUsed', \n",
    "               'dWidthUsed', 'dPartArea', 'calcUtil', 'ixAutoNestStrategy', 'fAllPartsNested']\n",
    "\n",
    "# count the values for the ixMaterial column in the training_df \n",
    "# training_df.ixMaterial.value_counts()\n",
    "\n",
    "# plot the distribution of the ixMaterial column in the training_df\n",
    "# only plot the 10 most common values\n",
    "# training_df.ixMaterial.value_counts().nlargest(10).plot(kind='bar', figsize=(10,5))\n",
    "\n",
    "# count the number of unique values\n",
    "# training_df.nunique(axis=0)\n",
    "\n",
    "# ixJobSummary               224892\n",
    "# ixNest                     224892\n",
    "# ixPart                    4200357\n",
    "# dPartTrueArea              984974\n",
    "# cRequired                    1534\n",
    "# cNested                      1654\n",
    "# ixMaterial                   7316\n",
    "# fExtShape                      52\n",
    "# dExtArea                   825580\n",
    "# dExtBoundaryDist           159907\n",
    "# dExtContainedDist          526206\n",
    "# dLgIntArea                  74924\n",
    "# dLgIntBoundaryDist          35721\n",
    "# dLgIntContainedDist         83215\n",
    "# dLgExtConArea               71156\n",
    "# dLgExtConBoundaryDist       24334\n",
    "# dLgExtConContainedDist      68328\n",
    "# cTimesCut                     176\n",
    "# dNestingTime                23997\n",
    "# fStrategies                   292\n",
    "# dSheetLength                 2917\n",
    "# dSheetWidth                  1937\n",
    "# dSheetArea                  13217\n",
    "# dLengthUsed                136950\n",
    "# dWidthUsed                 112688\n",
    "# dPartArea                  168268\n",
    "# calcUtil                   172012\n",
    "# ixAutoNestStrategy             13\n",
    "# fAllPartsNested                 2\n",
    "# dtype: int64"
   ]
  },
  {
   "cell_type": "code",
   "execution_count": 22,
   "metadata": {},
   "outputs": [
    {
     "ename": "KeyboardInterrupt",
     "evalue": "",
     "output_type": "error",
     "traceback": [
      "\u001b[0;31m---------------------------------------------------------------------------\u001b[0m",
      "\u001b[0;31mKeyboardInterrupt\u001b[0m                         Traceback (most recent call last)",
      "\u001b[1;32m/Users/jerhadf/Desktop/coding/hyperthermDAPL/analysis/cleaning.ipynb Cell 8\u001b[0m in \u001b[0;36m<cell line: 5>\u001b[0;34m()\u001b[0m\n\u001b[1;32m      <a href='vscode-notebook-cell:/Users/jerhadf/Desktop/coding/hyperthermDAPL/analysis/cleaning.ipynb#X10sZmlsZQ%3D%3D?line=0'>1</a>\u001b[0m \u001b[39m# above shows that there are only 4.2 million unique values for ixPart \u001b[39;00m\n\u001b[1;32m      <a href='vscode-notebook-cell:/Users/jerhadf/Desktop/coding/hyperthermDAPL/analysis/cleaning.ipynb#X10sZmlsZQ%3D%3D?line=1'>2</a>\u001b[0m \u001b[39m# this indicates that there are a lot of rows that are duplicated? \u001b[39;00m\n\u001b[1;32m      <a href='vscode-notebook-cell:/Users/jerhadf/Desktop/coding/hyperthermDAPL/analysis/cleaning.ipynb#X10sZmlsZQ%3D%3D?line=2'>3</a>\u001b[0m \n\u001b[1;32m      <a href='vscode-notebook-cell:/Users/jerhadf/Desktop/coding/hyperthermDAPL/analysis/cleaning.ipynb#X10sZmlsZQ%3D%3D?line=3'>4</a>\u001b[0m \u001b[39m# remove duplicates \u001b[39;00m\n\u001b[0;32m----> <a href='vscode-notebook-cell:/Users/jerhadf/Desktop/coding/hyperthermDAPL/analysis/cleaning.ipynb#X10sZmlsZQ%3D%3D?line=4'>5</a>\u001b[0m training_df \u001b[39m=\u001b[39m training_df\u001b[39m.\u001b[39;49mdrop_duplicates()\n\u001b[1;32m      <a href='vscode-notebook-cell:/Users/jerhadf/Desktop/coding/hyperthermDAPL/analysis/cleaning.ipynb#X10sZmlsZQ%3D%3D?line=5'>6</a>\u001b[0m \u001b[39m# can also drop duplicates from only specific rows \u001b[39;00m\n\u001b[1;32m      <a href='vscode-notebook-cell:/Users/jerhadf/Desktop/coding/hyperthermDAPL/analysis/cleaning.ipynb#X10sZmlsZQ%3D%3D?line=6'>7</a>\u001b[0m \u001b[39m# df.drop_duplicates(subset=df.columns[2:], keep=False, inplace=True)\u001b[39;00m\n\u001b[1;32m      <a href='vscode-notebook-cell:/Users/jerhadf/Desktop/coding/hyperthermDAPL/analysis/cleaning.ipynb#X10sZmlsZQ%3D%3D?line=7'>8</a>\u001b[0m training_df\u001b[39m.\u001b[39mshape\n",
      "File \u001b[0;32m~/opt/anaconda3/lib/python3.9/site-packages/pandas/util/_decorators.py:331\u001b[0m, in \u001b[0;36mdeprecate_nonkeyword_arguments.<locals>.decorate.<locals>.wrapper\u001b[0;34m(*args, **kwargs)\u001b[0m\n\u001b[1;32m    325\u001b[0m \u001b[39mif\u001b[39;00m \u001b[39mlen\u001b[39m(args) \u001b[39m>\u001b[39m num_allow_args:\n\u001b[1;32m    326\u001b[0m     warnings\u001b[39m.\u001b[39mwarn(\n\u001b[1;32m    327\u001b[0m         msg\u001b[39m.\u001b[39mformat(arguments\u001b[39m=\u001b[39m_format_argument_list(allow_args)),\n\u001b[1;32m    328\u001b[0m         \u001b[39mFutureWarning\u001b[39;00m,\n\u001b[1;32m    329\u001b[0m         stacklevel\u001b[39m=\u001b[39mfind_stack_level(),\n\u001b[1;32m    330\u001b[0m     )\n\u001b[0;32m--> 331\u001b[0m \u001b[39mreturn\u001b[39;00m func(\u001b[39m*\u001b[39;49margs, \u001b[39m*\u001b[39;49m\u001b[39m*\u001b[39;49mkwargs)\n",
      "File \u001b[0;32m~/opt/anaconda3/lib/python3.9/site-packages/pandas/core/frame.py:6672\u001b[0m, in \u001b[0;36mDataFrame.drop_duplicates\u001b[0;34m(self, subset, keep, inplace, ignore_index)\u001b[0m\n\u001b[1;32m   6670\u001b[0m inplace \u001b[39m=\u001b[39m validate_bool_kwarg(inplace, \u001b[39m\"\u001b[39m\u001b[39minplace\u001b[39m\u001b[39m\"\u001b[39m)\n\u001b[1;32m   6671\u001b[0m ignore_index \u001b[39m=\u001b[39m validate_bool_kwarg(ignore_index, \u001b[39m\"\u001b[39m\u001b[39mignore_index\u001b[39m\u001b[39m\"\u001b[39m)\n\u001b[0;32m-> 6672\u001b[0m duplicated \u001b[39m=\u001b[39m \u001b[39mself\u001b[39;49m\u001b[39m.\u001b[39;49mduplicated(subset, keep\u001b[39m=\u001b[39;49mkeep)\n\u001b[1;32m   6674\u001b[0m result \u001b[39m=\u001b[39m \u001b[39mself\u001b[39m[\u001b[39m-\u001b[39mduplicated]\n\u001b[1;32m   6675\u001b[0m \u001b[39mif\u001b[39;00m ignore_index:\n",
      "File \u001b[0;32m~/opt/anaconda3/lib/python3.9/site-packages/pandas/core/frame.py:6816\u001b[0m, in \u001b[0;36mDataFrame.duplicated\u001b[0;34m(self, subset, keep)\u001b[0m\n\u001b[1;32m   6813\u001b[0m     vals \u001b[39m=\u001b[39m (col\u001b[39m.\u001b[39mvalues \u001b[39mfor\u001b[39;00m name, col \u001b[39min\u001b[39;00m \u001b[39mself\u001b[39m\u001b[39m.\u001b[39mitems() \u001b[39mif\u001b[39;00m name \u001b[39min\u001b[39;00m subset)\n\u001b[1;32m   6814\u001b[0m     labels, shape \u001b[39m=\u001b[39m \u001b[39mmap\u001b[39m(\u001b[39mlist\u001b[39m, \u001b[39mzip\u001b[39m(\u001b[39m*\u001b[39m\u001b[39mmap\u001b[39m(f, vals)))\n\u001b[0;32m-> 6816\u001b[0m     ids \u001b[39m=\u001b[39m get_group_index(\n\u001b[1;32m   6817\u001b[0m         labels,\n\u001b[1;32m   6818\u001b[0m         \u001b[39m# error: Argument 1 to \"tuple\" has incompatible type \"List[_T]\";\u001b[39;49;00m\n\u001b[1;32m   6819\u001b[0m         \u001b[39m# expected \"Iterable[int]\"\u001b[39;49;00m\n\u001b[1;32m   6820\u001b[0m         \u001b[39mtuple\u001b[39;49m(shape),  \u001b[39m# type: ignore[arg-type]\u001b[39;49;00m\n\u001b[1;32m   6821\u001b[0m         sort\u001b[39m=\u001b[39;49m\u001b[39mFalse\u001b[39;49;00m,\n\u001b[1;32m   6822\u001b[0m         xnull\u001b[39m=\u001b[39;49m\u001b[39mFalse\u001b[39;49;00m,\n\u001b[1;32m   6823\u001b[0m     )\n\u001b[1;32m   6824\u001b[0m     result \u001b[39m=\u001b[39m \u001b[39mself\u001b[39m\u001b[39m.\u001b[39m_constructor_sliced(duplicated(ids, keep), index\u001b[39m=\u001b[39m\u001b[39mself\u001b[39m\u001b[39m.\u001b[39mindex)\n\u001b[1;32m   6825\u001b[0m \u001b[39mreturn\u001b[39;00m result\u001b[39m.\u001b[39m__finalize__(\u001b[39mself\u001b[39m, method\u001b[39m=\u001b[39m\u001b[39m\"\u001b[39m\u001b[39mduplicated\u001b[39m\u001b[39m\"\u001b[39m)\n",
      "File \u001b[0;32m~/opt/anaconda3/lib/python3.9/site-packages/pandas/core/sorting.py:195\u001b[0m, in \u001b[0;36mget_group_index\u001b[0;34m(labels, shape, sort, xnull)\u001b[0m\n\u001b[1;32m    191\u001b[0m     \u001b[39mbreak\u001b[39;00m\n\u001b[1;32m    193\u001b[0m \u001b[39m# compress what has been done so far in order to avoid overflow\u001b[39;00m\n\u001b[1;32m    194\u001b[0m \u001b[39m# to retain lexical ranks, obs_ids should be sorted\u001b[39;00m\n\u001b[0;32m--> 195\u001b[0m comp_ids, obs_ids \u001b[39m=\u001b[39m compress_group_index(out, sort\u001b[39m=\u001b[39;49msort)\n\u001b[1;32m    197\u001b[0m labels \u001b[39m=\u001b[39m [comp_ids] \u001b[39m+\u001b[39m labels[nlev:]\n\u001b[1;32m    198\u001b[0m lshape \u001b[39m=\u001b[39m [\u001b[39mlen\u001b[39m(obs_ids)] \u001b[39m+\u001b[39m lshape[nlev:]\n",
      "File \u001b[0;32m~/opt/anaconda3/lib/python3.9/site-packages/pandas/core/sorting.py:696\u001b[0m, in \u001b[0;36mcompress_group_index\u001b[0;34m(group_index, sort)\u001b[0m\n\u001b[1;32m    693\u001b[0m group_index \u001b[39m=\u001b[39m ensure_int64(group_index)\n\u001b[1;32m    695\u001b[0m \u001b[39m# note, group labels come out ascending (ie, 1,2,3 etc)\u001b[39;00m\n\u001b[0;32m--> 696\u001b[0m comp_ids, obs_group_ids \u001b[39m=\u001b[39m table\u001b[39m.\u001b[39;49mget_labels_groupby(group_index)\n\u001b[1;32m    698\u001b[0m \u001b[39mif\u001b[39;00m sort \u001b[39mand\u001b[39;00m \u001b[39mlen\u001b[39m(obs_group_ids) \u001b[39m>\u001b[39m \u001b[39m0\u001b[39m:\n\u001b[1;32m    699\u001b[0m     obs_group_ids, comp_ids \u001b[39m=\u001b[39m _reorder_by_uniques(obs_group_ids, comp_ids)\n",
      "\u001b[0;31mKeyboardInterrupt\u001b[0m: "
     ]
    }
   ],
   "source": [
    "# above shows that there are only 4.2 million unique values for ixPart \n",
    "# this indicates that there are a lot of rows that are duplicated? \n",
    "\n",
    "# remove duplicates \n",
    "training_df = training_df.drop_duplicates()\n",
    "# can also drop duplicates from only specific rows \n",
    "# df.drop_duplicates(subset=df.columns[2:], keep=False, inplace=True)\n",
    "training_df.shape # --> (5,762,622 rows, 29 columns)"
   ]
  },
  {
   "attachments": {},
   "cell_type": "markdown",
   "metadata": {},
   "source": [
    "#### Re-encoding Variables\n",
    "* One-hot encode all variables that are numerical but represent categories\n",
    "* Replace ixMaterial and ixAutoNestStrategy with their appropriate values from the JSON file \n",
    "* Limit to only Materials that are steel"
   ]
  },
  {
   "cell_type": "code",
   "execution_count": 10,
   "metadata": {},
   "outputs": [],
   "source": [
    "# replace ixMaterial column with the values from the MaterialTypes.json file \n",
    "# read in the json file as a pandas dataframe\n",
    "material_types_df = pd.read_json('../CEIP_csv/MaterialTypes.json')\n",
    "\n",
    "# create a dictionary of the material types and their corresponding values \n",
    "material_dict = material_types_df.to_dict()\n",
    "\n",
    "# We need to make a new dictionary where the keys are the same but the values are the sNames\n",
    "sName_dict = {k: v['sName'] for k, v in material_dict.items()}\n",
    "\n",
    "# Now we use this dictionary to replace the ixMaterial values in training_df\n",
    "training_df['ixMaterial'] = training_df['ixMaterial'].map(sName_dict)\n",
    "\n",
    "# Rename the column\n",
    "training_df = training_df.rename(columns={'ixMaterial': 'Material'})"
   ]
  },
  {
   "cell_type": "code",
   "execution_count": 11,
   "metadata": {},
   "outputs": [
    {
     "name": "stdout",
     "output_type": "stream",
     "text": [
      "There are 2117 unique materials in the dataset.\n"
     ]
    },
    {
     "data": {
      "application/vnd.plotly.v1+json": {
       "config": {
        "plotlyServerURL": "https://plot.ly"
       },
       "data": [
        {
         "alignmentgroup": "True",
         "hovertemplate": "Material=%{x}<br>Count=%{y}<extra></extra>",
         "legendgroup": "",
         "marker": {
          "color": "#636efa",
          "pattern": {
           "shape": ""
          }
         },
         "name": "",
         "offsetgroup": "",
         "orientation": "v",
         "showlegend": false,
         "textposition": "auto",
         "type": "bar",
         "x": [
          "ms",
          "ss",
          "al",
          "cs",
          "a36",
          "hpr ms o2 130amp",
          "domex 100 xf",
          "steel",
          "domex 110 xf",
          "ms o2 130amp",
          "s355",
          "st37-60",
          "st",
          "pl",
          "galvannealed",
          "ms o2 80amp",
          "ms 100xf",
          "o-hrs",
          "aluminium 5083-h321",
          "ms o2 200amp",
          "ms-130amps",
          1100,
          "ss400",
          "16 ga.",
          304,
          "astm a36 steel",
          "oc",
          "1/4\" 80k",
          "grade a sigma",
          "hrs",
          "ms cl6",
          "24ga_galv",
          "mild steel",
          "10 gauge material",
          "aluminium 5083-h111",
          "300w",
          "26ga_galv",
          "cs 11g",
          "ar400",
          "hpr ms o2 80amp",
          "a-36",
          "ar 400",
          "ms-80amps-o2/air",
          "alum. 5052-h32",
          2205,
          "a572-50",
          "hdx",
          "3/8\" 80k",
          "ms 10ga",
          "ms-50amps-o2/o2",
          "a572",
          316,
          "a572-gr50",
          "14 ga.",
          "7030-051",
          "st37-40",
          "alu",
          "q345b",
          "qt100",
          "7 gauge material",
          "ss-#4",
          "ms-80amps",
          "alum .125",
          "ms 12ga",
          "sa516-70",
          "ms gr80",
          "7030-341",
          "st37-20",
          "al 5052",
          "s235",
          "11 gauge",
          "gal",
          "ms 7ga",
          "qt-200amps",
          "ss f5 80amp",
          "a36 ms",
          "stainless",
          "ms o2 260amp",
          "crs",
          "3/16\" 80k",
          "a516 ms",
          "a-572",
          "44w",
          "12 ga alumizd",
          "16 ga alumizd",
          "18#4",
          "7029-061",
          "ms-200amps",
          "ms g50 80amp",
          "hr",
          "qt-130amps",
          "ct",
          "sus",
          "ms-130amps-o2/air",
          "gr300",
          "grade a",
          "aisi-304",
          "galv 10",
          "gr50s1s3s4s5m",
          "ar 200"
         ],
         "xaxis": "x",
         "y": [
          4072515,
          191961,
          167863,
          86198,
          82536,
          68702,
          50936,
          42976,
          42227,
          28730,
          17978,
          17950,
          17006,
          16182,
          16051,
          15364,
          15040,
          13499,
          13411,
          12802,
          12629,
          11711,
          11239,
          11213,
          10449,
          10222,
          9724,
          9168,
          9121,
          8737,
          7898,
          7214,
          6913,
          6234,
          5606,
          5458,
          5413,
          5401,
          5383,
          5212,
          5206,
          5063,
          4977,
          4974,
          4965,
          4836,
          4817,
          4776,
          4771,
          4738,
          4711,
          4711,
          4706,
          4564,
          4536,
          4389,
          4378,
          4333,
          4132,
          4021,
          4000,
          3854,
          3847,
          3762,
          3569,
          3554,
          3551,
          3543,
          3541,
          3517,
          3502,
          3274,
          3136,
          3109,
          3104,
          3091,
          3064,
          3055,
          3054,
          3053,
          2970,
          2964,
          2962,
          2915,
          2880,
          2832,
          2781,
          2687,
          2582,
          2549,
          2508,
          2489,
          2475,
          2406,
          2393,
          2339,
          2326,
          2101,
          2096,
          2060
         ],
         "yaxis": "y"
        }
       ],
       "layout": {
        "barmode": "relative",
        "legend": {
         "tracegroupgap": 0
        },
        "template": {
         "data": {
          "bar": [
           {
            "error_x": {
             "color": "#2a3f5f"
            },
            "error_y": {
             "color": "#2a3f5f"
            },
            "marker": {
             "line": {
              "color": "#E5ECF6",
              "width": 0.5
             },
             "pattern": {
              "fillmode": "overlay",
              "size": 10,
              "solidity": 0.2
             }
            },
            "type": "bar"
           }
          ],
          "barpolar": [
           {
            "marker": {
             "line": {
              "color": "#E5ECF6",
              "width": 0.5
             },
             "pattern": {
              "fillmode": "overlay",
              "size": 10,
              "solidity": 0.2
             }
            },
            "type": "barpolar"
           }
          ],
          "carpet": [
           {
            "aaxis": {
             "endlinecolor": "#2a3f5f",
             "gridcolor": "white",
             "linecolor": "white",
             "minorgridcolor": "white",
             "startlinecolor": "#2a3f5f"
            },
            "baxis": {
             "endlinecolor": "#2a3f5f",
             "gridcolor": "white",
             "linecolor": "white",
             "minorgridcolor": "white",
             "startlinecolor": "#2a3f5f"
            },
            "type": "carpet"
           }
          ],
          "choropleth": [
           {
            "colorbar": {
             "outlinewidth": 0,
             "ticks": ""
            },
            "type": "choropleth"
           }
          ],
          "contour": [
           {
            "colorbar": {
             "outlinewidth": 0,
             "ticks": ""
            },
            "colorscale": [
             [
              0,
              "#0d0887"
             ],
             [
              0.1111111111111111,
              "#46039f"
             ],
             [
              0.2222222222222222,
              "#7201a8"
             ],
             [
              0.3333333333333333,
              "#9c179e"
             ],
             [
              0.4444444444444444,
              "#bd3786"
             ],
             [
              0.5555555555555556,
              "#d8576b"
             ],
             [
              0.6666666666666666,
              "#ed7953"
             ],
             [
              0.7777777777777778,
              "#fb9f3a"
             ],
             [
              0.8888888888888888,
              "#fdca26"
             ],
             [
              1,
              "#f0f921"
             ]
            ],
            "type": "contour"
           }
          ],
          "contourcarpet": [
           {
            "colorbar": {
             "outlinewidth": 0,
             "ticks": ""
            },
            "type": "contourcarpet"
           }
          ],
          "heatmap": [
           {
            "colorbar": {
             "outlinewidth": 0,
             "ticks": ""
            },
            "colorscale": [
             [
              0,
              "#0d0887"
             ],
             [
              0.1111111111111111,
              "#46039f"
             ],
             [
              0.2222222222222222,
              "#7201a8"
             ],
             [
              0.3333333333333333,
              "#9c179e"
             ],
             [
              0.4444444444444444,
              "#bd3786"
             ],
             [
              0.5555555555555556,
              "#d8576b"
             ],
             [
              0.6666666666666666,
              "#ed7953"
             ],
             [
              0.7777777777777778,
              "#fb9f3a"
             ],
             [
              0.8888888888888888,
              "#fdca26"
             ],
             [
              1,
              "#f0f921"
             ]
            ],
            "type": "heatmap"
           }
          ],
          "heatmapgl": [
           {
            "colorbar": {
             "outlinewidth": 0,
             "ticks": ""
            },
            "colorscale": [
             [
              0,
              "#0d0887"
             ],
             [
              0.1111111111111111,
              "#46039f"
             ],
             [
              0.2222222222222222,
              "#7201a8"
             ],
             [
              0.3333333333333333,
              "#9c179e"
             ],
             [
              0.4444444444444444,
              "#bd3786"
             ],
             [
              0.5555555555555556,
              "#d8576b"
             ],
             [
              0.6666666666666666,
              "#ed7953"
             ],
             [
              0.7777777777777778,
              "#fb9f3a"
             ],
             [
              0.8888888888888888,
              "#fdca26"
             ],
             [
              1,
              "#f0f921"
             ]
            ],
            "type": "heatmapgl"
           }
          ],
          "histogram": [
           {
            "marker": {
             "pattern": {
              "fillmode": "overlay",
              "size": 10,
              "solidity": 0.2
             }
            },
            "type": "histogram"
           }
          ],
          "histogram2d": [
           {
            "colorbar": {
             "outlinewidth": 0,
             "ticks": ""
            },
            "colorscale": [
             [
              0,
              "#0d0887"
             ],
             [
              0.1111111111111111,
              "#46039f"
             ],
             [
              0.2222222222222222,
              "#7201a8"
             ],
             [
              0.3333333333333333,
              "#9c179e"
             ],
             [
              0.4444444444444444,
              "#bd3786"
             ],
             [
              0.5555555555555556,
              "#d8576b"
             ],
             [
              0.6666666666666666,
              "#ed7953"
             ],
             [
              0.7777777777777778,
              "#fb9f3a"
             ],
             [
              0.8888888888888888,
              "#fdca26"
             ],
             [
              1,
              "#f0f921"
             ]
            ],
            "type": "histogram2d"
           }
          ],
          "histogram2dcontour": [
           {
            "colorbar": {
             "outlinewidth": 0,
             "ticks": ""
            },
            "colorscale": [
             [
              0,
              "#0d0887"
             ],
             [
              0.1111111111111111,
              "#46039f"
             ],
             [
              0.2222222222222222,
              "#7201a8"
             ],
             [
              0.3333333333333333,
              "#9c179e"
             ],
             [
              0.4444444444444444,
              "#bd3786"
             ],
             [
              0.5555555555555556,
              "#d8576b"
             ],
             [
              0.6666666666666666,
              "#ed7953"
             ],
             [
              0.7777777777777778,
              "#fb9f3a"
             ],
             [
              0.8888888888888888,
              "#fdca26"
             ],
             [
              1,
              "#f0f921"
             ]
            ],
            "type": "histogram2dcontour"
           }
          ],
          "mesh3d": [
           {
            "colorbar": {
             "outlinewidth": 0,
             "ticks": ""
            },
            "type": "mesh3d"
           }
          ],
          "parcoords": [
           {
            "line": {
             "colorbar": {
              "outlinewidth": 0,
              "ticks": ""
             }
            },
            "type": "parcoords"
           }
          ],
          "pie": [
           {
            "automargin": true,
            "type": "pie"
           }
          ],
          "scatter": [
           {
            "marker": {
             "colorbar": {
              "outlinewidth": 0,
              "ticks": ""
             }
            },
            "type": "scatter"
           }
          ],
          "scatter3d": [
           {
            "line": {
             "colorbar": {
              "outlinewidth": 0,
              "ticks": ""
             }
            },
            "marker": {
             "colorbar": {
              "outlinewidth": 0,
              "ticks": ""
             }
            },
            "type": "scatter3d"
           }
          ],
          "scattercarpet": [
           {
            "marker": {
             "colorbar": {
              "outlinewidth": 0,
              "ticks": ""
             }
            },
            "type": "scattercarpet"
           }
          ],
          "scattergeo": [
           {
            "marker": {
             "colorbar": {
              "outlinewidth": 0,
              "ticks": ""
             }
            },
            "type": "scattergeo"
           }
          ],
          "scattergl": [
           {
            "marker": {
             "colorbar": {
              "outlinewidth": 0,
              "ticks": ""
             }
            },
            "type": "scattergl"
           }
          ],
          "scattermapbox": [
           {
            "marker": {
             "colorbar": {
              "outlinewidth": 0,
              "ticks": ""
             }
            },
            "type": "scattermapbox"
           }
          ],
          "scatterpolar": [
           {
            "marker": {
             "colorbar": {
              "outlinewidth": 0,
              "ticks": ""
             }
            },
            "type": "scatterpolar"
           }
          ],
          "scatterpolargl": [
           {
            "marker": {
             "colorbar": {
              "outlinewidth": 0,
              "ticks": ""
             }
            },
            "type": "scatterpolargl"
           }
          ],
          "scatterternary": [
           {
            "marker": {
             "colorbar": {
              "outlinewidth": 0,
              "ticks": ""
             }
            },
            "type": "scatterternary"
           }
          ],
          "surface": [
           {
            "colorbar": {
             "outlinewidth": 0,
             "ticks": ""
            },
            "colorscale": [
             [
              0,
              "#0d0887"
             ],
             [
              0.1111111111111111,
              "#46039f"
             ],
             [
              0.2222222222222222,
              "#7201a8"
             ],
             [
              0.3333333333333333,
              "#9c179e"
             ],
             [
              0.4444444444444444,
              "#bd3786"
             ],
             [
              0.5555555555555556,
              "#d8576b"
             ],
             [
              0.6666666666666666,
              "#ed7953"
             ],
             [
              0.7777777777777778,
              "#fb9f3a"
             ],
             [
              0.8888888888888888,
              "#fdca26"
             ],
             [
              1,
              "#f0f921"
             ]
            ],
            "type": "surface"
           }
          ],
          "table": [
           {
            "cells": {
             "fill": {
              "color": "#EBF0F8"
             },
             "line": {
              "color": "white"
             }
            },
            "header": {
             "fill": {
              "color": "#C8D4E3"
             },
             "line": {
              "color": "white"
             }
            },
            "type": "table"
           }
          ]
         },
         "layout": {
          "annotationdefaults": {
           "arrowcolor": "#2a3f5f",
           "arrowhead": 0,
           "arrowwidth": 1
          },
          "autotypenumbers": "strict",
          "coloraxis": {
           "colorbar": {
            "outlinewidth": 0,
            "ticks": ""
           }
          },
          "colorscale": {
           "diverging": [
            [
             0,
             "#8e0152"
            ],
            [
             0.1,
             "#c51b7d"
            ],
            [
             0.2,
             "#de77ae"
            ],
            [
             0.3,
             "#f1b6da"
            ],
            [
             0.4,
             "#fde0ef"
            ],
            [
             0.5,
             "#f7f7f7"
            ],
            [
             0.6,
             "#e6f5d0"
            ],
            [
             0.7,
             "#b8e186"
            ],
            [
             0.8,
             "#7fbc41"
            ],
            [
             0.9,
             "#4d9221"
            ],
            [
             1,
             "#276419"
            ]
           ],
           "sequential": [
            [
             0,
             "#0d0887"
            ],
            [
             0.1111111111111111,
             "#46039f"
            ],
            [
             0.2222222222222222,
             "#7201a8"
            ],
            [
             0.3333333333333333,
             "#9c179e"
            ],
            [
             0.4444444444444444,
             "#bd3786"
            ],
            [
             0.5555555555555556,
             "#d8576b"
            ],
            [
             0.6666666666666666,
             "#ed7953"
            ],
            [
             0.7777777777777778,
             "#fb9f3a"
            ],
            [
             0.8888888888888888,
             "#fdca26"
            ],
            [
             1,
             "#f0f921"
            ]
           ],
           "sequentialminus": [
            [
             0,
             "#0d0887"
            ],
            [
             0.1111111111111111,
             "#46039f"
            ],
            [
             0.2222222222222222,
             "#7201a8"
            ],
            [
             0.3333333333333333,
             "#9c179e"
            ],
            [
             0.4444444444444444,
             "#bd3786"
            ],
            [
             0.5555555555555556,
             "#d8576b"
            ],
            [
             0.6666666666666666,
             "#ed7953"
            ],
            [
             0.7777777777777778,
             "#fb9f3a"
            ],
            [
             0.8888888888888888,
             "#fdca26"
            ],
            [
             1,
             "#f0f921"
            ]
           ]
          },
          "colorway": [
           "#636efa",
           "#EF553B",
           "#00cc96",
           "#ab63fa",
           "#FFA15A",
           "#19d3f3",
           "#FF6692",
           "#B6E880",
           "#FF97FF",
           "#FECB52"
          ],
          "font": {
           "color": "#2a3f5f"
          },
          "geo": {
           "bgcolor": "white",
           "lakecolor": "white",
           "landcolor": "#E5ECF6",
           "showlakes": true,
           "showland": true,
           "subunitcolor": "white"
          },
          "hoverlabel": {
           "align": "left"
          },
          "hovermode": "closest",
          "mapbox": {
           "style": "light"
          },
          "paper_bgcolor": "white",
          "plot_bgcolor": "#E5ECF6",
          "polar": {
           "angularaxis": {
            "gridcolor": "white",
            "linecolor": "white",
            "ticks": ""
           },
           "bgcolor": "#E5ECF6",
           "radialaxis": {
            "gridcolor": "white",
            "linecolor": "white",
            "ticks": ""
           }
          },
          "scene": {
           "xaxis": {
            "backgroundcolor": "#E5ECF6",
            "gridcolor": "white",
            "gridwidth": 2,
            "linecolor": "white",
            "showbackground": true,
            "ticks": "",
            "zerolinecolor": "white"
           },
           "yaxis": {
            "backgroundcolor": "#E5ECF6",
            "gridcolor": "white",
            "gridwidth": 2,
            "linecolor": "white",
            "showbackground": true,
            "ticks": "",
            "zerolinecolor": "white"
           },
           "zaxis": {
            "backgroundcolor": "#E5ECF6",
            "gridcolor": "white",
            "gridwidth": 2,
            "linecolor": "white",
            "showbackground": true,
            "ticks": "",
            "zerolinecolor": "white"
           }
          },
          "shapedefaults": {
           "line": {
            "color": "#2a3f5f"
           }
          },
          "ternary": {
           "aaxis": {
            "gridcolor": "white",
            "linecolor": "white",
            "ticks": ""
           },
           "baxis": {
            "gridcolor": "white",
            "linecolor": "white",
            "ticks": ""
           },
           "bgcolor": "#E5ECF6",
           "caxis": {
            "gridcolor": "white",
            "linecolor": "white",
            "ticks": ""
           }
          },
          "title": {
           "x": 0.05
          },
          "xaxis": {
           "automargin": true,
           "gridcolor": "white",
           "linecolor": "white",
           "ticks": "",
           "title": {
            "standoff": 15
           },
           "zerolinecolor": "white",
           "zerolinewidth": 2
          },
          "yaxis": {
           "automargin": true,
           "gridcolor": "white",
           "linecolor": "white",
           "ticks": "",
           "title": {
            "standoff": 15
           },
           "zerolinecolor": "white",
           "zerolinewidth": 2
          }
         }
        },
        "title": {
         "text": "Distribution of Top 100 Material Types"
        },
        "xaxis": {
         "anchor": "y",
         "domain": [
          0,
          1
         ],
         "title": {
          "text": "Material"
         }
        },
        "yaxis": {
         "anchor": "x",
         "domain": [
          0,
          1
         ],
         "title": {
          "text": "Count"
         }
        }
       }
      }
     },
     "metadata": {},
     "output_type": "display_data"
    }
   ],
   "source": [
    "# Count the different material types\n",
    "material_counts = training_df['Material'].value_counts()\n",
    "# results: 4,072,515 rows are MS, the next most is SS with 191,961 \n",
    "\n",
    "# count the number of unique materials\n",
    "nunique_materials = training_df.Material.nunique()\n",
    "print(f'There are {nunique_materials} unique materials in the dataset.')\n",
    "\n",
    "# Convert the Series to a DataFrame\n",
    "material_counts_df = material_counts.reset_index()\n",
    "\n",
    "# Rename the columns for clarity\n",
    "material_counts_df.columns = ['Material', 'Count']\n",
    "\n",
    "# Sort the DataFrame by the 'Count' column in descending order and take the top 30 rows\n",
    "top_material_counts_df = material_counts_df.sort_values('Count', ascending=False).head(100)\n",
    "\n",
    "# Create a bar chart for the top 30 materials\n",
    "fig = px.bar(top_material_counts_df, x='Material', y='Count', title='Distribution of Top 100 Material Types')\n",
    "fig.show()"
   ]
  },
  {
   "cell_type": "code",
   "execution_count": 23,
   "metadata": {},
   "outputs": [],
   "source": [
    "# remove all rows that do not have mild steel (ms) as the Material\n",
    "\n",
    "# drop all the NA values from Material, Keep only the rows where Material contains 'ms'\n",
    "training_df = training_df.dropna(subset=['Material'])\n",
    "training_df = training_df[training_df['Material'] == 'ms']\n",
    "\n",
    "# Drop the Material column from the dataframe - don't need it anymore \n",
    "encoded_df = training_df.drop(columns=['Material'])"
   ]
  },
  {
   "cell_type": "code",
   "execution_count": 25,
   "metadata": {},
   "outputs": [
    {
     "data": {
      "application/vnd.plotly.v1+json": {
       "config": {
        "plotlyServerURL": "https://plot.ly"
       },
       "data": [
        {
         "domain": {
          "x": [
           0,
           1
          ],
          "y": [
           0,
           1
          ]
         },
         "hovertemplate": "index=%{label}<br>value=%{value}<extra></extra>",
         "labels": [
          "IntelliChoice",
          "Strategy_4",
          "Strategy_10",
          "Strategy_1",
          "Strategy_5",
          "Strategy_3",
          "Rectangular",
          "Rectangular_Optimization",
          "Strategy_8",
          "Strategy_9",
          "Strategy_2",
          "Strategy_6",
          "Strategy_7"
         ],
         "legendgroup": "",
         "name": "",
         "showlegend": true,
         "type": "pie",
         "values": [
          1643612,
          1168220,
          359470,
          286109,
          124727,
          86669,
          76583,
          65074,
          62512,
          58105,
          53312,
          45102,
          43020
         ]
        }
       ],
       "layout": {
        "legend": {
         "tracegroupgap": 0
        },
        "template": {
         "data": {
          "bar": [
           {
            "error_x": {
             "color": "#2a3f5f"
            },
            "error_y": {
             "color": "#2a3f5f"
            },
            "marker": {
             "line": {
              "color": "#E5ECF6",
              "width": 0.5
             },
             "pattern": {
              "fillmode": "overlay",
              "size": 10,
              "solidity": 0.2
             }
            },
            "type": "bar"
           }
          ],
          "barpolar": [
           {
            "marker": {
             "line": {
              "color": "#E5ECF6",
              "width": 0.5
             },
             "pattern": {
              "fillmode": "overlay",
              "size": 10,
              "solidity": 0.2
             }
            },
            "type": "barpolar"
           }
          ],
          "carpet": [
           {
            "aaxis": {
             "endlinecolor": "#2a3f5f",
             "gridcolor": "white",
             "linecolor": "white",
             "minorgridcolor": "white",
             "startlinecolor": "#2a3f5f"
            },
            "baxis": {
             "endlinecolor": "#2a3f5f",
             "gridcolor": "white",
             "linecolor": "white",
             "minorgridcolor": "white",
             "startlinecolor": "#2a3f5f"
            },
            "type": "carpet"
           }
          ],
          "choropleth": [
           {
            "colorbar": {
             "outlinewidth": 0,
             "ticks": ""
            },
            "type": "choropleth"
           }
          ],
          "contour": [
           {
            "colorbar": {
             "outlinewidth": 0,
             "ticks": ""
            },
            "colorscale": [
             [
              0,
              "#0d0887"
             ],
             [
              0.1111111111111111,
              "#46039f"
             ],
             [
              0.2222222222222222,
              "#7201a8"
             ],
             [
              0.3333333333333333,
              "#9c179e"
             ],
             [
              0.4444444444444444,
              "#bd3786"
             ],
             [
              0.5555555555555556,
              "#d8576b"
             ],
             [
              0.6666666666666666,
              "#ed7953"
             ],
             [
              0.7777777777777778,
              "#fb9f3a"
             ],
             [
              0.8888888888888888,
              "#fdca26"
             ],
             [
              1,
              "#f0f921"
             ]
            ],
            "type": "contour"
           }
          ],
          "contourcarpet": [
           {
            "colorbar": {
             "outlinewidth": 0,
             "ticks": ""
            },
            "type": "contourcarpet"
           }
          ],
          "heatmap": [
           {
            "colorbar": {
             "outlinewidth": 0,
             "ticks": ""
            },
            "colorscale": [
             [
              0,
              "#0d0887"
             ],
             [
              0.1111111111111111,
              "#46039f"
             ],
             [
              0.2222222222222222,
              "#7201a8"
             ],
             [
              0.3333333333333333,
              "#9c179e"
             ],
             [
              0.4444444444444444,
              "#bd3786"
             ],
             [
              0.5555555555555556,
              "#d8576b"
             ],
             [
              0.6666666666666666,
              "#ed7953"
             ],
             [
              0.7777777777777778,
              "#fb9f3a"
             ],
             [
              0.8888888888888888,
              "#fdca26"
             ],
             [
              1,
              "#f0f921"
             ]
            ],
            "type": "heatmap"
           }
          ],
          "heatmapgl": [
           {
            "colorbar": {
             "outlinewidth": 0,
             "ticks": ""
            },
            "colorscale": [
             [
              0,
              "#0d0887"
             ],
             [
              0.1111111111111111,
              "#46039f"
             ],
             [
              0.2222222222222222,
              "#7201a8"
             ],
             [
              0.3333333333333333,
              "#9c179e"
             ],
             [
              0.4444444444444444,
              "#bd3786"
             ],
             [
              0.5555555555555556,
              "#d8576b"
             ],
             [
              0.6666666666666666,
              "#ed7953"
             ],
             [
              0.7777777777777778,
              "#fb9f3a"
             ],
             [
              0.8888888888888888,
              "#fdca26"
             ],
             [
              1,
              "#f0f921"
             ]
            ],
            "type": "heatmapgl"
           }
          ],
          "histogram": [
           {
            "marker": {
             "pattern": {
              "fillmode": "overlay",
              "size": 10,
              "solidity": 0.2
             }
            },
            "type": "histogram"
           }
          ],
          "histogram2d": [
           {
            "colorbar": {
             "outlinewidth": 0,
             "ticks": ""
            },
            "colorscale": [
             [
              0,
              "#0d0887"
             ],
             [
              0.1111111111111111,
              "#46039f"
             ],
             [
              0.2222222222222222,
              "#7201a8"
             ],
             [
              0.3333333333333333,
              "#9c179e"
             ],
             [
              0.4444444444444444,
              "#bd3786"
             ],
             [
              0.5555555555555556,
              "#d8576b"
             ],
             [
              0.6666666666666666,
              "#ed7953"
             ],
             [
              0.7777777777777778,
              "#fb9f3a"
             ],
             [
              0.8888888888888888,
              "#fdca26"
             ],
             [
              1,
              "#f0f921"
             ]
            ],
            "type": "histogram2d"
           }
          ],
          "histogram2dcontour": [
           {
            "colorbar": {
             "outlinewidth": 0,
             "ticks": ""
            },
            "colorscale": [
             [
              0,
              "#0d0887"
             ],
             [
              0.1111111111111111,
              "#46039f"
             ],
             [
              0.2222222222222222,
              "#7201a8"
             ],
             [
              0.3333333333333333,
              "#9c179e"
             ],
             [
              0.4444444444444444,
              "#bd3786"
             ],
             [
              0.5555555555555556,
              "#d8576b"
             ],
             [
              0.6666666666666666,
              "#ed7953"
             ],
             [
              0.7777777777777778,
              "#fb9f3a"
             ],
             [
              0.8888888888888888,
              "#fdca26"
             ],
             [
              1,
              "#f0f921"
             ]
            ],
            "type": "histogram2dcontour"
           }
          ],
          "mesh3d": [
           {
            "colorbar": {
             "outlinewidth": 0,
             "ticks": ""
            },
            "type": "mesh3d"
           }
          ],
          "parcoords": [
           {
            "line": {
             "colorbar": {
              "outlinewidth": 0,
              "ticks": ""
             }
            },
            "type": "parcoords"
           }
          ],
          "pie": [
           {
            "automargin": true,
            "type": "pie"
           }
          ],
          "scatter": [
           {
            "marker": {
             "colorbar": {
              "outlinewidth": 0,
              "ticks": ""
             }
            },
            "type": "scatter"
           }
          ],
          "scatter3d": [
           {
            "line": {
             "colorbar": {
              "outlinewidth": 0,
              "ticks": ""
             }
            },
            "marker": {
             "colorbar": {
              "outlinewidth": 0,
              "ticks": ""
             }
            },
            "type": "scatter3d"
           }
          ],
          "scattercarpet": [
           {
            "marker": {
             "colorbar": {
              "outlinewidth": 0,
              "ticks": ""
             }
            },
            "type": "scattercarpet"
           }
          ],
          "scattergeo": [
           {
            "marker": {
             "colorbar": {
              "outlinewidth": 0,
              "ticks": ""
             }
            },
            "type": "scattergeo"
           }
          ],
          "scattergl": [
           {
            "marker": {
             "colorbar": {
              "outlinewidth": 0,
              "ticks": ""
             }
            },
            "type": "scattergl"
           }
          ],
          "scattermapbox": [
           {
            "marker": {
             "colorbar": {
              "outlinewidth": 0,
              "ticks": ""
             }
            },
            "type": "scattermapbox"
           }
          ],
          "scatterpolar": [
           {
            "marker": {
             "colorbar": {
              "outlinewidth": 0,
              "ticks": ""
             }
            },
            "type": "scatterpolar"
           }
          ],
          "scatterpolargl": [
           {
            "marker": {
             "colorbar": {
              "outlinewidth": 0,
              "ticks": ""
             }
            },
            "type": "scatterpolargl"
           }
          ],
          "scatterternary": [
           {
            "marker": {
             "colorbar": {
              "outlinewidth": 0,
              "ticks": ""
             }
            },
            "type": "scatterternary"
           }
          ],
          "surface": [
           {
            "colorbar": {
             "outlinewidth": 0,
             "ticks": ""
            },
            "colorscale": [
             [
              0,
              "#0d0887"
             ],
             [
              0.1111111111111111,
              "#46039f"
             ],
             [
              0.2222222222222222,
              "#7201a8"
             ],
             [
              0.3333333333333333,
              "#9c179e"
             ],
             [
              0.4444444444444444,
              "#bd3786"
             ],
             [
              0.5555555555555556,
              "#d8576b"
             ],
             [
              0.6666666666666666,
              "#ed7953"
             ],
             [
              0.7777777777777778,
              "#fb9f3a"
             ],
             [
              0.8888888888888888,
              "#fdca26"
             ],
             [
              1,
              "#f0f921"
             ]
            ],
            "type": "surface"
           }
          ],
          "table": [
           {
            "cells": {
             "fill": {
              "color": "#EBF0F8"
             },
             "line": {
              "color": "white"
             }
            },
            "header": {
             "fill": {
              "color": "#C8D4E3"
             },
             "line": {
              "color": "white"
             }
            },
            "type": "table"
           }
          ]
         },
         "layout": {
          "annotationdefaults": {
           "arrowcolor": "#2a3f5f",
           "arrowhead": 0,
           "arrowwidth": 1
          },
          "autotypenumbers": "strict",
          "coloraxis": {
           "colorbar": {
            "outlinewidth": 0,
            "ticks": ""
           }
          },
          "colorscale": {
           "diverging": [
            [
             0,
             "#8e0152"
            ],
            [
             0.1,
             "#c51b7d"
            ],
            [
             0.2,
             "#de77ae"
            ],
            [
             0.3,
             "#f1b6da"
            ],
            [
             0.4,
             "#fde0ef"
            ],
            [
             0.5,
             "#f7f7f7"
            ],
            [
             0.6,
             "#e6f5d0"
            ],
            [
             0.7,
             "#b8e186"
            ],
            [
             0.8,
             "#7fbc41"
            ],
            [
             0.9,
             "#4d9221"
            ],
            [
             1,
             "#276419"
            ]
           ],
           "sequential": [
            [
             0,
             "#0d0887"
            ],
            [
             0.1111111111111111,
             "#46039f"
            ],
            [
             0.2222222222222222,
             "#7201a8"
            ],
            [
             0.3333333333333333,
             "#9c179e"
            ],
            [
             0.4444444444444444,
             "#bd3786"
            ],
            [
             0.5555555555555556,
             "#d8576b"
            ],
            [
             0.6666666666666666,
             "#ed7953"
            ],
            [
             0.7777777777777778,
             "#fb9f3a"
            ],
            [
             0.8888888888888888,
             "#fdca26"
            ],
            [
             1,
             "#f0f921"
            ]
           ],
           "sequentialminus": [
            [
             0,
             "#0d0887"
            ],
            [
             0.1111111111111111,
             "#46039f"
            ],
            [
             0.2222222222222222,
             "#7201a8"
            ],
            [
             0.3333333333333333,
             "#9c179e"
            ],
            [
             0.4444444444444444,
             "#bd3786"
            ],
            [
             0.5555555555555556,
             "#d8576b"
            ],
            [
             0.6666666666666666,
             "#ed7953"
            ],
            [
             0.7777777777777778,
             "#fb9f3a"
            ],
            [
             0.8888888888888888,
             "#fdca26"
            ],
            [
             1,
             "#f0f921"
            ]
           ]
          },
          "colorway": [
           "#636efa",
           "#EF553B",
           "#00cc96",
           "#ab63fa",
           "#FFA15A",
           "#19d3f3",
           "#FF6692",
           "#B6E880",
           "#FF97FF",
           "#FECB52"
          ],
          "font": {
           "color": "#2a3f5f"
          },
          "geo": {
           "bgcolor": "white",
           "lakecolor": "white",
           "landcolor": "#E5ECF6",
           "showlakes": true,
           "showland": true,
           "subunitcolor": "white"
          },
          "hoverlabel": {
           "align": "left"
          },
          "hovermode": "closest",
          "mapbox": {
           "style": "light"
          },
          "paper_bgcolor": "white",
          "plot_bgcolor": "#E5ECF6",
          "polar": {
           "angularaxis": {
            "gridcolor": "white",
            "linecolor": "white",
            "ticks": ""
           },
           "bgcolor": "#E5ECF6",
           "radialaxis": {
            "gridcolor": "white",
            "linecolor": "white",
            "ticks": ""
           }
          },
          "scene": {
           "xaxis": {
            "backgroundcolor": "#E5ECF6",
            "gridcolor": "white",
            "gridwidth": 2,
            "linecolor": "white",
            "showbackground": true,
            "ticks": "",
            "zerolinecolor": "white"
           },
           "yaxis": {
            "backgroundcolor": "#E5ECF6",
            "gridcolor": "white",
            "gridwidth": 2,
            "linecolor": "white",
            "showbackground": true,
            "ticks": "",
            "zerolinecolor": "white"
           },
           "zaxis": {
            "backgroundcolor": "#E5ECF6",
            "gridcolor": "white",
            "gridwidth": 2,
            "linecolor": "white",
            "showbackground": true,
            "ticks": "",
            "zerolinecolor": "white"
           }
          },
          "shapedefaults": {
           "line": {
            "color": "#2a3f5f"
           }
          },
          "ternary": {
           "aaxis": {
            "gridcolor": "white",
            "linecolor": "white",
            "ticks": ""
           },
           "baxis": {
            "gridcolor": "white",
            "linecolor": "white",
            "ticks": ""
           },
           "bgcolor": "#E5ECF6",
           "caxis": {
            "gridcolor": "white",
            "linecolor": "white",
            "ticks": ""
           }
          },
          "title": {
           "x": 0.05
          },
          "xaxis": {
           "automargin": true,
           "gridcolor": "white",
           "linecolor": "white",
           "ticks": "",
           "title": {
            "standoff": 15
           },
           "zerolinecolor": "white",
           "zerolinewidth": 2
          },
          "yaxis": {
           "automargin": true,
           "gridcolor": "white",
           "linecolor": "white",
           "ticks": "",
           "title": {
            "standoff": 15
           },
           "zerolinecolor": "white",
           "zerolinewidth": 2
          }
         }
        },
        "title": {
         "text": "Distribution of Strategies Used in AutoNest"
        }
       }
      }
     },
     "metadata": {},
     "output_type": "display_data"
    }
   ],
   "source": [
    "# Load the dictionary from the JSON file\n",
    "with open('../CEIP_csv/AutoNestStrategy.json', 'r') as f:\n",
    "    autoneststrategy_dict = json.load(f)\n",
    "    \n",
    "#  Convert ixAutoNestStrategy to string\n",
    "encoded_df['ixAutoNestStrategy'] = encoded_df['ixAutoNestStrategy'].astype(str)\n",
    "\n",
    "# Replace the ixAutoNestStrategy values in the DataFrame\n",
    "encoded_df['ixAutoNestStrategy'] = encoded_df['ixAutoNestStrategy'].map(autoneststrategy_dict)\n",
    "\n",
    "# save this column for comparison for later use before one-hot encoding \n",
    "comparison_df = pd.DataFrame()\n",
    "comparison_df['ixAutoNestStrategy'] = encoded_df['ixAutoNestStrategy']\n",
    "\n",
    "# Count the different strategies\n",
    "strategy_counts = encoded_df['ixAutoNestStrategy'].value_counts()\n",
    "\n",
    "# Create a pie chart directly from the Series\n",
    "fig = px.pie(strategy_counts, values=strategy_counts.values, names=strategy_counts.index, \n",
    "             title='Distribution of Strategies Used in AutoNest')\n",
    "fig.show()"
   ]
  },
  {
   "cell_type": "code",
   "execution_count": 26,
   "metadata": {},
   "outputs": [
    {
     "data": {
      "text/html": [
       "<div>\n",
       "<style scoped>\n",
       "    .dataframe tbody tr th:only-of-type {\n",
       "        vertical-align: middle;\n",
       "    }\n",
       "\n",
       "    .dataframe tbody tr th {\n",
       "        vertical-align: top;\n",
       "    }\n",
       "\n",
       "    .dataframe thead th {\n",
       "        text-align: right;\n",
       "    }\n",
       "</style>\n",
       "<table border=\"1\" class=\"dataframe\">\n",
       "  <thead>\n",
       "    <tr style=\"text-align: right;\">\n",
       "      <th></th>\n",
       "      <th>ixJobSummary</th>\n",
       "      <th>ixNest</th>\n",
       "      <th>ixPart</th>\n",
       "      <th>dPartTrueArea</th>\n",
       "      <th>cRequired</th>\n",
       "      <th>cNested</th>\n",
       "      <th>fExtShape</th>\n",
       "      <th>dExtArea</th>\n",
       "      <th>dExtBoundaryDist</th>\n",
       "      <th>dExtContainedDist</th>\n",
       "      <th>...</th>\n",
       "      <th>AutoStrat_Strategy_1</th>\n",
       "      <th>AutoStrat_Strategy_10</th>\n",
       "      <th>AutoStrat_Strategy_2</th>\n",
       "      <th>AutoStrat_Strategy_3</th>\n",
       "      <th>AutoStrat_Strategy_4</th>\n",
       "      <th>AutoStrat_Strategy_5</th>\n",
       "      <th>AutoStrat_Strategy_6</th>\n",
       "      <th>AutoStrat_Strategy_7</th>\n",
       "      <th>AutoStrat_Strategy_8</th>\n",
       "      <th>AutoStrat_Strategy_9</th>\n",
       "    </tr>\n",
       "  </thead>\n",
       "  <tbody>\n",
       "    <tr>\n",
       "      <th>0</th>\n",
       "      <td>304409</td>\n",
       "      <td>746165</td>\n",
       "      <td>2377314</td>\n",
       "      <td>151.1253</td>\n",
       "      <td>5</td>\n",
       "      <td>5</td>\n",
       "      <td>0</td>\n",
       "      <td>151.1253</td>\n",
       "      <td>4.7891</td>\n",
       "      <td>15.8795</td>\n",
       "      <td>...</td>\n",
       "      <td>0</td>\n",
       "      <td>0</td>\n",
       "      <td>0</td>\n",
       "      <td>0</td>\n",
       "      <td>1</td>\n",
       "      <td>0</td>\n",
       "      <td>0</td>\n",
       "      <td>0</td>\n",
       "      <td>0</td>\n",
       "      <td>0</td>\n",
       "    </tr>\n",
       "    <tr>\n",
       "      <th>1</th>\n",
       "      <td>304409</td>\n",
       "      <td>746165</td>\n",
       "      <td>2377315</td>\n",
       "      <td>49.5807</td>\n",
       "      <td>10</td>\n",
       "      <td>10</td>\n",
       "      <td>0</td>\n",
       "      <td>49.5807</td>\n",
       "      <td>3.1157</td>\n",
       "      <td>9.9701</td>\n",
       "      <td>...</td>\n",
       "      <td>0</td>\n",
       "      <td>0</td>\n",
       "      <td>0</td>\n",
       "      <td>0</td>\n",
       "      <td>1</td>\n",
       "      <td>0</td>\n",
       "      <td>0</td>\n",
       "      <td>0</td>\n",
       "      <td>0</td>\n",
       "      <td>0</td>\n",
       "    </tr>\n",
       "    <tr>\n",
       "      <th>3</th>\n",
       "      <td>304409</td>\n",
       "      <td>746165</td>\n",
       "      <td>2377316</td>\n",
       "      <td>222.0186</td>\n",
       "      <td>5</td>\n",
       "      <td>5</td>\n",
       "      <td>0</td>\n",
       "      <td>222.0186</td>\n",
       "      <td>4.7891</td>\n",
       "      <td>24.3234</td>\n",
       "      <td>...</td>\n",
       "      <td>0</td>\n",
       "      <td>0</td>\n",
       "      <td>0</td>\n",
       "      <td>0</td>\n",
       "      <td>1</td>\n",
       "      <td>0</td>\n",
       "      <td>0</td>\n",
       "      <td>0</td>\n",
       "      <td>0</td>\n",
       "      <td>0</td>\n",
       "    </tr>\n",
       "    <tr>\n",
       "      <th>5</th>\n",
       "      <td>304409</td>\n",
       "      <td>746165</td>\n",
       "      <td>2377317</td>\n",
       "      <td>2.5008</td>\n",
       "      <td>120</td>\n",
       "      <td>120</td>\n",
       "      <td>0</td>\n",
       "      <td>2.5008</td>\n",
       "      <td>0.6184</td>\n",
       "      <td>2.7209</td>\n",
       "      <td>...</td>\n",
       "      <td>0</td>\n",
       "      <td>0</td>\n",
       "      <td>0</td>\n",
       "      <td>0</td>\n",
       "      <td>1</td>\n",
       "      <td>0</td>\n",
       "      <td>0</td>\n",
       "      <td>0</td>\n",
       "      <td>0</td>\n",
       "      <td>0</td>\n",
       "    </tr>\n",
       "    <tr>\n",
       "      <th>7</th>\n",
       "      <td>304409</td>\n",
       "      <td>746165</td>\n",
       "      <td>2377318</td>\n",
       "      <td>11.5773</td>\n",
       "      <td>55</td>\n",
       "      <td>55</td>\n",
       "      <td>0</td>\n",
       "      <td>11.5773</td>\n",
       "      <td>0.9060</td>\n",
       "      <td>5.9537</td>\n",
       "      <td>...</td>\n",
       "      <td>0</td>\n",
       "      <td>0</td>\n",
       "      <td>0</td>\n",
       "      <td>0</td>\n",
       "      <td>1</td>\n",
       "      <td>0</td>\n",
       "      <td>0</td>\n",
       "      <td>0</td>\n",
       "      <td>0</td>\n",
       "      <td>0</td>\n",
       "    </tr>\n",
       "  </tbody>\n",
       "</table>\n",
       "<p>5 rows × 40 columns</p>\n",
       "</div>"
      ],
      "text/plain": [
       "   ixJobSummary  ixNest   ixPart  dPartTrueArea  cRequired  cNested  \\\n",
       "0        304409  746165  2377314       151.1253          5        5   \n",
       "1        304409  746165  2377315        49.5807         10       10   \n",
       "3        304409  746165  2377316       222.0186          5        5   \n",
       "5        304409  746165  2377317         2.5008        120      120   \n",
       "7        304409  746165  2377318        11.5773         55       55   \n",
       "\n",
       "   fExtShape  dExtArea  dExtBoundaryDist  dExtContainedDist  ...  \\\n",
       "0          0  151.1253            4.7891            15.8795  ...   \n",
       "1          0   49.5807            3.1157             9.9701  ...   \n",
       "3          0  222.0186            4.7891            24.3234  ...   \n",
       "5          0    2.5008            0.6184             2.7209  ...   \n",
       "7          0   11.5773            0.9060             5.9537  ...   \n",
       "\n",
       "   AutoStrat_Strategy_1  AutoStrat_Strategy_10  AutoStrat_Strategy_2  \\\n",
       "0                     0                      0                     0   \n",
       "1                     0                      0                     0   \n",
       "3                     0                      0                     0   \n",
       "5                     0                      0                     0   \n",
       "7                     0                      0                     0   \n",
       "\n",
       "   AutoStrat_Strategy_3  AutoStrat_Strategy_4  AutoStrat_Strategy_5  \\\n",
       "0                     0                     1                     0   \n",
       "1                     0                     1                     0   \n",
       "3                     0                     1                     0   \n",
       "5                     0                     1                     0   \n",
       "7                     0                     1                     0   \n",
       "\n",
       "   AutoStrat_Strategy_6  AutoStrat_Strategy_7  AutoStrat_Strategy_8  \\\n",
       "0                     0                     0                     0   \n",
       "1                     0                     0                     0   \n",
       "3                     0                     0                     0   \n",
       "5                     0                     0                     0   \n",
       "7                     0                     0                     0   \n",
       "\n",
       "   AutoStrat_Strategy_9  \n",
       "0                     0  \n",
       "1                     0  \n",
       "3                     0  \n",
       "5                     0  \n",
       "7                     0  \n",
       "\n",
       "[5 rows x 40 columns]"
      ]
     },
     "execution_count": 26,
     "metadata": {},
     "output_type": "execute_result"
    }
   ],
   "source": [
    "# one hot encoding for the AutoNestStrategy to convert categorical from numeric \n",
    "\n",
    "# Perform one-hot encoding for the ixAutoNestStrategy column\n",
    "ix_auto_nest_encoded = pd.get_dummies(encoded_df['ixAutoNestStrategy'], prefix='AutoStrat')\n",
    "\n",
    "# Concatenate the new columns to the original DataFrame\n",
    "encoded_df = pd.concat([encoded_df, ix_auto_nest_encoded], axis=1)\n",
    "\n",
    "# Optionally, you can drop the original ixAutoNestStrategy column\n",
    "encoded_df = encoded_df.drop('ixAutoNestStrategy', axis=1)\n",
    "\n",
    "encoded_df.head()"
   ]
  },
  {
   "cell_type": "code",
   "execution_count": 27,
   "metadata": {},
   "outputs": [
    {
     "name": "stdout",
     "output_type": "stream",
     "text": [
      "Strategy4            987912\n",
      "ICProfileNesting     697235\n",
      "ICPatternFill        391337\n",
      "IntelliNest          313332\n",
      "ManualNesting        279737\n",
      "Strategy1            276538\n",
      "Strategy10           272571\n",
      "Strategy5             99022\n",
      "Strategy3             76083\n",
      "Strategy9             60085\n",
      "BlockNesting          58917\n",
      "Strategy8             46291\n",
      "BlockOptimization     41814\n",
      "Strategy2             41495\n",
      "Strategy7             40244\n",
      "Strategy6             37818\n",
      "Name: fStrategies, dtype: int64\n"
     ]
    }
   ],
   "source": [
    "# !! COMMENTED OUT: keep this as a bitmask for the ML models\n",
    "\n",
    "# re-encode the fStrategies column \n",
    "# Define a dictionary with the bitmask values for each strategy\n",
    "strategies_dict = {\n",
    "    'Strategy1': 0x00000001,\n",
    "    'Strategy2': 0x00000002,\n",
    "    'Strategy3': 0x00000004,\n",
    "    'Strategy4': 0x00000008,\n",
    "    'Strategy5': 0x00000010,\n",
    "    'Strategy6': 0x00000020,\n",
    "    'Strategy7': 0x00000040,\n",
    "    'Strategy8': 0x00000080,\n",
    "    'Strategy9': 0x00000100,\n",
    "    'Strategy10': 0x00000200,\n",
    "    'BlockNesting': 0x00000400,\n",
    "    'BlockOptimization': 0x00000800,\n",
    "    'IntelliNest': 0x00001000,\n",
    "    'ICProfileNesting': 0x00002000,\n",
    "    'ICPatternFill': 0x00004000,\n",
    "    'ManualNesting': 0x80000000\n",
    "}\n",
    "\n",
    "# convert fStrategy bitMasks to strings \n",
    "def get_strategy_name(bitmask, strategies_dict):\n",
    "    for strategy, bitmask_value in strategies_dict.items():\n",
    "        if bitmask & bitmask_value:\n",
    "            return strategy\n",
    "    return None\n",
    "\n",
    "encoded_df['fStrategy'] = encoded_df['fStrategies'].apply(lambda x: get_strategy_name(x, strategies_dict))\n",
    "\n",
    "# Drop the old fStrategies column\n",
    "encoded_df = encoded_df.drop('fStrategies', axis=1)\n",
    "\n",
    "# Rename the new fStrategy column to fStrategies\n",
    "encoded_df = encoded_df.rename(columns={'fStrategy': 'fStrategies'})\n",
    "\n",
    "# get the value counts of fStrategy types \n",
    "fstrat_value_counts = encoded_df['fStrategies'].value_counts()\n",
    "print(fstrat_value_counts)"
   ]
  },
  {
   "cell_type": "code",
   "execution_count": 28,
   "metadata": {},
   "outputs": [
    {
     "data": {
      "application/vnd.plotly.v1+json": {
       "config": {
        "plotlyServerURL": "https://plot.ly"
       },
       "data": [
        {
         "labels": [
          "Strategy4",
          "ICProfileNesting",
          "ICPatternFill",
          "IntelliNest",
          "ManualNesting",
          "Strategy1",
          "Strategy10",
          "Strategy5",
          "Strategy3",
          "Strategy9"
         ],
         "textinfo": "label+percent",
         "type": "pie",
         "values": [
          987912,
          697235,
          391337,
          313332,
          279737,
          276538,
          272571,
          99022,
          76083,
          60085
         ]
        }
       ],
       "layout": {
        "template": {
         "data": {
          "bar": [
           {
            "error_x": {
             "color": "#2a3f5f"
            },
            "error_y": {
             "color": "#2a3f5f"
            },
            "marker": {
             "line": {
              "color": "#E5ECF6",
              "width": 0.5
             },
             "pattern": {
              "fillmode": "overlay",
              "size": 10,
              "solidity": 0.2
             }
            },
            "type": "bar"
           }
          ],
          "barpolar": [
           {
            "marker": {
             "line": {
              "color": "#E5ECF6",
              "width": 0.5
             },
             "pattern": {
              "fillmode": "overlay",
              "size": 10,
              "solidity": 0.2
             }
            },
            "type": "barpolar"
           }
          ],
          "carpet": [
           {
            "aaxis": {
             "endlinecolor": "#2a3f5f",
             "gridcolor": "white",
             "linecolor": "white",
             "minorgridcolor": "white",
             "startlinecolor": "#2a3f5f"
            },
            "baxis": {
             "endlinecolor": "#2a3f5f",
             "gridcolor": "white",
             "linecolor": "white",
             "minorgridcolor": "white",
             "startlinecolor": "#2a3f5f"
            },
            "type": "carpet"
           }
          ],
          "choropleth": [
           {
            "colorbar": {
             "outlinewidth": 0,
             "ticks": ""
            },
            "type": "choropleth"
           }
          ],
          "contour": [
           {
            "colorbar": {
             "outlinewidth": 0,
             "ticks": ""
            },
            "colorscale": [
             [
              0,
              "#0d0887"
             ],
             [
              0.1111111111111111,
              "#46039f"
             ],
             [
              0.2222222222222222,
              "#7201a8"
             ],
             [
              0.3333333333333333,
              "#9c179e"
             ],
             [
              0.4444444444444444,
              "#bd3786"
             ],
             [
              0.5555555555555556,
              "#d8576b"
             ],
             [
              0.6666666666666666,
              "#ed7953"
             ],
             [
              0.7777777777777778,
              "#fb9f3a"
             ],
             [
              0.8888888888888888,
              "#fdca26"
             ],
             [
              1,
              "#f0f921"
             ]
            ],
            "type": "contour"
           }
          ],
          "contourcarpet": [
           {
            "colorbar": {
             "outlinewidth": 0,
             "ticks": ""
            },
            "type": "contourcarpet"
           }
          ],
          "heatmap": [
           {
            "colorbar": {
             "outlinewidth": 0,
             "ticks": ""
            },
            "colorscale": [
             [
              0,
              "#0d0887"
             ],
             [
              0.1111111111111111,
              "#46039f"
             ],
             [
              0.2222222222222222,
              "#7201a8"
             ],
             [
              0.3333333333333333,
              "#9c179e"
             ],
             [
              0.4444444444444444,
              "#bd3786"
             ],
             [
              0.5555555555555556,
              "#d8576b"
             ],
             [
              0.6666666666666666,
              "#ed7953"
             ],
             [
              0.7777777777777778,
              "#fb9f3a"
             ],
             [
              0.8888888888888888,
              "#fdca26"
             ],
             [
              1,
              "#f0f921"
             ]
            ],
            "type": "heatmap"
           }
          ],
          "heatmapgl": [
           {
            "colorbar": {
             "outlinewidth": 0,
             "ticks": ""
            },
            "colorscale": [
             [
              0,
              "#0d0887"
             ],
             [
              0.1111111111111111,
              "#46039f"
             ],
             [
              0.2222222222222222,
              "#7201a8"
             ],
             [
              0.3333333333333333,
              "#9c179e"
             ],
             [
              0.4444444444444444,
              "#bd3786"
             ],
             [
              0.5555555555555556,
              "#d8576b"
             ],
             [
              0.6666666666666666,
              "#ed7953"
             ],
             [
              0.7777777777777778,
              "#fb9f3a"
             ],
             [
              0.8888888888888888,
              "#fdca26"
             ],
             [
              1,
              "#f0f921"
             ]
            ],
            "type": "heatmapgl"
           }
          ],
          "histogram": [
           {
            "marker": {
             "pattern": {
              "fillmode": "overlay",
              "size": 10,
              "solidity": 0.2
             }
            },
            "type": "histogram"
           }
          ],
          "histogram2d": [
           {
            "colorbar": {
             "outlinewidth": 0,
             "ticks": ""
            },
            "colorscale": [
             [
              0,
              "#0d0887"
             ],
             [
              0.1111111111111111,
              "#46039f"
             ],
             [
              0.2222222222222222,
              "#7201a8"
             ],
             [
              0.3333333333333333,
              "#9c179e"
             ],
             [
              0.4444444444444444,
              "#bd3786"
             ],
             [
              0.5555555555555556,
              "#d8576b"
             ],
             [
              0.6666666666666666,
              "#ed7953"
             ],
             [
              0.7777777777777778,
              "#fb9f3a"
             ],
             [
              0.8888888888888888,
              "#fdca26"
             ],
             [
              1,
              "#f0f921"
             ]
            ],
            "type": "histogram2d"
           }
          ],
          "histogram2dcontour": [
           {
            "colorbar": {
             "outlinewidth": 0,
             "ticks": ""
            },
            "colorscale": [
             [
              0,
              "#0d0887"
             ],
             [
              0.1111111111111111,
              "#46039f"
             ],
             [
              0.2222222222222222,
              "#7201a8"
             ],
             [
              0.3333333333333333,
              "#9c179e"
             ],
             [
              0.4444444444444444,
              "#bd3786"
             ],
             [
              0.5555555555555556,
              "#d8576b"
             ],
             [
              0.6666666666666666,
              "#ed7953"
             ],
             [
              0.7777777777777778,
              "#fb9f3a"
             ],
             [
              0.8888888888888888,
              "#fdca26"
             ],
             [
              1,
              "#f0f921"
             ]
            ],
            "type": "histogram2dcontour"
           }
          ],
          "mesh3d": [
           {
            "colorbar": {
             "outlinewidth": 0,
             "ticks": ""
            },
            "type": "mesh3d"
           }
          ],
          "parcoords": [
           {
            "line": {
             "colorbar": {
              "outlinewidth": 0,
              "ticks": ""
             }
            },
            "type": "parcoords"
           }
          ],
          "pie": [
           {
            "automargin": true,
            "type": "pie"
           }
          ],
          "scatter": [
           {
            "marker": {
             "colorbar": {
              "outlinewidth": 0,
              "ticks": ""
             }
            },
            "type": "scatter"
           }
          ],
          "scatter3d": [
           {
            "line": {
             "colorbar": {
              "outlinewidth": 0,
              "ticks": ""
             }
            },
            "marker": {
             "colorbar": {
              "outlinewidth": 0,
              "ticks": ""
             }
            },
            "type": "scatter3d"
           }
          ],
          "scattercarpet": [
           {
            "marker": {
             "colorbar": {
              "outlinewidth": 0,
              "ticks": ""
             }
            },
            "type": "scattercarpet"
           }
          ],
          "scattergeo": [
           {
            "marker": {
             "colorbar": {
              "outlinewidth": 0,
              "ticks": ""
             }
            },
            "type": "scattergeo"
           }
          ],
          "scattergl": [
           {
            "marker": {
             "colorbar": {
              "outlinewidth": 0,
              "ticks": ""
             }
            },
            "type": "scattergl"
           }
          ],
          "scattermapbox": [
           {
            "marker": {
             "colorbar": {
              "outlinewidth": 0,
              "ticks": ""
             }
            },
            "type": "scattermapbox"
           }
          ],
          "scatterpolar": [
           {
            "marker": {
             "colorbar": {
              "outlinewidth": 0,
              "ticks": ""
             }
            },
            "type": "scatterpolar"
           }
          ],
          "scatterpolargl": [
           {
            "marker": {
             "colorbar": {
              "outlinewidth": 0,
              "ticks": ""
             }
            },
            "type": "scatterpolargl"
           }
          ],
          "scatterternary": [
           {
            "marker": {
             "colorbar": {
              "outlinewidth": 0,
              "ticks": ""
             }
            },
            "type": "scatterternary"
           }
          ],
          "surface": [
           {
            "colorbar": {
             "outlinewidth": 0,
             "ticks": ""
            },
            "colorscale": [
             [
              0,
              "#0d0887"
             ],
             [
              0.1111111111111111,
              "#46039f"
             ],
             [
              0.2222222222222222,
              "#7201a8"
             ],
             [
              0.3333333333333333,
              "#9c179e"
             ],
             [
              0.4444444444444444,
              "#bd3786"
             ],
             [
              0.5555555555555556,
              "#d8576b"
             ],
             [
              0.6666666666666666,
              "#ed7953"
             ],
             [
              0.7777777777777778,
              "#fb9f3a"
             ],
             [
              0.8888888888888888,
              "#fdca26"
             ],
             [
              1,
              "#f0f921"
             ]
            ],
            "type": "surface"
           }
          ],
          "table": [
           {
            "cells": {
             "fill": {
              "color": "#EBF0F8"
             },
             "line": {
              "color": "white"
             }
            },
            "header": {
             "fill": {
              "color": "#C8D4E3"
             },
             "line": {
              "color": "white"
             }
            },
            "type": "table"
           }
          ]
         },
         "layout": {
          "annotationdefaults": {
           "arrowcolor": "#2a3f5f",
           "arrowhead": 0,
           "arrowwidth": 1
          },
          "autotypenumbers": "strict",
          "coloraxis": {
           "colorbar": {
            "outlinewidth": 0,
            "ticks": ""
           }
          },
          "colorscale": {
           "diverging": [
            [
             0,
             "#8e0152"
            ],
            [
             0.1,
             "#c51b7d"
            ],
            [
             0.2,
             "#de77ae"
            ],
            [
             0.3,
             "#f1b6da"
            ],
            [
             0.4,
             "#fde0ef"
            ],
            [
             0.5,
             "#f7f7f7"
            ],
            [
             0.6,
             "#e6f5d0"
            ],
            [
             0.7,
             "#b8e186"
            ],
            [
             0.8,
             "#7fbc41"
            ],
            [
             0.9,
             "#4d9221"
            ],
            [
             1,
             "#276419"
            ]
           ],
           "sequential": [
            [
             0,
             "#0d0887"
            ],
            [
             0.1111111111111111,
             "#46039f"
            ],
            [
             0.2222222222222222,
             "#7201a8"
            ],
            [
             0.3333333333333333,
             "#9c179e"
            ],
            [
             0.4444444444444444,
             "#bd3786"
            ],
            [
             0.5555555555555556,
             "#d8576b"
            ],
            [
             0.6666666666666666,
             "#ed7953"
            ],
            [
             0.7777777777777778,
             "#fb9f3a"
            ],
            [
             0.8888888888888888,
             "#fdca26"
            ],
            [
             1,
             "#f0f921"
            ]
           ],
           "sequentialminus": [
            [
             0,
             "#0d0887"
            ],
            [
             0.1111111111111111,
             "#46039f"
            ],
            [
             0.2222222222222222,
             "#7201a8"
            ],
            [
             0.3333333333333333,
             "#9c179e"
            ],
            [
             0.4444444444444444,
             "#bd3786"
            ],
            [
             0.5555555555555556,
             "#d8576b"
            ],
            [
             0.6666666666666666,
             "#ed7953"
            ],
            [
             0.7777777777777778,
             "#fb9f3a"
            ],
            [
             0.8888888888888888,
             "#fdca26"
            ],
            [
             1,
             "#f0f921"
            ]
           ]
          },
          "colorway": [
           "#636efa",
           "#EF553B",
           "#00cc96",
           "#ab63fa",
           "#FFA15A",
           "#19d3f3",
           "#FF6692",
           "#B6E880",
           "#FF97FF",
           "#FECB52"
          ],
          "font": {
           "color": "#2a3f5f"
          },
          "geo": {
           "bgcolor": "white",
           "lakecolor": "white",
           "landcolor": "#E5ECF6",
           "showlakes": true,
           "showland": true,
           "subunitcolor": "white"
          },
          "hoverlabel": {
           "align": "left"
          },
          "hovermode": "closest",
          "mapbox": {
           "style": "light"
          },
          "paper_bgcolor": "white",
          "plot_bgcolor": "#E5ECF6",
          "polar": {
           "angularaxis": {
            "gridcolor": "white",
            "linecolor": "white",
            "ticks": ""
           },
           "bgcolor": "#E5ECF6",
           "radialaxis": {
            "gridcolor": "white",
            "linecolor": "white",
            "ticks": ""
           }
          },
          "scene": {
           "xaxis": {
            "backgroundcolor": "#E5ECF6",
            "gridcolor": "white",
            "gridwidth": 2,
            "linecolor": "white",
            "showbackground": true,
            "ticks": "",
            "zerolinecolor": "white"
           },
           "yaxis": {
            "backgroundcolor": "#E5ECF6",
            "gridcolor": "white",
            "gridwidth": 2,
            "linecolor": "white",
            "showbackground": true,
            "ticks": "",
            "zerolinecolor": "white"
           },
           "zaxis": {
            "backgroundcolor": "#E5ECF6",
            "gridcolor": "white",
            "gridwidth": 2,
            "linecolor": "white",
            "showbackground": true,
            "ticks": "",
            "zerolinecolor": "white"
           }
          },
          "shapedefaults": {
           "line": {
            "color": "#2a3f5f"
           }
          },
          "ternary": {
           "aaxis": {
            "gridcolor": "white",
            "linecolor": "white",
            "ticks": ""
           },
           "baxis": {
            "gridcolor": "white",
            "linecolor": "white",
            "ticks": ""
           },
           "bgcolor": "#E5ECF6",
           "caxis": {
            "gridcolor": "white",
            "linecolor": "white",
            "ticks": ""
           }
          },
          "title": {
           "x": 0.05
          },
          "xaxis": {
           "automargin": true,
           "gridcolor": "white",
           "linecolor": "white",
           "ticks": "",
           "title": {
            "standoff": 15
           },
           "zerolinecolor": "white",
           "zerolinewidth": 2
          },
          "yaxis": {
           "automargin": true,
           "gridcolor": "white",
           "linecolor": "white",
           "ticks": "",
           "title": {
            "standoff": 15
           },
           "zerolinecolor": "white",
           "zerolinewidth": 2
          }
         }
        },
        "title": {
         "text": "Distribution of the Top 10 fStrategies Used in Nests"
        }
       }
      }
     },
     "metadata": {},
     "output_type": "display_data"
    }
   ],
   "source": [
    "# graph the results with plotly \n",
    "# limit to just the top 10 most common strategies\n",
    "top_fstrat_counts_df = fstrat_value_counts.head(10)\n",
    "fig = go.Figure(go.Pie(labels=top_fstrat_counts_df.index, values=top_fstrat_counts_df.values, textinfo='label+percent'))\n",
    "fig.update_layout(title='Distribution of the Top 10 fStrategies Used in Nests')\n",
    "fig.show()"
   ]
  },
  {
   "cell_type": "code",
   "execution_count": 43,
   "metadata": {},
   "outputs": [
    {
     "name": "stdout",
     "output_type": "stream",
     "text": [
      "Number of NAs or Nones in fStrategies column: 352084\n"
     ]
    }
   ],
   "source": [
    "# count the number of NAs or Nones in fStrategies column \n",
    "na_count = encoded_df['fStrategies'].isna().sum()\n",
    "print(f\"Number of NAs or Nones in fStrategies column: {na_count}\")\n",
    "\n",
    "# fill in the missing values in fStrategies column with 'None'\n",
    "encoded_df['fStrategies'] = encoded_df['fStrategies'].fillna('None')"
   ]
  },
  {
   "cell_type": "code",
   "execution_count": 29,
   "metadata": {},
   "outputs": [
    {
     "name": "stdout",
     "output_type": "stream",
     "text": [
      "Number of NAs or Nones in fStrategies column: 352084\n",
      "Percentage of rows where fStrategies and ixAutoNestStrategy are the same: 0.0%\n"
     ]
    }
   ],
   "source": [
    "# COMPARING fStrategies and ixAutoNestStrategy\n",
    "# compare the value of fStrategies column with the values of ixAutoNestStrategy from the training_df\n",
    "comparison_df['fStrategies'] = encoded_df['fStrategies']\n",
    "\n",
    "# Create a new column to check if fStrategies and ixAutoNestStrategy are the same\n",
    "comparison_df['is_same'] = comparison_df.apply(lambda row: row['fStrategies'] == row['ixAutoNestStrategy'], axis=1)\n",
    "\n",
    "comparison_df\n",
    "# Calculate the percentage of rows where fStrategies and ixAutoNestStrategy are the same\n",
    "same_percentage = (comparison_df['is_same'].sum() / len(comparison_df)) * 100\n",
    "print(f\"Percentage of rows where fStrategies and ixAutoNestStrategy are the same: {same_percentage}%\")"
   ]
  },
  {
   "cell_type": "code",
   "execution_count": 46,
   "metadata": {},
   "outputs": [
    {
     "data": {
      "text/html": [
       "<div>\n",
       "<style scoped>\n",
       "    .dataframe tbody tr th:only-of-type {\n",
       "        vertical-align: middle;\n",
       "    }\n",
       "\n",
       "    .dataframe tbody tr th {\n",
       "        vertical-align: top;\n",
       "    }\n",
       "\n",
       "    .dataframe thead th {\n",
       "        text-align: right;\n",
       "    }\n",
       "</style>\n",
       "<table border=\"1\" class=\"dataframe\">\n",
       "  <thead>\n",
       "    <tr style=\"text-align: right;\">\n",
       "      <th></th>\n",
       "      <th>ixJobSummary</th>\n",
       "      <th>ixNest</th>\n",
       "      <th>ixPart</th>\n",
       "      <th>dPartTrueArea</th>\n",
       "      <th>cRequired</th>\n",
       "      <th>cNested</th>\n",
       "      <th>fExtShape</th>\n",
       "      <th>dExtArea</th>\n",
       "      <th>dExtBoundaryDist</th>\n",
       "      <th>dExtContainedDist</th>\n",
       "      <th>...</th>\n",
       "      <th>fStrat_Strategy1</th>\n",
       "      <th>fStrat_Strategy10</th>\n",
       "      <th>fStrat_Strategy2</th>\n",
       "      <th>fStrat_Strategy3</th>\n",
       "      <th>fStrat_Strategy4</th>\n",
       "      <th>fStrat_Strategy5</th>\n",
       "      <th>fStrat_Strategy6</th>\n",
       "      <th>fStrat_Strategy7</th>\n",
       "      <th>fStrat_Strategy8</th>\n",
       "      <th>fStrat_Strategy9</th>\n",
       "    </tr>\n",
       "  </thead>\n",
       "  <tbody>\n",
       "    <tr>\n",
       "      <th>0</th>\n",
       "      <td>304409</td>\n",
       "      <td>746165</td>\n",
       "      <td>2377314</td>\n",
       "      <td>151.1253</td>\n",
       "      <td>5</td>\n",
       "      <td>5</td>\n",
       "      <td>0</td>\n",
       "      <td>151.1253</td>\n",
       "      <td>4.7891</td>\n",
       "      <td>15.8795</td>\n",
       "      <td>...</td>\n",
       "      <td>0</td>\n",
       "      <td>0</td>\n",
       "      <td>0</td>\n",
       "      <td>0</td>\n",
       "      <td>0</td>\n",
       "      <td>0</td>\n",
       "      <td>0</td>\n",
       "      <td>0</td>\n",
       "      <td>0</td>\n",
       "      <td>0</td>\n",
       "    </tr>\n",
       "    <tr>\n",
       "      <th>1</th>\n",
       "      <td>304409</td>\n",
       "      <td>746165</td>\n",
       "      <td>2377315</td>\n",
       "      <td>49.5807</td>\n",
       "      <td>10</td>\n",
       "      <td>10</td>\n",
       "      <td>0</td>\n",
       "      <td>49.5807</td>\n",
       "      <td>3.1157</td>\n",
       "      <td>9.9701</td>\n",
       "      <td>...</td>\n",
       "      <td>0</td>\n",
       "      <td>0</td>\n",
       "      <td>0</td>\n",
       "      <td>0</td>\n",
       "      <td>0</td>\n",
       "      <td>0</td>\n",
       "      <td>0</td>\n",
       "      <td>0</td>\n",
       "      <td>0</td>\n",
       "      <td>0</td>\n",
       "    </tr>\n",
       "    <tr>\n",
       "      <th>3</th>\n",
       "      <td>304409</td>\n",
       "      <td>746165</td>\n",
       "      <td>2377316</td>\n",
       "      <td>222.0186</td>\n",
       "      <td>5</td>\n",
       "      <td>5</td>\n",
       "      <td>0</td>\n",
       "      <td>222.0186</td>\n",
       "      <td>4.7891</td>\n",
       "      <td>24.3234</td>\n",
       "      <td>...</td>\n",
       "      <td>0</td>\n",
       "      <td>0</td>\n",
       "      <td>0</td>\n",
       "      <td>0</td>\n",
       "      <td>0</td>\n",
       "      <td>0</td>\n",
       "      <td>0</td>\n",
       "      <td>0</td>\n",
       "      <td>0</td>\n",
       "      <td>0</td>\n",
       "    </tr>\n",
       "    <tr>\n",
       "      <th>5</th>\n",
       "      <td>304409</td>\n",
       "      <td>746165</td>\n",
       "      <td>2377317</td>\n",
       "      <td>2.5008</td>\n",
       "      <td>120</td>\n",
       "      <td>120</td>\n",
       "      <td>0</td>\n",
       "      <td>2.5008</td>\n",
       "      <td>0.6184</td>\n",
       "      <td>2.7209</td>\n",
       "      <td>...</td>\n",
       "      <td>0</td>\n",
       "      <td>0</td>\n",
       "      <td>0</td>\n",
       "      <td>0</td>\n",
       "      <td>0</td>\n",
       "      <td>0</td>\n",
       "      <td>0</td>\n",
       "      <td>0</td>\n",
       "      <td>0</td>\n",
       "      <td>0</td>\n",
       "    </tr>\n",
       "    <tr>\n",
       "      <th>7</th>\n",
       "      <td>304409</td>\n",
       "      <td>746165</td>\n",
       "      <td>2377318</td>\n",
       "      <td>11.5773</td>\n",
       "      <td>55</td>\n",
       "      <td>55</td>\n",
       "      <td>0</td>\n",
       "      <td>11.5773</td>\n",
       "      <td>0.9060</td>\n",
       "      <td>5.9537</td>\n",
       "      <td>...</td>\n",
       "      <td>0</td>\n",
       "      <td>0</td>\n",
       "      <td>0</td>\n",
       "      <td>0</td>\n",
       "      <td>0</td>\n",
       "      <td>0</td>\n",
       "      <td>0</td>\n",
       "      <td>0</td>\n",
       "      <td>0</td>\n",
       "      <td>0</td>\n",
       "    </tr>\n",
       "  </tbody>\n",
       "</table>\n",
       "<p>5 rows × 56 columns</p>\n",
       "</div>"
      ],
      "text/plain": [
       "   ixJobSummary  ixNest   ixPart  dPartTrueArea  cRequired  cNested  \\\n",
       "0        304409  746165  2377314       151.1253          5        5   \n",
       "1        304409  746165  2377315        49.5807         10       10   \n",
       "3        304409  746165  2377316       222.0186          5        5   \n",
       "5        304409  746165  2377317         2.5008        120      120   \n",
       "7        304409  746165  2377318        11.5773         55       55   \n",
       "\n",
       "   fExtShape  dExtArea  dExtBoundaryDist  dExtContainedDist  ...  \\\n",
       "0          0  151.1253            4.7891            15.8795  ...   \n",
       "1          0   49.5807            3.1157             9.9701  ...   \n",
       "3          0  222.0186            4.7891            24.3234  ...   \n",
       "5          0    2.5008            0.6184             2.7209  ...   \n",
       "7          0   11.5773            0.9060             5.9537  ...   \n",
       "\n",
       "   fStrat_Strategy1  fStrat_Strategy10  fStrat_Strategy2  fStrat_Strategy3  \\\n",
       "0                 0                  0                 0                 0   \n",
       "1                 0                  0                 0                 0   \n",
       "3                 0                  0                 0                 0   \n",
       "5                 0                  0                 0                 0   \n",
       "7                 0                  0                 0                 0   \n",
       "\n",
       "   fStrat_Strategy4  fStrat_Strategy5  fStrat_Strategy6  fStrat_Strategy7  \\\n",
       "0                 0                 0                 0                 0   \n",
       "1                 0                 0                 0                 0   \n",
       "3                 0                 0                 0                 0   \n",
       "5                 0                 0                 0                 0   \n",
       "7                 0                 0                 0                 0   \n",
       "\n",
       "   fStrat_Strategy8  fStrat_Strategy9  \n",
       "0                 0                 0  \n",
       "1                 0                 0  \n",
       "3                 0                 0  \n",
       "5                 0                 0  \n",
       "7                 0                 0  \n",
       "\n",
       "[5 rows x 56 columns]"
      ]
     },
     "execution_count": 46,
     "metadata": {},
     "output_type": "execute_result"
    }
   ],
   "source": [
    "# one-hot encoding of fStrategies\n",
    "# one hot encoding for the fStrategies to convert categorical from numeric \n",
    "# Perform one-hot encoding for the ixAutoNestStrategy column\n",
    "ix_auto_nest_encoded = pd.get_dummies(encoded_df['fStrategies'], prefix='fStrat')\n",
    "\n",
    "# Concatenate the new columns to the original DataFrame\n",
    "encoded_df = pd.concat([encoded_df, ix_auto_nest_encoded], axis=1)\n",
    "\n",
    "# Optionally, you can drop the original ixAutoNestStrategy column\n",
    "encoded_df = encoded_df.drop('fStrategies', axis=1)\n",
    "# ?? Mark - what does it mean when it has a strategy in fStrategies AND one in ixAutoNestStrategy? \n",
    "# ?? Can a given Job use both manual nesting (chosen strategies in fStrategies) AND IntelliNest? "
   ]
  },
  {
   "cell_type": "code",
   "execution_count": 49,
   "metadata": {},
   "outputs": [
    {
     "data": {
      "text/html": [
       "<div>\n",
       "<style scoped>\n",
       "    .dataframe tbody tr th:only-of-type {\n",
       "        vertical-align: middle;\n",
       "    }\n",
       "\n",
       "    .dataframe tbody tr th {\n",
       "        vertical-align: top;\n",
       "    }\n",
       "\n",
       "    .dataframe thead th {\n",
       "        text-align: right;\n",
       "    }\n",
       "</style>\n",
       "<table border=\"1\" class=\"dataframe\">\n",
       "  <thead>\n",
       "    <tr style=\"text-align: right;\">\n",
       "      <th></th>\n",
       "      <th>ixJobSummary</th>\n",
       "      <th>ixNest</th>\n",
       "      <th>ixPart</th>\n",
       "      <th>dPartTrueArea</th>\n",
       "      <th>cRequired</th>\n",
       "      <th>cNested</th>\n",
       "      <th>fExtShape</th>\n",
       "      <th>dExtArea</th>\n",
       "      <th>dExtBoundaryDist</th>\n",
       "      <th>dExtContainedDist</th>\n",
       "      <th>...</th>\n",
       "      <th>fStrat_Strategy1</th>\n",
       "      <th>fStrat_Strategy10</th>\n",
       "      <th>fStrat_Strategy2</th>\n",
       "      <th>fStrat_Strategy3</th>\n",
       "      <th>fStrat_Strategy4</th>\n",
       "      <th>fStrat_Strategy5</th>\n",
       "      <th>fStrat_Strategy6</th>\n",
       "      <th>fStrat_Strategy7</th>\n",
       "      <th>fStrat_Strategy8</th>\n",
       "      <th>fStrat_Strategy9</th>\n",
       "    </tr>\n",
       "  </thead>\n",
       "  <tbody>\n",
       "    <tr>\n",
       "      <th>0</th>\n",
       "      <td>304409</td>\n",
       "      <td>746165</td>\n",
       "      <td>2377314</td>\n",
       "      <td>151.1253</td>\n",
       "      <td>5</td>\n",
       "      <td>5</td>\n",
       "      <td>0</td>\n",
       "      <td>151.1253</td>\n",
       "      <td>4.7891</td>\n",
       "      <td>15.8795</td>\n",
       "      <td>...</td>\n",
       "      <td>0</td>\n",
       "      <td>0</td>\n",
       "      <td>0</td>\n",
       "      <td>0</td>\n",
       "      <td>0</td>\n",
       "      <td>0</td>\n",
       "      <td>0</td>\n",
       "      <td>0</td>\n",
       "      <td>0</td>\n",
       "      <td>0</td>\n",
       "    </tr>\n",
       "    <tr>\n",
       "      <th>1</th>\n",
       "      <td>304409</td>\n",
       "      <td>746165</td>\n",
       "      <td>2377315</td>\n",
       "      <td>49.5807</td>\n",
       "      <td>10</td>\n",
       "      <td>10</td>\n",
       "      <td>0</td>\n",
       "      <td>49.5807</td>\n",
       "      <td>3.1157</td>\n",
       "      <td>9.9701</td>\n",
       "      <td>...</td>\n",
       "      <td>0</td>\n",
       "      <td>0</td>\n",
       "      <td>0</td>\n",
       "      <td>0</td>\n",
       "      <td>0</td>\n",
       "      <td>0</td>\n",
       "      <td>0</td>\n",
       "      <td>0</td>\n",
       "      <td>0</td>\n",
       "      <td>0</td>\n",
       "    </tr>\n",
       "    <tr>\n",
       "      <th>3</th>\n",
       "      <td>304409</td>\n",
       "      <td>746165</td>\n",
       "      <td>2377316</td>\n",
       "      <td>222.0186</td>\n",
       "      <td>5</td>\n",
       "      <td>5</td>\n",
       "      <td>0</td>\n",
       "      <td>222.0186</td>\n",
       "      <td>4.7891</td>\n",
       "      <td>24.3234</td>\n",
       "      <td>...</td>\n",
       "      <td>0</td>\n",
       "      <td>0</td>\n",
       "      <td>0</td>\n",
       "      <td>0</td>\n",
       "      <td>0</td>\n",
       "      <td>0</td>\n",
       "      <td>0</td>\n",
       "      <td>0</td>\n",
       "      <td>0</td>\n",
       "      <td>0</td>\n",
       "    </tr>\n",
       "    <tr>\n",
       "      <th>5</th>\n",
       "      <td>304409</td>\n",
       "      <td>746165</td>\n",
       "      <td>2377317</td>\n",
       "      <td>2.5008</td>\n",
       "      <td>120</td>\n",
       "      <td>120</td>\n",
       "      <td>0</td>\n",
       "      <td>2.5008</td>\n",
       "      <td>0.6184</td>\n",
       "      <td>2.7209</td>\n",
       "      <td>...</td>\n",
       "      <td>0</td>\n",
       "      <td>0</td>\n",
       "      <td>0</td>\n",
       "      <td>0</td>\n",
       "      <td>0</td>\n",
       "      <td>0</td>\n",
       "      <td>0</td>\n",
       "      <td>0</td>\n",
       "      <td>0</td>\n",
       "      <td>0</td>\n",
       "    </tr>\n",
       "    <tr>\n",
       "      <th>7</th>\n",
       "      <td>304409</td>\n",
       "      <td>746165</td>\n",
       "      <td>2377318</td>\n",
       "      <td>11.5773</td>\n",
       "      <td>55</td>\n",
       "      <td>55</td>\n",
       "      <td>0</td>\n",
       "      <td>11.5773</td>\n",
       "      <td>0.9060</td>\n",
       "      <td>5.9537</td>\n",
       "      <td>...</td>\n",
       "      <td>0</td>\n",
       "      <td>0</td>\n",
       "      <td>0</td>\n",
       "      <td>0</td>\n",
       "      <td>0</td>\n",
       "      <td>0</td>\n",
       "      <td>0</td>\n",
       "      <td>0</td>\n",
       "      <td>0</td>\n",
       "      <td>0</td>\n",
       "    </tr>\n",
       "  </tbody>\n",
       "</table>\n",
       "<p>5 rows × 56 columns</p>\n",
       "</div>"
      ],
      "text/plain": [
       "   ixJobSummary  ixNest   ixPart  dPartTrueArea  cRequired  cNested  \\\n",
       "0        304409  746165  2377314       151.1253          5        5   \n",
       "1        304409  746165  2377315        49.5807         10       10   \n",
       "3        304409  746165  2377316       222.0186          5        5   \n",
       "5        304409  746165  2377317         2.5008        120      120   \n",
       "7        304409  746165  2377318        11.5773         55       55   \n",
       "\n",
       "   fExtShape  dExtArea  dExtBoundaryDist  dExtContainedDist  ...  \\\n",
       "0          0  151.1253            4.7891            15.8795  ...   \n",
       "1          0   49.5807            3.1157             9.9701  ...   \n",
       "3          0  222.0186            4.7891            24.3234  ...   \n",
       "5          0    2.5008            0.6184             2.7209  ...   \n",
       "7          0   11.5773            0.9060             5.9537  ...   \n",
       "\n",
       "   fStrat_Strategy1  fStrat_Strategy10  fStrat_Strategy2  fStrat_Strategy3  \\\n",
       "0                 0                  0                 0                 0   \n",
       "1                 0                  0                 0                 0   \n",
       "3                 0                  0                 0                 0   \n",
       "5                 0                  0                 0                 0   \n",
       "7                 0                  0                 0                 0   \n",
       "\n",
       "   fStrat_Strategy4  fStrat_Strategy5  fStrat_Strategy6  fStrat_Strategy7  \\\n",
       "0                 0                 0                 0                 0   \n",
       "1                 0                 0                 0                 0   \n",
       "3                 0                 0                 0                 0   \n",
       "5                 0                 0                 0                 0   \n",
       "7                 0                 0                 0                 0   \n",
       "\n",
       "   fStrat_Strategy8  fStrat_Strategy9  \n",
       "0                 0                 0  \n",
       "1                 0                 0  \n",
       "3                 0                 0  \n",
       "5                 0                 0  \n",
       "7                 0                 0  \n",
       "\n",
       "[5 rows x 56 columns]"
      ]
     },
     "execution_count": 49,
     "metadata": {},
     "output_type": "execute_result"
    }
   ],
   "source": [
    "encoded_df.head()"
   ]
  },
  {
   "cell_type": "code",
   "execution_count": 50,
   "metadata": {},
   "outputs": [
    {
     "data": {
      "text/html": [
       "<div>\n",
       "<style scoped>\n",
       "    .dataframe tbody tr th:only-of-type {\n",
       "        vertical-align: middle;\n",
       "    }\n",
       "\n",
       "    .dataframe tbody tr th {\n",
       "        vertical-align: top;\n",
       "    }\n",
       "\n",
       "    .dataframe thead th {\n",
       "        text-align: right;\n",
       "    }\n",
       "</style>\n",
       "<table border=\"1\" class=\"dataframe\">\n",
       "  <thead>\n",
       "    <tr style=\"text-align: right;\">\n",
       "      <th></th>\n",
       "      <th>ixJobSummary</th>\n",
       "      <th>ixNest</th>\n",
       "      <th>ixPart</th>\n",
       "      <th>dPartTrueArea</th>\n",
       "      <th>cRequired</th>\n",
       "      <th>cNested</th>\n",
       "      <th>fExtShape</th>\n",
       "      <th>dExtArea</th>\n",
       "      <th>dExtBoundaryDist</th>\n",
       "      <th>dExtContainedDist</th>\n",
       "      <th>...</th>\n",
       "      <th>fStrat_Strategy1</th>\n",
       "      <th>fStrat_Strategy10</th>\n",
       "      <th>fStrat_Strategy2</th>\n",
       "      <th>fStrat_Strategy3</th>\n",
       "      <th>fStrat_Strategy4</th>\n",
       "      <th>fStrat_Strategy5</th>\n",
       "      <th>fStrat_Strategy6</th>\n",
       "      <th>fStrat_Strategy7</th>\n",
       "      <th>fStrat_Strategy8</th>\n",
       "      <th>fStrat_Strategy9</th>\n",
       "    </tr>\n",
       "  </thead>\n",
       "  <tbody>\n",
       "    <tr>\n",
       "      <th>count</th>\n",
       "      <td>4.072515e+06</td>\n",
       "      <td>4.072515e+06</td>\n",
       "      <td>4.072515e+06</td>\n",
       "      <td>4.072515e+06</td>\n",
       "      <td>4.072515e+06</td>\n",
       "      <td>4.072515e+06</td>\n",
       "      <td>4.072515e+06</td>\n",
       "      <td>4.072515e+06</td>\n",
       "      <td>4.072515e+06</td>\n",
       "      <td>4.072515e+06</td>\n",
       "      <td>...</td>\n",
       "      <td>4.072515e+06</td>\n",
       "      <td>4.072515e+06</td>\n",
       "      <td>4.072515e+06</td>\n",
       "      <td>4.072515e+06</td>\n",
       "      <td>4.072515e+06</td>\n",
       "      <td>4.072515e+06</td>\n",
       "      <td>4.072515e+06</td>\n",
       "      <td>4.072515e+06</td>\n",
       "      <td>4.072515e+06</td>\n",
       "      <td>4.072515e+06</td>\n",
       "    </tr>\n",
       "    <tr>\n",
       "      <th>mean</th>\n",
       "      <td>1.899243e+06</td>\n",
       "      <td>4.511965e+06</td>\n",
       "      <td>1.580208e+07</td>\n",
       "      <td>-7.351136e+286</td>\n",
       "      <td>1.314087e+01</td>\n",
       "      <td>1.060778e+01</td>\n",
       "      <td>5.439213e+00</td>\n",
       "      <td>6.540658e+02</td>\n",
       "      <td>5.553442e+00</td>\n",
       "      <td>3.577339e+01</td>\n",
       "      <td>...</td>\n",
       "      <td>6.790349e-02</td>\n",
       "      <td>6.692940e-02</td>\n",
       "      <td>1.018904e-02</td>\n",
       "      <td>1.868207e-02</td>\n",
       "      <td>2.425803e-01</td>\n",
       "      <td>2.431470e-02</td>\n",
       "      <td>9.286154e-03</td>\n",
       "      <td>9.881854e-03</td>\n",
       "      <td>1.136669e-02</td>\n",
       "      <td>1.475378e-02</td>\n",
       "    </tr>\n",
       "    <tr>\n",
       "      <th>std</th>\n",
       "      <td>1.042945e+06</td>\n",
       "      <td>2.441282e+06</td>\n",
       "      <td>8.736020e+06</td>\n",
       "      <td>inf</td>\n",
       "      <td>2.759251e+03</td>\n",
       "      <td>1.338320e+02</td>\n",
       "      <td>1.045352e+01</td>\n",
       "      <td>1.177717e+04</td>\n",
       "      <td>2.978956e+01</td>\n",
       "      <td>5.134109e+01</td>\n",
       "      <td>...</td>\n",
       "      <td>2.515803e-01</td>\n",
       "      <td>2.498997e-01</td>\n",
       "      <td>1.004252e-01</td>\n",
       "      <td>1.353996e-01</td>\n",
       "      <td>4.286434e-01</td>\n",
       "      <td>1.540244e-01</td>\n",
       "      <td>9.591623e-02</td>\n",
       "      <td>9.891514e-02</td>\n",
       "      <td>1.060070e-01</td>\n",
       "      <td>1.205658e-01</td>\n",
       "    </tr>\n",
       "    <tr>\n",
       "      <th>min</th>\n",
       "      <td>3.560100e+04</td>\n",
       "      <td>1.007630e+05</td>\n",
       "      <td>3.047800e+05</td>\n",
       "      <td>-3.742202e+292</td>\n",
       "      <td>0.000000e+00</td>\n",
       "      <td>0.000000e+00</td>\n",
       "      <td>0.000000e+00</td>\n",
       "      <td>0.000000e+00</td>\n",
       "      <td>0.000000e+00</td>\n",
       "      <td>0.000000e+00</td>\n",
       "      <td>...</td>\n",
       "      <td>0.000000e+00</td>\n",
       "      <td>0.000000e+00</td>\n",
       "      <td>0.000000e+00</td>\n",
       "      <td>0.000000e+00</td>\n",
       "      <td>0.000000e+00</td>\n",
       "      <td>0.000000e+00</td>\n",
       "      <td>0.000000e+00</td>\n",
       "      <td>0.000000e+00</td>\n",
       "      <td>0.000000e+00</td>\n",
       "      <td>0.000000e+00</td>\n",
       "    </tr>\n",
       "    <tr>\n",
       "      <th>25%</th>\n",
       "      <td>1.014986e+06</td>\n",
       "      <td>2.468597e+06</td>\n",
       "      <td>8.436690e+06</td>\n",
       "      <td>3.153750e+01</td>\n",
       "      <td>1.000000e+00</td>\n",
       "      <td>1.000000e+00</td>\n",
       "      <td>0.000000e+00</td>\n",
       "      <td>3.266250e+01</td>\n",
       "      <td>1.898800e+00</td>\n",
       "      <td>9.622400e+00</td>\n",
       "      <td>...</td>\n",
       "      <td>0.000000e+00</td>\n",
       "      <td>0.000000e+00</td>\n",
       "      <td>0.000000e+00</td>\n",
       "      <td>0.000000e+00</td>\n",
       "      <td>0.000000e+00</td>\n",
       "      <td>0.000000e+00</td>\n",
       "      <td>0.000000e+00</td>\n",
       "      <td>0.000000e+00</td>\n",
       "      <td>0.000000e+00</td>\n",
       "      <td>0.000000e+00</td>\n",
       "    </tr>\n",
       "    <tr>\n",
       "      <th>50%</th>\n",
       "      <td>1.905288e+06</td>\n",
       "      <td>4.519524e+06</td>\n",
       "      <td>1.593877e+07</td>\n",
       "      <td>1.058387e+02</td>\n",
       "      <td>2.000000e+00</td>\n",
       "      <td>2.000000e+00</td>\n",
       "      <td>0.000000e+00</td>\n",
       "      <td>1.105994e+02</td>\n",
       "      <td>3.395500e+00</td>\n",
       "      <td>1.900000e+01</td>\n",
       "      <td>...</td>\n",
       "      <td>0.000000e+00</td>\n",
       "      <td>0.000000e+00</td>\n",
       "      <td>0.000000e+00</td>\n",
       "      <td>0.000000e+00</td>\n",
       "      <td>0.000000e+00</td>\n",
       "      <td>0.000000e+00</td>\n",
       "      <td>0.000000e+00</td>\n",
       "      <td>0.000000e+00</td>\n",
       "      <td>0.000000e+00</td>\n",
       "      <td>0.000000e+00</td>\n",
       "    </tr>\n",
       "    <tr>\n",
       "      <th>75%</th>\n",
       "      <td>2.794505e+06</td>\n",
       "      <td>6.605744e+06</td>\n",
       "      <td>2.329271e+07</td>\n",
       "      <td>4.201447e+02</td>\n",
       "      <td>5.000000e+00</td>\n",
       "      <td>5.000000e+00</td>\n",
       "      <td>5.000000e+00</td>\n",
       "      <td>4.382475e+02</td>\n",
       "      <td>6.750000e+00</td>\n",
       "      <td>4.214070e+01</td>\n",
       "      <td>...</td>\n",
       "      <td>0.000000e+00</td>\n",
       "      <td>0.000000e+00</td>\n",
       "      <td>0.000000e+00</td>\n",
       "      <td>0.000000e+00</td>\n",
       "      <td>0.000000e+00</td>\n",
       "      <td>0.000000e+00</td>\n",
       "      <td>0.000000e+00</td>\n",
       "      <td>0.000000e+00</td>\n",
       "      <td>0.000000e+00</td>\n",
       "      <td>0.000000e+00</td>\n",
       "    </tr>\n",
       "    <tr>\n",
       "      <th>max</th>\n",
       "      <td>3.688756e+06</td>\n",
       "      <td>8.711716e+06</td>\n",
       "      <td>3.097014e+07</td>\n",
       "      <td>2.960661e+157</td>\n",
       "      <td>5.555555e+06</td>\n",
       "      <td>1.632310e+05</td>\n",
       "      <td>5.400000e+01</td>\n",
       "      <td>1.231630e+07</td>\n",
       "      <td>5.673666e+04</td>\n",
       "      <td>3.239010e+04</td>\n",
       "      <td>...</td>\n",
       "      <td>1.000000e+00</td>\n",
       "      <td>1.000000e+00</td>\n",
       "      <td>1.000000e+00</td>\n",
       "      <td>1.000000e+00</td>\n",
       "      <td>1.000000e+00</td>\n",
       "      <td>1.000000e+00</td>\n",
       "      <td>1.000000e+00</td>\n",
       "      <td>1.000000e+00</td>\n",
       "      <td>1.000000e+00</td>\n",
       "      <td>1.000000e+00</td>\n",
       "    </tr>\n",
       "  </tbody>\n",
       "</table>\n",
       "<p>8 rows × 56 columns</p>\n",
       "</div>"
      ],
      "text/plain": [
       "       ixJobSummary        ixNest        ixPart  dPartTrueArea     cRequired  \\\n",
       "count  4.072515e+06  4.072515e+06  4.072515e+06   4.072515e+06  4.072515e+06   \n",
       "mean   1.899243e+06  4.511965e+06  1.580208e+07 -7.351136e+286  1.314087e+01   \n",
       "std    1.042945e+06  2.441282e+06  8.736020e+06            inf  2.759251e+03   \n",
       "min    3.560100e+04  1.007630e+05  3.047800e+05 -3.742202e+292  0.000000e+00   \n",
       "25%    1.014986e+06  2.468597e+06  8.436690e+06   3.153750e+01  1.000000e+00   \n",
       "50%    1.905288e+06  4.519524e+06  1.593877e+07   1.058387e+02  2.000000e+00   \n",
       "75%    2.794505e+06  6.605744e+06  2.329271e+07   4.201447e+02  5.000000e+00   \n",
       "max    3.688756e+06  8.711716e+06  3.097014e+07  2.960661e+157  5.555555e+06   \n",
       "\n",
       "            cNested     fExtShape      dExtArea  dExtBoundaryDist  \\\n",
       "count  4.072515e+06  4.072515e+06  4.072515e+06      4.072515e+06   \n",
       "mean   1.060778e+01  5.439213e+00  6.540658e+02      5.553442e+00   \n",
       "std    1.338320e+02  1.045352e+01  1.177717e+04      2.978956e+01   \n",
       "min    0.000000e+00  0.000000e+00  0.000000e+00      0.000000e+00   \n",
       "25%    1.000000e+00  0.000000e+00  3.266250e+01      1.898800e+00   \n",
       "50%    2.000000e+00  0.000000e+00  1.105994e+02      3.395500e+00   \n",
       "75%    5.000000e+00  5.000000e+00  4.382475e+02      6.750000e+00   \n",
       "max    1.632310e+05  5.400000e+01  1.231630e+07      5.673666e+04   \n",
       "\n",
       "       dExtContainedDist  ...  fStrat_Strategy1  fStrat_Strategy10  \\\n",
       "count       4.072515e+06  ...      4.072515e+06       4.072515e+06   \n",
       "mean        3.577339e+01  ...      6.790349e-02       6.692940e-02   \n",
       "std         5.134109e+01  ...      2.515803e-01       2.498997e-01   \n",
       "min         0.000000e+00  ...      0.000000e+00       0.000000e+00   \n",
       "25%         9.622400e+00  ...      0.000000e+00       0.000000e+00   \n",
       "50%         1.900000e+01  ...      0.000000e+00       0.000000e+00   \n",
       "75%         4.214070e+01  ...      0.000000e+00       0.000000e+00   \n",
       "max         3.239010e+04  ...      1.000000e+00       1.000000e+00   \n",
       "\n",
       "       fStrat_Strategy2  fStrat_Strategy3  fStrat_Strategy4  fStrat_Strategy5  \\\n",
       "count      4.072515e+06      4.072515e+06      4.072515e+06      4.072515e+06   \n",
       "mean       1.018904e-02      1.868207e-02      2.425803e-01      2.431470e-02   \n",
       "std        1.004252e-01      1.353996e-01      4.286434e-01      1.540244e-01   \n",
       "min        0.000000e+00      0.000000e+00      0.000000e+00      0.000000e+00   \n",
       "25%        0.000000e+00      0.000000e+00      0.000000e+00      0.000000e+00   \n",
       "50%        0.000000e+00      0.000000e+00      0.000000e+00      0.000000e+00   \n",
       "75%        0.000000e+00      0.000000e+00      0.000000e+00      0.000000e+00   \n",
       "max        1.000000e+00      1.000000e+00      1.000000e+00      1.000000e+00   \n",
       "\n",
       "       fStrat_Strategy6  fStrat_Strategy7  fStrat_Strategy8  fStrat_Strategy9  \n",
       "count      4.072515e+06      4.072515e+06      4.072515e+06      4.072515e+06  \n",
       "mean       9.286154e-03      9.881854e-03      1.136669e-02      1.475378e-02  \n",
       "std        9.591623e-02      9.891514e-02      1.060070e-01      1.205658e-01  \n",
       "min        0.000000e+00      0.000000e+00      0.000000e+00      0.000000e+00  \n",
       "25%        0.000000e+00      0.000000e+00      0.000000e+00      0.000000e+00  \n",
       "50%        0.000000e+00      0.000000e+00      0.000000e+00      0.000000e+00  \n",
       "75%        0.000000e+00      0.000000e+00      0.000000e+00      0.000000e+00  \n",
       "max        1.000000e+00      1.000000e+00      1.000000e+00      1.000000e+00  \n",
       "\n",
       "[8 rows x 56 columns]"
      ]
     },
     "execution_count": 50,
     "metadata": {},
     "output_type": "execute_result"
    }
   ],
   "source": [
    "# summarize the encoded df with the summary statistics\n",
    "encoded_df.describe()"
   ]
  },
  {
   "cell_type": "code",
   "execution_count": 51,
   "metadata": {},
   "outputs": [],
   "source": [
    "# save the result as a .csv that has all the strategies \n",
    "# save the encoded df as a .csv file\n",
    "encoded_df.to_csv('../CEIP_csv/ml_data_withstrats.csv', index=False)"
   ]
  },
  {
   "attachments": {},
   "cell_type": "markdown",
   "metadata": {},
   "source": [
    "#### Other data cleaning we might do"
   ]
  },
  {
   "cell_type": "code",
   "execution_count": null,
   "metadata": {},
   "outputs": [],
   "source": [
    "# Convert a numeric variable to categorical using custom ranges\n",
    "# bins = [0, 10, 20, 30, 40, 50, 60, 70, 80, 90, 100]\n",
    "# labels = ['0-10', '11-20', '21-30', '31-40', '41-50', '51-60', '61-70', '71-80', '81-90', '91-100']\n",
    "# df['age_group'] = pd.cut(df['age'], bins=bins, labels=lab"
   ]
  },
  {
   "attachments": {},
   "cell_type": "markdown",
   "metadata": {},
   "source": [
    "#### Downsampling Data\n",
    "Downsampling data to ~1,000,000 samples for early machine learning & analysis"
   ]
  },
  {
   "attachments": {},
   "cell_type": "markdown",
   "metadata": {},
   "source": [
    "### Scaling & Normalization\n",
    "Bring features to a similar scale to prevent one from dominating the  - some ML models sensitive to feature magnitudes, can perform poorly on different scales"
   ]
  },
  {
   "cell_type": "code",
   "execution_count": null,
   "metadata": {},
   "outputs": [],
   "source": [
    "# tree-based models do not require normalization or scaling\n",
    "# from sklearn.preprocessing import StandardScaler, MinMaxScaler\n",
    "\n",
    "# # Standard Scaling (Z-score normalization)\n",
    "# scaler = StandardScaler()\n",
    "# main_df_scaled = pd.DataFrame(scaler.fit_transform(main_df), columns=main_df.columns)\n",
    "\n",
    "# # Min-Max Scaling (Normalization)\n",
    "# scaler = MinMaxScaler()\n",
    "# df['min_max_scaled_feature'] = scaler.fit_transform(df[['column1']])\n",
    "\n",
    "# Robust Scaling: Scale features using median and interquartile range, making it less sensitive to outliers"
   ]
  },
  {
   "attachments": {},
   "cell_type": "markdown",
   "metadata": {},
   "source": [
    "**Checking for constant or quasi-constant features:** These are features that have the same value for a large majority of the observations. These features provide no information that allows ML models to predict the target."
   ]
  },
  {
   "cell_type": "code",
   "execution_count": null,
   "metadata": {},
   "outputs": [],
   "source": [
    "# from sklearn.feature_selection import VarianceThreshold\n",
    "# constant_filter = VarianceThreshold(threshold=0)\n",
    "# constant_filter.fit(main_df)\n",
    "# len(main_df.columns[constant_filter.get_support()])"
   ]
  },
  {
   "attachments": {},
   "cell_type": "markdown",
   "metadata": {},
   "source": [
    "## Removing outliers"
   ]
  },
  {
   "cell_type": "code",
   "execution_count": null,
   "metadata": {},
   "outputs": [],
   "source": [
    "def remove_outliers_iqr(df, column, threshold=3):\n",
    "    \"\"\"\n",
    "    This function removes the outliers from a dataframe based on the IQR method.\n",
    "    The function takes as arguments:\n",
    "        - df: the dataframe\n",
    "        - column: the column on which to calculate and remove outliers\n",
    "         - multiplier: the multiplier for the IQR to define the range (default is 3)\n",
    "    It returns the dataframe with outliers removed.\n",
    "    \"\"\"\n",
    "    # Calculate Q1, Q3, and IQR\n",
    "    Q1 = df[column].quantile(0.25)\n",
    "    Q3 = df[column].quantile(0.75)\n",
    "    IQR = Q3 - Q1\n",
    "    \n",
    "\n",
    "    # Define threshold boundaries\n",
    "    threshold_low = Q1 - 3 * IQR\n",
    "    threshold_high = Q3 + 3 * IQR\n",
    "\n",
    "    # Filter out the outliers\n",
    "    df_filtered = df[(df[column] >= threshold_low) & (df[column] <= threshold_high)]\n",
    "\n",
    "    return df_filtered\n",
    "\n",
    "# Apply this function to all numeric columns in the DataFrame\n",
    "numeric_cols = encoded_df.select_dtypes(include=[np.number]).columns.tolist()\n",
    "\n",
    "for column in numeric_cols:\n",
    "    filtered_df = remove_outliers_iqr(encoded_df, column)"
   ]
  },
  {
   "cell_type": "code",
   "execution_count": null,
   "metadata": {},
   "outputs": [
    {
     "data": {
      "text/plain": [
       "(4014410, 40)"
      ]
     },
     "execution_count": 28,
     "metadata": {},
     "output_type": "execute_result"
    }
   ],
   "source": [
    "# starting rows: 5,762,62\n",
    "# ending rows: 4,014,410\n",
    "# number of rows removed in cleaning: 1,748,212\n",
    "\n",
    "filtered_df.shape"
   ]
  },
  {
   "cell_type": "code",
   "execution_count": null,
   "metadata": {},
   "outputs": [],
   "source": [
    "# output the results as a cleaned csv \n",
    "filtered_df.to_csv('../CEIP_csv/cleaned2.csv', index=False)"
   ]
  }
 ],
 "metadata": {
  "kernelspec": {
   "display_name": "base",
   "language": "python",
   "name": "python3"
  },
  "language_info": {
   "codemirror_mode": {
    "name": "ipython",
    "version": 3
   },
   "file_extension": ".py",
   "mimetype": "text/x-python",
   "name": "python",
   "nbconvert_exporter": "python",
   "pygments_lexer": "ipython3",
   "version": "3.9.12"
  },
  "orig_nbformat": 4
 },
 "nbformat": 4,
 "nbformat_minor": 2
}
