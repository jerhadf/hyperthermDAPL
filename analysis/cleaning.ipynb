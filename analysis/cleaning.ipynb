{
 "cells": [
  {
   "attachments": {},
   "cell_type": "markdown",
   "metadata": {},
   "source": [
    "# Main Analysis File\n",
    "This file contains the main data analysis code for the project. It is divided into 3 main parts:\n",
    "1. Data Cleaning\n",
    "2. Exploratory Data Analysis\n",
    "3. Machine Learning"
   ]
  },
  {
   "attachments": {},
   "cell_type": "markdown",
   "metadata": {},
   "source": [
    "#### Setup"
   ]
  },
  {
   "cell_type": "code",
   "execution_count": 19,
   "metadata": {},
   "outputs": [],
   "source": [
    "# CORE\n",
    "import pandas as pd\n",
    "import os\n",
    "import json\n",
    "import numpy as np  # Numpy for numerical computations and array operations\n",
    "import pandas as pd  # Pandas for data manipulation and analysis\n",
    "\n",
    "# MACHINE LEARNING & STATISTICS \n",
    "import scipy.stats as stats  # SciPy for scientific computing and technical computing, including statistics\n",
    "import sklearn as sk # Scikit-learn for machine learning and predictive modeling\n",
    "\n",
    "# VISUALIZATION\n",
    "import matplotlib.pyplot as plt  # Matplotlib for creating static, animated, and interactive visualizations\n",
    "import seaborn as sns  # Seaborn for statistical data visualization built on top of Matplotlib\n",
    "import plotly.express as px  # Plotly Express for creating interactive plots and charts"
   ]
  },
  {
   "cell_type": "code",
   "execution_count": null,
   "metadata": {},
   "outputs": [],
   "source": [
    "# filepaths of all of the csv data files to be analyzed\n",
    "\n",
    "# autonest_csv = \"CEIP_csv/AutoNest.csv\"\n",
    "# autonest_strategy_csv = \"CEIP_csv/AutoNestStrategy.csv\"\n",
    "# material_csv = \"CEIP_csv/Material.csv\"\n",
    "# nest_csv = \"CEIP_csv/Nest.csv\"\n",
    "# part_csv = \"CEIP_csv/Part.csv\"\n",
    "# performance_csv = \"CEIP_csv/Performance.csv\"\n",
    "training_csv = \"../CEIP_csv/training_data.csv\"\n",
    "\n",
    "# read in all of these csv files as pandas dataframes\n",
    "\n",
    "# autonest_df = pd.read_csv(autonest_csv)\n",
    "# autonest_strategy_df = pd.read_csv(autonest_strategy_csv)\n",
    "# material_df = pd.read_csv(material_csv)\n",
    "# nest_df = pd.read_csv(nest_csv)\n",
    "# part_df = pd.read_csv(part_csv)\n",
    "# performance_df = pd.read_csv(performance_csv)\n",
    "training_df = pd.read_csv(training_csv) # takes about 1 min to read "
   ]
  },
  {
   "attachments": {},
   "cell_type": "markdown",
   "metadata": {},
   "source": [
    "## Data Cleaning"
   ]
  },
  {
   "attachments": {},
   "cell_type": "markdown",
   "metadata": {},
   "source": [
    "#### Data Previewing"
   ]
  },
  {
   "cell_type": "code",
   "execution_count": 3,
   "metadata": {},
   "outputs": [],
   "source": [
    "# count the number of null values \n",
    "# training_df.isnull().sum() # --> RESULT: no null values in any column  \n",
    "\n",
    "# list of columns\n",
    "# column_list = list(training_df.columns)\n",
    "column_list = ['ixJobSummary', 'ixNest', 'ixPart', 'dPartTrueArea', 'cRequired', \n",
    "               'cNested', 'ixMaterial', 'fExtShape', 'dExtArea', 'dExtBoundaryDist', \n",
    "               'dExtContainedDist', 'dLgIntArea', 'dLgIntBoundaryDist', 'dLgIntContainedDist', \n",
    "               'dLgExtConArea', 'dLgExtConBoundaryDist', 'dLgExtConContainedDist', 'cTimesCut', \n",
    "               'dNestingTime', 'fStrategies', 'dSheetLength', 'dSheetWidth', 'dSheetArea', 'dLengthUsed', \n",
    "               'dWidthUsed', 'dPartArea', 'calcUtil', 'ixAutoNestStrategy', 'fAllPartsNested']\n",
    "\n",
    "# count the values for the ixMaterial column in the training_df \n",
    "# training_df.ixMaterial.value_counts()\n",
    "\n",
    "# plot the distribution of the ixMaterial column in the training_df\n",
    "# only plot the 10 most common values\n",
    "# training_df.ixMaterial.value_counts().nlargest(10).plot(kind='bar', figsize=(10,5))\n",
    "\n",
    "# count the number of unique values\n",
    "# training_df.nunique(axis=0)\n",
    "\n",
    "# ixJobSummary               224892\n",
    "# ixNest                     224892\n",
    "# ixPart                    4200357\n",
    "# dPartTrueArea              984974\n",
    "# cRequired                    1534\n",
    "# cNested                      1654\n",
    "# ixMaterial                   7316\n",
    "# fExtShape                      52\n",
    "# dExtArea                   825580\n",
    "# dExtBoundaryDist           159907\n",
    "# dExtContainedDist          526206\n",
    "# dLgIntArea                  74924\n",
    "# dLgIntBoundaryDist          35721\n",
    "# dLgIntContainedDist         83215\n",
    "# dLgExtConArea               71156\n",
    "# dLgExtConBoundaryDist       24334\n",
    "# dLgExtConContainedDist      68328\n",
    "# cTimesCut                     176\n",
    "# dNestingTime                23997\n",
    "# fStrategies                   292\n",
    "# dSheetLength                 2917\n",
    "# dSheetWidth                  1937\n",
    "# dSheetArea                  13217\n",
    "# dLengthUsed                136950\n",
    "# dWidthUsed                 112688\n",
    "# dPartArea                  168268\n",
    "# calcUtil                   172012\n",
    "# ixAutoNestStrategy             13\n",
    "# fAllPartsNested                 2\n",
    "# dtype: int64"
   ]
  },
  {
   "cell_type": "code",
   "execution_count": 4,
   "metadata": {},
   "outputs": [
    {
     "data": {
      "text/plain": [
       "(5762622, 29)"
      ]
     },
     "execution_count": 4,
     "metadata": {},
     "output_type": "execute_result"
    }
   ],
   "source": [
    "# above shows that there are only 4.2 million unique values for ixPart \n",
    "# this indicates that there are a lot of rows that are duplicated? \n",
    "\n",
    "# remove duplicates \n",
    "training_df = training_df.drop_duplicates()\n",
    "training_df.shape # --> (5,762,622 rows, 29 columns)"
   ]
  },
  {
   "cell_type": "code",
   "execution_count": null,
   "metadata": {},
   "outputs": [],
   "source": [
    "# Group by one or more columns and calculate the mean of a specific column\n",
    "# grouped_data = training_df.groupby('ixJobSummary').mean()\n",
    "# Perform a cross-tabulation between two columns \n",
    "# cross_tab = pd.crosstab(df['column1'], df['column2'])"
   ]
  },
  {
   "attachments": {},
   "cell_type": "markdown",
   "metadata": {},
   "source": [
    "#### Re-encoding Variables\n",
    "* One-hot encode all variables that are numerical but represent categories\n",
    "* Replace ixMaterial and ixAutoNestStrategy with their appropriate values from the JSON file \n",
    "* Limit to only Materials that are steel"
   ]
  },
  {
   "cell_type": "code",
   "execution_count": 8,
   "metadata": {},
   "outputs": [
    {
     "data": {
      "text/plain": [
       "ms                    4072515\n",
       "ss                     191961\n",
       "al                     167863\n",
       "cs                      86198\n",
       "a36                     82536\n",
       "                       ...   \n",
       "3/8-316-2b                  1\n",
       "naval brass                 1\n",
       "12 ga ss-adv-50amp          1\n",
       "20 ga ss-adv-30amp          1\n",
       "plaq00035                   1\n",
       "Name: Material, Length: 2117, dtype: int64"
      ]
     },
     "execution_count": 8,
     "metadata": {},
     "output_type": "execute_result"
    }
   ],
   "source": [
    "# replace ixMaterial column with the values from the MaterialTypes.json file \n",
    "# read in the json file as a pandas dataframe\n",
    "material_types_df = pd.read_json('../CEIP_csv/MaterialTypes.json')\n",
    "\n",
    "# create a dictionary of the material types and their corresponding values \n",
    "material_dict = material_types_df.to_dict()\n",
    "\n",
    "# We need to make a new dictionary where the keys are the same but the values are the sNames\n",
    "sName_dict = {k: v['sName'] for k, v in material_dict.items()}\n",
    "\n",
    "# Now we use this dictionary to replace the ixMaterial values in training_df\n",
    "training_df['ixMaterial'] = training_df['ixMaterial'].map(sName_dict)\n",
    "\n",
    "# Rename the column\n",
    "training_df = training_df.rename(columns={'ixMaterial': 'Material'})"
   ]
  },
  {
   "cell_type": "code",
   "execution_count": 12,
   "metadata": {},
   "outputs": [
    {
     "name": "stdout",
     "output_type": "stream",
     "text": [
      "There are 2117 unique materials in the dataset.\n"
     ]
    },
    {
     "data": {
      "application/vnd.plotly.v1+json": {
       "config": {
        "plotlyServerURL": "https://plot.ly"
       },
       "data": [
        {
         "alignmentgroup": "True",
         "hovertemplate": "Material=%{x}<br>Count=%{y}<extra></extra>",
         "legendgroup": "",
         "marker": {
          "color": "#636efa",
          "pattern": {
           "shape": ""
          }
         },
         "name": "",
         "offsetgroup": "",
         "orientation": "v",
         "showlegend": false,
         "textposition": "auto",
         "type": "bar",
         "x": [
          "ms",
          "ss",
          "al",
          "cs",
          "a36",
          "hpr ms o2 130amp",
          "domex 100 xf",
          "steel",
          "domex 110 xf",
          "ms o2 130amp",
          "s355",
          "st37-60",
          "st",
          "pl",
          "galvannealed",
          "ms o2 80amp",
          "ms 100xf",
          "o-hrs",
          "aluminium 5083-h321",
          "ms o2 200amp",
          "ms-130amps",
          1100,
          "ss400",
          "16 ga.",
          304,
          "astm a36 steel",
          "oc",
          "1/4\" 80k",
          "grade a sigma",
          "hrs",
          "ms cl6",
          "24ga_galv",
          "mild steel",
          "10 gauge material",
          "aluminium 5083-h111",
          "300w",
          "26ga_galv",
          "cs 11g",
          "ar400",
          "hpr ms o2 80amp",
          "a-36",
          "ar 400",
          "ms-80amps-o2/air",
          "alum. 5052-h32",
          2205,
          "a572-50",
          "hdx",
          "3/8\" 80k",
          "ms 10ga",
          "ms-50amps-o2/o2",
          "a572",
          316,
          "a572-gr50",
          "14 ga.",
          "7030-051",
          "st37-40",
          "alu",
          "q345b",
          "qt100",
          "7 gauge material",
          "ss-#4",
          "ms-80amps",
          "alum .125",
          "ms 12ga",
          "sa516-70",
          "ms gr80",
          "7030-341",
          "st37-20",
          "al 5052",
          "s235",
          "11 gauge",
          "gal",
          "ms 7ga",
          "qt-200amps",
          "ss f5 80amp",
          "a36 ms",
          "stainless",
          "ms o2 260amp",
          "crs",
          "3/16\" 80k",
          "a516 ms",
          "a-572",
          "44w",
          "12 ga alumizd",
          "16 ga alumizd",
          "18#4",
          "7029-061",
          "ms-200amps",
          "ms g50 80amp",
          "hr",
          "qt-130amps",
          "ct",
          "sus",
          "ms-130amps-o2/air",
          "gr300",
          "grade a",
          "aisi-304",
          "galv 10",
          "gr50s1s3s4s5m",
          "ar 200"
         ],
         "xaxis": "x",
         "y": [
          4072515,
          191961,
          167863,
          86198,
          82536,
          68702,
          50936,
          42976,
          42227,
          28730,
          17978,
          17950,
          17006,
          16182,
          16051,
          15364,
          15040,
          13499,
          13411,
          12802,
          12629,
          11711,
          11239,
          11213,
          10449,
          10222,
          9724,
          9168,
          9121,
          8737,
          7898,
          7214,
          6913,
          6234,
          5606,
          5458,
          5413,
          5401,
          5383,
          5212,
          5206,
          5063,
          4977,
          4974,
          4965,
          4836,
          4817,
          4776,
          4771,
          4738,
          4711,
          4711,
          4706,
          4564,
          4536,
          4389,
          4378,
          4333,
          4132,
          4021,
          4000,
          3854,
          3847,
          3762,
          3569,
          3554,
          3551,
          3543,
          3541,
          3517,
          3502,
          3274,
          3136,
          3109,
          3104,
          3091,
          3064,
          3055,
          3054,
          3053,
          2970,
          2964,
          2962,
          2915,
          2880,
          2832,
          2781,
          2687,
          2582,
          2549,
          2508,
          2489,
          2475,
          2406,
          2393,
          2339,
          2326,
          2101,
          2096,
          2060
         ],
         "yaxis": "y"
        }
       ],
       "layout": {
        "barmode": "relative",
        "legend": {
         "tracegroupgap": 0
        },
        "template": {
         "data": {
          "bar": [
           {
            "error_x": {
             "color": "#2a3f5f"
            },
            "error_y": {
             "color": "#2a3f5f"
            },
            "marker": {
             "line": {
              "color": "#E5ECF6",
              "width": 0.5
             },
             "pattern": {
              "fillmode": "overlay",
              "size": 10,
              "solidity": 0.2
             }
            },
            "type": "bar"
           }
          ],
          "barpolar": [
           {
            "marker": {
             "line": {
              "color": "#E5ECF6",
              "width": 0.5
             },
             "pattern": {
              "fillmode": "overlay",
              "size": 10,
              "solidity": 0.2
             }
            },
            "type": "barpolar"
           }
          ],
          "carpet": [
           {
            "aaxis": {
             "endlinecolor": "#2a3f5f",
             "gridcolor": "white",
             "linecolor": "white",
             "minorgridcolor": "white",
             "startlinecolor": "#2a3f5f"
            },
            "baxis": {
             "endlinecolor": "#2a3f5f",
             "gridcolor": "white",
             "linecolor": "white",
             "minorgridcolor": "white",
             "startlinecolor": "#2a3f5f"
            },
            "type": "carpet"
           }
          ],
          "choropleth": [
           {
            "colorbar": {
             "outlinewidth": 0,
             "ticks": ""
            },
            "type": "choropleth"
           }
          ],
          "contour": [
           {
            "colorbar": {
             "outlinewidth": 0,
             "ticks": ""
            },
            "colorscale": [
             [
              0,
              "#0d0887"
             ],
             [
              0.1111111111111111,
              "#46039f"
             ],
             [
              0.2222222222222222,
              "#7201a8"
             ],
             [
              0.3333333333333333,
              "#9c179e"
             ],
             [
              0.4444444444444444,
              "#bd3786"
             ],
             [
              0.5555555555555556,
              "#d8576b"
             ],
             [
              0.6666666666666666,
              "#ed7953"
             ],
             [
              0.7777777777777778,
              "#fb9f3a"
             ],
             [
              0.8888888888888888,
              "#fdca26"
             ],
             [
              1,
              "#f0f921"
             ]
            ],
            "type": "contour"
           }
          ],
          "contourcarpet": [
           {
            "colorbar": {
             "outlinewidth": 0,
             "ticks": ""
            },
            "type": "contourcarpet"
           }
          ],
          "heatmap": [
           {
            "colorbar": {
             "outlinewidth": 0,
             "ticks": ""
            },
            "colorscale": [
             [
              0,
              "#0d0887"
             ],
             [
              0.1111111111111111,
              "#46039f"
             ],
             [
              0.2222222222222222,
              "#7201a8"
             ],
             [
              0.3333333333333333,
              "#9c179e"
             ],
             [
              0.4444444444444444,
              "#bd3786"
             ],
             [
              0.5555555555555556,
              "#d8576b"
             ],
             [
              0.6666666666666666,
              "#ed7953"
             ],
             [
              0.7777777777777778,
              "#fb9f3a"
             ],
             [
              0.8888888888888888,
              "#fdca26"
             ],
             [
              1,
              "#f0f921"
             ]
            ],
            "type": "heatmap"
           }
          ],
          "heatmapgl": [
           {
            "colorbar": {
             "outlinewidth": 0,
             "ticks": ""
            },
            "colorscale": [
             [
              0,
              "#0d0887"
             ],
             [
              0.1111111111111111,
              "#46039f"
             ],
             [
              0.2222222222222222,
              "#7201a8"
             ],
             [
              0.3333333333333333,
              "#9c179e"
             ],
             [
              0.4444444444444444,
              "#bd3786"
             ],
             [
              0.5555555555555556,
              "#d8576b"
             ],
             [
              0.6666666666666666,
              "#ed7953"
             ],
             [
              0.7777777777777778,
              "#fb9f3a"
             ],
             [
              0.8888888888888888,
              "#fdca26"
             ],
             [
              1,
              "#f0f921"
             ]
            ],
            "type": "heatmapgl"
           }
          ],
          "histogram": [
           {
            "marker": {
             "pattern": {
              "fillmode": "overlay",
              "size": 10,
              "solidity": 0.2
             }
            },
            "type": "histogram"
           }
          ],
          "histogram2d": [
           {
            "colorbar": {
             "outlinewidth": 0,
             "ticks": ""
            },
            "colorscale": [
             [
              0,
              "#0d0887"
             ],
             [
              0.1111111111111111,
              "#46039f"
             ],
             [
              0.2222222222222222,
              "#7201a8"
             ],
             [
              0.3333333333333333,
              "#9c179e"
             ],
             [
              0.4444444444444444,
              "#bd3786"
             ],
             [
              0.5555555555555556,
              "#d8576b"
             ],
             [
              0.6666666666666666,
              "#ed7953"
             ],
             [
              0.7777777777777778,
              "#fb9f3a"
             ],
             [
              0.8888888888888888,
              "#fdca26"
             ],
             [
              1,
              "#f0f921"
             ]
            ],
            "type": "histogram2d"
           }
          ],
          "histogram2dcontour": [
           {
            "colorbar": {
             "outlinewidth": 0,
             "ticks": ""
            },
            "colorscale": [
             [
              0,
              "#0d0887"
             ],
             [
              0.1111111111111111,
              "#46039f"
             ],
             [
              0.2222222222222222,
              "#7201a8"
             ],
             [
              0.3333333333333333,
              "#9c179e"
             ],
             [
              0.4444444444444444,
              "#bd3786"
             ],
             [
              0.5555555555555556,
              "#d8576b"
             ],
             [
              0.6666666666666666,
              "#ed7953"
             ],
             [
              0.7777777777777778,
              "#fb9f3a"
             ],
             [
              0.8888888888888888,
              "#fdca26"
             ],
             [
              1,
              "#f0f921"
             ]
            ],
            "type": "histogram2dcontour"
           }
          ],
          "mesh3d": [
           {
            "colorbar": {
             "outlinewidth": 0,
             "ticks": ""
            },
            "type": "mesh3d"
           }
          ],
          "parcoords": [
           {
            "line": {
             "colorbar": {
              "outlinewidth": 0,
              "ticks": ""
             }
            },
            "type": "parcoords"
           }
          ],
          "pie": [
           {
            "automargin": true,
            "type": "pie"
           }
          ],
          "scatter": [
           {
            "marker": {
             "colorbar": {
              "outlinewidth": 0,
              "ticks": ""
             }
            },
            "type": "scatter"
           }
          ],
          "scatter3d": [
           {
            "line": {
             "colorbar": {
              "outlinewidth": 0,
              "ticks": ""
             }
            },
            "marker": {
             "colorbar": {
              "outlinewidth": 0,
              "ticks": ""
             }
            },
            "type": "scatter3d"
           }
          ],
          "scattercarpet": [
           {
            "marker": {
             "colorbar": {
              "outlinewidth": 0,
              "ticks": ""
             }
            },
            "type": "scattercarpet"
           }
          ],
          "scattergeo": [
           {
            "marker": {
             "colorbar": {
              "outlinewidth": 0,
              "ticks": ""
             }
            },
            "type": "scattergeo"
           }
          ],
          "scattergl": [
           {
            "marker": {
             "colorbar": {
              "outlinewidth": 0,
              "ticks": ""
             }
            },
            "type": "scattergl"
           }
          ],
          "scattermapbox": [
           {
            "marker": {
             "colorbar": {
              "outlinewidth": 0,
              "ticks": ""
             }
            },
            "type": "scattermapbox"
           }
          ],
          "scatterpolar": [
           {
            "marker": {
             "colorbar": {
              "outlinewidth": 0,
              "ticks": ""
             }
            },
            "type": "scatterpolar"
           }
          ],
          "scatterpolargl": [
           {
            "marker": {
             "colorbar": {
              "outlinewidth": 0,
              "ticks": ""
             }
            },
            "type": "scatterpolargl"
           }
          ],
          "scatterternary": [
           {
            "marker": {
             "colorbar": {
              "outlinewidth": 0,
              "ticks": ""
             }
            },
            "type": "scatterternary"
           }
          ],
          "surface": [
           {
            "colorbar": {
             "outlinewidth": 0,
             "ticks": ""
            },
            "colorscale": [
             [
              0,
              "#0d0887"
             ],
             [
              0.1111111111111111,
              "#46039f"
             ],
             [
              0.2222222222222222,
              "#7201a8"
             ],
             [
              0.3333333333333333,
              "#9c179e"
             ],
             [
              0.4444444444444444,
              "#bd3786"
             ],
             [
              0.5555555555555556,
              "#d8576b"
             ],
             [
              0.6666666666666666,
              "#ed7953"
             ],
             [
              0.7777777777777778,
              "#fb9f3a"
             ],
             [
              0.8888888888888888,
              "#fdca26"
             ],
             [
              1,
              "#f0f921"
             ]
            ],
            "type": "surface"
           }
          ],
          "table": [
           {
            "cells": {
             "fill": {
              "color": "#EBF0F8"
             },
             "line": {
              "color": "white"
             }
            },
            "header": {
             "fill": {
              "color": "#C8D4E3"
             },
             "line": {
              "color": "white"
             }
            },
            "type": "table"
           }
          ]
         },
         "layout": {
          "annotationdefaults": {
           "arrowcolor": "#2a3f5f",
           "arrowhead": 0,
           "arrowwidth": 1
          },
          "autotypenumbers": "strict",
          "coloraxis": {
           "colorbar": {
            "outlinewidth": 0,
            "ticks": ""
           }
          },
          "colorscale": {
           "diverging": [
            [
             0,
             "#8e0152"
            ],
            [
             0.1,
             "#c51b7d"
            ],
            [
             0.2,
             "#de77ae"
            ],
            [
             0.3,
             "#f1b6da"
            ],
            [
             0.4,
             "#fde0ef"
            ],
            [
             0.5,
             "#f7f7f7"
            ],
            [
             0.6,
             "#e6f5d0"
            ],
            [
             0.7,
             "#b8e186"
            ],
            [
             0.8,
             "#7fbc41"
            ],
            [
             0.9,
             "#4d9221"
            ],
            [
             1,
             "#276419"
            ]
           ],
           "sequential": [
            [
             0,
             "#0d0887"
            ],
            [
             0.1111111111111111,
             "#46039f"
            ],
            [
             0.2222222222222222,
             "#7201a8"
            ],
            [
             0.3333333333333333,
             "#9c179e"
            ],
            [
             0.4444444444444444,
             "#bd3786"
            ],
            [
             0.5555555555555556,
             "#d8576b"
            ],
            [
             0.6666666666666666,
             "#ed7953"
            ],
            [
             0.7777777777777778,
             "#fb9f3a"
            ],
            [
             0.8888888888888888,
             "#fdca26"
            ],
            [
             1,
             "#f0f921"
            ]
           ],
           "sequentialminus": [
            [
             0,
             "#0d0887"
            ],
            [
             0.1111111111111111,
             "#46039f"
            ],
            [
             0.2222222222222222,
             "#7201a8"
            ],
            [
             0.3333333333333333,
             "#9c179e"
            ],
            [
             0.4444444444444444,
             "#bd3786"
            ],
            [
             0.5555555555555556,
             "#d8576b"
            ],
            [
             0.6666666666666666,
             "#ed7953"
            ],
            [
             0.7777777777777778,
             "#fb9f3a"
            ],
            [
             0.8888888888888888,
             "#fdca26"
            ],
            [
             1,
             "#f0f921"
            ]
           ]
          },
          "colorway": [
           "#636efa",
           "#EF553B",
           "#00cc96",
           "#ab63fa",
           "#FFA15A",
           "#19d3f3",
           "#FF6692",
           "#B6E880",
           "#FF97FF",
           "#FECB52"
          ],
          "font": {
           "color": "#2a3f5f"
          },
          "geo": {
           "bgcolor": "white",
           "lakecolor": "white",
           "landcolor": "#E5ECF6",
           "showlakes": true,
           "showland": true,
           "subunitcolor": "white"
          },
          "hoverlabel": {
           "align": "left"
          },
          "hovermode": "closest",
          "mapbox": {
           "style": "light"
          },
          "paper_bgcolor": "white",
          "plot_bgcolor": "#E5ECF6",
          "polar": {
           "angularaxis": {
            "gridcolor": "white",
            "linecolor": "white",
            "ticks": ""
           },
           "bgcolor": "#E5ECF6",
           "radialaxis": {
            "gridcolor": "white",
            "linecolor": "white",
            "ticks": ""
           }
          },
          "scene": {
           "xaxis": {
            "backgroundcolor": "#E5ECF6",
            "gridcolor": "white",
            "gridwidth": 2,
            "linecolor": "white",
            "showbackground": true,
            "ticks": "",
            "zerolinecolor": "white"
           },
           "yaxis": {
            "backgroundcolor": "#E5ECF6",
            "gridcolor": "white",
            "gridwidth": 2,
            "linecolor": "white",
            "showbackground": true,
            "ticks": "",
            "zerolinecolor": "white"
           },
           "zaxis": {
            "backgroundcolor": "#E5ECF6",
            "gridcolor": "white",
            "gridwidth": 2,
            "linecolor": "white",
            "showbackground": true,
            "ticks": "",
            "zerolinecolor": "white"
           }
          },
          "shapedefaults": {
           "line": {
            "color": "#2a3f5f"
           }
          },
          "ternary": {
           "aaxis": {
            "gridcolor": "white",
            "linecolor": "white",
            "ticks": ""
           },
           "baxis": {
            "gridcolor": "white",
            "linecolor": "white",
            "ticks": ""
           },
           "bgcolor": "#E5ECF6",
           "caxis": {
            "gridcolor": "white",
            "linecolor": "white",
            "ticks": ""
           }
          },
          "title": {
           "x": 0.05
          },
          "xaxis": {
           "automargin": true,
           "gridcolor": "white",
           "linecolor": "white",
           "ticks": "",
           "title": {
            "standoff": 15
           },
           "zerolinecolor": "white",
           "zerolinewidth": 2
          },
          "yaxis": {
           "automargin": true,
           "gridcolor": "white",
           "linecolor": "white",
           "ticks": "",
           "title": {
            "standoff": 15
           },
           "zerolinecolor": "white",
           "zerolinewidth": 2
          }
         }
        },
        "title": {
         "text": "Distribution of Top 100 Material Types"
        },
        "xaxis": {
         "anchor": "y",
         "domain": [
          0,
          1
         ],
         "title": {
          "text": "Material"
         }
        },
        "yaxis": {
         "anchor": "x",
         "domain": [
          0,
          1
         ],
         "title": {
          "text": "Count"
         }
        }
       }
      }
     },
     "metadata": {},
     "output_type": "display_data"
    }
   ],
   "source": [
    "# Count the different material types\n",
    "material_counts = training_df['Material'].value_counts()\n",
    "# results: 4,072,515 rows are MS, the next most is SS with 191,961 \n",
    "\n",
    "# count the number of unique materials\n",
    "nunique_materials = training_df.Material.nunique()\n",
    "print(f'There are {nunique_materials} unique materials in the dataset.')\n",
    "\n",
    "# Convert the Series to a DataFrame\n",
    "material_counts_df = material_counts.reset_index()\n",
    "\n",
    "# Rename the columns for clarity\n",
    "material_counts_df.columns = ['Material', 'Count']\n",
    "\n",
    "# Sort the DataFrame by the 'Count' column in descending order and take the top 30 rows\n",
    "top_material_counts_df = material_counts_df.sort_values('Count', ascending=False).head(100)\n",
    "\n",
    "# Create a bar chart for the top 30 materials\n",
    "fig = px.bar(top_material_counts_df, x='Material', y='Count', title='Distribution of Top 100 Material Types')\n",
    "fig.show()"
   ]
  },
  {
   "cell_type": "code",
   "execution_count": 17,
   "metadata": {},
   "outputs": [],
   "source": [
    "# remove all rows that do not have mild steel (ms) as the Material\n",
    "\n",
    "# drop all the NA values from Material, Keep only the rows where Material contains 'ms'\n",
    "training_df = training_df.dropna(subset=['Material'])\n",
    "training_df = training_df[training_df['Material'] == 'ms']\n",
    "\n",
    "# Drop the Material column from the dataframe - don't need it anymore \n",
    "main_df = training_df.drop(columns=['Material'])"
   ]
  },
  {
   "cell_type": "code",
   "execution_count": 20,
   "metadata": {},
   "outputs": [
    {
     "ename": "FileNotFoundError",
     "evalue": "[Errno 2] No such file or directory: 'CEIP_csv/AutoNestStrategy.json'",
     "output_type": "error",
     "traceback": [
      "\u001b[0;31m---------------------------------------------------------------------------\u001b[0m",
      "\u001b[0;31mFileNotFoundError\u001b[0m                         Traceback (most recent call last)",
      "\u001b[1;32m/Users/jerhadf/Desktop/coding/hyperthermDAPL/analysis/analysis.ipynb Cell 14\u001b[0m in \u001b[0;36m<cell line: 2>\u001b[0;34m()\u001b[0m\n\u001b[1;32m      <a href='vscode-notebook-cell:/Users/jerhadf/Desktop/coding/hyperthermDAPL/analysis/analysis.ipynb#Y124sZmlsZQ%3D%3D?line=0'>1</a>\u001b[0m \u001b[39m# Load the dictionary from the JSON file\u001b[39;00m\n\u001b[0;32m----> <a href='vscode-notebook-cell:/Users/jerhadf/Desktop/coding/hyperthermDAPL/analysis/analysis.ipynb#Y124sZmlsZQ%3D%3D?line=1'>2</a>\u001b[0m \u001b[39mwith\u001b[39;00m \u001b[39mopen\u001b[39;49m(\u001b[39m'\u001b[39;49m\u001b[39mCEIP_csv/AutoNestStrategy.json\u001b[39;49m\u001b[39m'\u001b[39;49m, \u001b[39m'\u001b[39;49m\u001b[39mr\u001b[39;49m\u001b[39m'\u001b[39;49m) \u001b[39mas\u001b[39;00m f:\n\u001b[1;32m      <a href='vscode-notebook-cell:/Users/jerhadf/Desktop/coding/hyperthermDAPL/analysis/analysis.ipynb#Y124sZmlsZQ%3D%3D?line=2'>3</a>\u001b[0m     autoneststrategy_dict \u001b[39m=\u001b[39m json\u001b[39m.\u001b[39mload(f)\n\u001b[1;32m      <a href='vscode-notebook-cell:/Users/jerhadf/Desktop/coding/hyperthermDAPL/analysis/analysis.ipynb#Y124sZmlsZQ%3D%3D?line=4'>5</a>\u001b[0m \u001b[39m# Replace the ixAutoNestStrategy values in the DataFrame\u001b[39;00m\n",
      "\u001b[0;31mFileNotFoundError\u001b[0m: [Errno 2] No such file or directory: 'CEIP_csv/AutoNestStrategy.json'"
     ]
    }
   ],
   "source": [
    "# Load the dictionary from the JSON file\n",
    "with open('../CEIP_csv/AutoNestStrategy.json', 'r') as f:\n",
    "    autoneststrategy_dict = json.load(f)\n",
    "\n",
    "# Replace the ixAutoNestStrategy values in the DataFrame\n",
    "main_df['ixAutoNestStrategy'] = main_df['ixAutoNestStrategy'].map(autoneststrategy_dict)\n",
    "\n",
    "# count the values in the ixAutoNestStrategy column\n",
    "main_df.ixAutoNestStrategy.value_counts()"
   ]
  },
  {
   "cell_type": "code",
   "execution_count": null,
   "metadata": {},
   "outputs": [],
   "source": [
    "# one hot encoding for the ixMaterial column\n",
    "training_df = pd.get_dummies(training_df, columns=['ixMaterial'])\n",
    "\n",
    "# One-hot encoding\n",
    "# df_cleaned = pd.get_dummies(df_cleaned, columns=['categorical_column'])\n",
    "\n",
    "# # Label encoding\n",
    "# from sklearn.preprocessing import LabelEncoder\n",
    "# le = LabelEncoder()\n",
    "# df_cleaned['categorical_column'] = le.fit_transform(df_cleaned['categorical_column'])\n",
    "\n",
    "# # Ordinal encoding\n",
    "# from sklearn.preprocessing import OrdinalEncoder\n",
    "# encoder = OrdinalEncoder()\n",
    "# df['ordinal_encoded_feature'] = encoder.fit_transform(df[['categorical_column']]) \n",
    "\n",
    "# # Target encoding\n",
    "# from category_encoders import TargetEncoder\n",
    "# te = TargetEncoder()\n",
    "# df_cleaned['categorical_column'] = te.fit_transform(df_cleaned['categorical_column'], df_cleaned['target_column'])"
   ]
  },
  {
   "attachments": {},
   "cell_type": "markdown",
   "metadata": {},
   "source": [
    "#### Other data cleaning"
   ]
  },
  {
   "cell_type": "code",
   "execution_count": null,
   "metadata": {},
   "outputs": [],
   "source": [
    "# Convert a numeric variable to categorical using custom ranges\n",
    "# bins = [0, 10, 20, 30, 40, 50, 60, 70, 80, 90, 100]\n",
    "# labels = ['0-10', '11-20', '21-30', '31-40', '41-50', '51-60', '61-70', '71-80', '81-90', '91-100']\n",
    "# df['age_group'] = pd.cut(df['age'], bins=bins, labels=lab"
   ]
  },
  {
   "attachments": {},
   "cell_type": "markdown",
   "metadata": {},
   "source": [
    "#### Downsampling Data\n",
    "* Downsampling data to ~1,000,000 samples for early machine learning & analysis"
   ]
  },
  {
   "cell_type": "code",
   "execution_count": null,
   "metadata": {},
   "outputs": [],
   "source": [
    "# downsampling code "
   ]
  },
  {
   "attachments": {},
   "cell_type": "markdown",
   "metadata": {},
   "source": [
    "### Removing outliers"
   ]
  },
  {
   "cell_type": "code",
   "execution_count": null,
   "metadata": {},
   "outputs": [],
   "source": [
    "# Visualize outliers using a boxplot\n",
    "# sns.boxplot(data=df_cleaned['column'])\n",
    "# plt.show()"
   ]
  },
  {
   "cell_type": "code",
   "execution_count": null,
   "metadata": {},
   "outputs": [],
   "source": [
    "# # Calculate the IQR for a specific column\n",
    "# Q1 = df_cleaned['column'].quantile(0.25)\n",
    "# Q3 = df_cleaned['column'].quantile(0.75)\n",
    "# IQR = Q3 - Q1\n",
    "\n",
    "# # Remove outliers based on the IQR\n",
    "# df_cleaned = df_cleaned[(df_cleaned['column'] >= Q1 - 1.5 * IQR) & (df_cleaned['column'] <= Q3 + 1.5 * IQR)]\n",
    "\n",
    "# # Alternative: Remove rows with values outside a specified range\n",
    "# df = df[(df['variable'] >= lower_bound) & (df['variable'] <= upper_bound)]"
   ]
  },
  {
   "cell_type": "code",
   "execution_count": null,
   "metadata": {},
   "outputs": [],
   "source": [
    "# Convert the column to numeric data type (if not already numeric)\n",
    "# df[var] = pd.to_numeric(df[var], errors='coerce')\n",
    "\n",
    "# # Calculate the IQR and define the threshold values\n",
    "# Q1 = df[var].quantile(0.25)\n",
    "# Q3 = df[var].quantile(0.75)\n",
    "# IQR = Q3 - Q1\n",
    "# threshold_low = Q1 - 1.5 * IQR\n",
    "# threshold_high = Q3 + 1.5 * IQR\n",
    "\n",
    "# Create a new DataFrame with the outlier values removed\n",
    "# df_no_outliers = df[(df[var] >= threshold_low) & (df[var] <= threshold_high)]\n",
    "\n",
    "# Define the outlier detection function using the IQR method\n",
    "# def remove_outliers_iqr(df, column):\n",
    "#     Q1 = df[column].quantile(0.25)\n",
    "#     Q3 = df[column].quantile(0.75)\n",
    "#     IQR = Q3 - Q1\n",
    "#     threshold_low = Q1 - 1.5 * IQR\n",
    "#     threshold_high = Q3 + 1.5 * IQR\n",
    "#     return df[(df[column] >= threshold_low) & (df[column] <= threshold_high)]\n",
    "\n",
    "# # Remove outliers from all columns in the DataFrame\n",
    "# for column in df.columns:\n",
    "#     df = remove_outliers_iqr(df, column)\n"
   ]
  },
  {
   "attachments": {},
   "cell_type": "markdown",
   "metadata": {},
   "source": [
    "#### Feature creation\n",
    "* Making new features based on Mark's - what can we make? See the CEIP_db/Mark_calculations folder for more details on what he did "
   ]
  },
  {
   "cell_type": "code",
   "execution_count": null,
   "metadata": {},
   "outputs": [],
   "source": [
    "# # Create a new feature by combining two existing features\n",
    "# df['new_feature'] = df['column1'] * df['column2']\n",
    "\n",
    "# # Create a new feature by applying a mathematical operation\n",
    "# df['log_feature'] = np.log(df['column1'])\n",
    "\n",
    "# # Create a new feature by applying a custom function\n",
    "# def custom_function(x):\n",
    "#     return x**2\n",
    "\n",
    "# df['squared_feature'] = df['column1'].apply(custom_function)"
   ]
  },
  {
   "attachments": {},
   "cell_type": "markdown",
   "metadata": {},
   "source": [
    "#### Scaling & Normalization\n",
    "Bring features to a similar scale to prevent one from dominating the  - some ML models sensitive to feature magnitudes, can perform poorly on different scales"
   ]
  },
  {
   "cell_type": "code",
   "execution_count": null,
   "metadata": {},
   "outputs": [],
   "source": [
    "# from sklearn.preprocessing import StandardScaler, MinMaxScaler\n",
    "\n",
    "# # Standard Scaling (Z-score normalization)\n",
    "# scaler = StandardScaler()\n",
    "# df['standard_scaled_feature'] = scaler.fit_transform(df[['column1']])\n",
    "\n",
    "# # Min-Max Scaling (Normalization)\n",
    "# scaler = MinMaxScaler()\n",
    "# df['min_max_scaled_feature'] = scaler.fit_transform(df[['column1']])\n",
    "\n",
    "# Robust Scaling: Scale features using median and interquartile range, making it less sensitive to outliers"
   ]
  },
  {
   "attachments": {},
   "cell_type": "markdown",
   "metadata": {},
   "source": [
    "## Exploratory Data Analysis"
   ]
  },
  {
   "cell_type": "code",
   "execution_count": null,
   "metadata": {},
   "outputs": [],
   "source": [
    "# automated EDA with AutoViz\n",
    "eda()"
   ]
  },
  {
   "attachments": {},
   "cell_type": "markdown",
   "metadata": {},
   "source": [
    "### Exploratory Data Visualizations"
   ]
  },
  {
   "cell_type": "code",
   "execution_count": null,
   "metadata": {},
   "outputs": [],
   "source": [
    "# histograms\n",
    "# plt.hist(df_cleaned['column'], bins=20)\n",
    "# plt.xlabel('Column Name')\n",
    "# plt.ylabel('Frequency')\n",
    "# plt.title('Histogram of Column Name')\n",
    "# plt.show()\n",
    "\n",
    "# box plots \n",
    "# sns.boxplot(x=df_cleaned['column'])\n",
    "# plt.xlabel('Column Name')\n",
    "# plt.title('Box Plot of Column Name')\n",
    "# plt.show()"
   ]
  },
  {
   "cell_type": "code",
   "execution_count": null,
   "metadata": {},
   "outputs": [],
   "source": [
    "# scatter plots \n",
    "# plt.scatter(df_cleaned['column1'], df_cleaned['column2'])\n",
    "# plt.xlabel('Column 1')\n",
    "# plt.ylabel('Column 2')\n",
    "# plt.title('Scatter Plot of Column 1 vs. Column 2')\n",
    "# plt.show()\n",
    "\n",
    "# interactive scatter plot \n",
    "# fig = px.scatter(df_cleaned, x='column1', y='column2', color='category_column', hover_data=['column3'])\n",
    "# fig.show()"
   ]
  },
  {
   "cell_type": "code",
   "execution_count": null,
   "metadata": {},
   "outputs": [],
   "source": [
    "# bubble plots - 3 numerical variables\n",
    "# plt.scatter(df_cleaned['column1'], df_cleaned['column2'], s=df_cleaned['column3'], alpha=0.5)\n",
    "# plt.xlabel('Column 1')\n",
    "# plt.ylabel('Column 2')\n",
    "# plt.title('Bubble Plot of Column 1 vs. Column 2 (Size = Column 3)')\n",
    "# plt.show()"
   ]
  },
  {
   "cell_type": "code",
   "execution_count": null,
   "metadata": {},
   "outputs": [],
   "source": [
    "# parallel coordinates plot for multiple numerical variables\n",
    "# from pandas.plotting import parallel_coordinates\n",
    "\n",
    "# parallel_coordinates(df_cleaned[['column1', 'column2', 'column3', 'category_column']], 'category_column')\n",
    "# plt.title('Parallel Coordinates Plot')\n",
    "# plt.show()"
   ]
  },
  {
   "cell_type": "code",
   "execution_count": null,
   "metadata": {},
   "outputs": [],
   "source": [
    "# regression plotting \n",
    "# sns.regplot(x='column1', y='column2', data=df_cleaned)\n",
    "# plt.title('Regression Plot')\n",
    "# plt.show()"
   ]
  },
  {
   "cell_type": "code",
   "execution_count": null,
   "metadata": {},
   "outputs": [],
   "source": [
    "# Things to visualize: \n",
    "# tradeoffs between nesting time and utilization\n",
    "# distribution of utilization \n",
    "# relationship between fStrategies and utilization\n",
    "# visualization of the frequency of different Strategies used\n",
    "# visualization of the frequency of different Materials used \n",
    "# distribution of Parts, number of Parts per job, number of Parts nested \n"
   ]
  },
  {
   "attachments": {},
   "cell_type": "markdown",
   "metadata": {},
   "source": [
    "### Correlation analysis"
   ]
  },
  {
   "cell_type": "code",
   "execution_count": null,
   "metadata": {},
   "outputs": [],
   "source": [
    "# Select the variable of interest\n",
    "# selected_var = 'dCropUtil'\n",
    "\n",
    "# # Compute the correlation coefficients between the selected variable and all other variables\n",
    "# corr_values = df.corr()[selected_var]\n",
    "\n",
    "# # Compute the correlation coefficients between all pairs of variables\n",
    "# corr_values = df.corr()\n",
    "\n",
    "# # Display the correlation coefficients\n",
    "# print(corr_values)"
   ]
  },
  {
   "cell_type": "code",
   "execution_count": null,
   "metadata": {},
   "outputs": [],
   "source": [
    "# # Display the correlation matrix as a heatmap for better visualization\n",
    "# sns.heatmap(correlation_matrix, annot=True, cmap='coolwarm')\n",
    "# plt.show()"
   ]
  },
  {
   "cell_type": "code",
   "execution_count": null,
   "metadata": {},
   "outputs": [],
   "source": [
    "# Plot a histogram of the selected variable\n",
    "# sns.histplot(data=df_no_outliers, x=selected_var, kde=True)\n",
    "# plt.title('Histogram of {}'.format(selected_var))\n",
    "# plt.xlabel(selected_var)\n",
    "# plt.ylabel('Frequency')\n",
    "# plt.show()\n",
    "\n",
    "# # Plot a boxplot of the selected variable\n",
    "# sns.boxplot(data=df_no_outliers, x=selected_var)\n",
    "# plt.title('Boxplot of {}'.format(selected_var))\n",
    "# plt.xlabel(selected_var)\n",
    "# plt.show()\n",
    "\n",
    "# # Compute the summary statistics of the selected variable\n",
    "# summary = df_no_outliers[selected_var].describe()\n",
    "# print(summary)"
   ]
  },
  {
   "cell_type": "code",
   "execution_count": null,
   "metadata": {},
   "outputs": [],
   "source": [
    "# remove highly correlated features\n",
    "# corr_matrix = df_cleaned.corr().abs()\n",
    "# upper_triangle = corr_matrix.where(np.triu(np.ones(corr_matrix.shape), k=1).astype(np.bool))\n",
    "# cols_to_drop = [column for column in upper_triangle.columns if any(upper_triangle[column] > correlation_threshold)]\n",
    "# df_cleaned.drop(cols_to_drop, axis=1, inplace=True)"
   ]
  },
  {
   "cell_type": "code",
   "execution_count": null,
   "metadata": {},
   "outputs": [],
   "source": []
  },
  {
   "attachments": {},
   "cell_type": "markdown",
   "metadata": {},
   "source": [
    "### Clustering"
   ]
  },
  {
   "cell_type": "code",
   "execution_count": null,
   "metadata": {},
   "outputs": [],
   "source": [
    "# from sklearn.cluster import KMeans\n",
    "\n",
    "# # Create a K-means clustering model with 3 clusters\n",
    "# kmeans = KMeans(n_clusters=3, random_state=0).fit(df)\n",
    "\n",
    "# # Get the cluster labels for each data point\n",
    "# labels = kmeans.labels_\n",
    "\n",
    "# # Add cluster labels to the original DataFrame\n",
    "# df['Cluster'] = labels"
   ]
  },
  {
   "cell_type": "code",
   "execution_count": null,
   "metadata": {},
   "outputs": [],
   "source": [
    "# with PyCaret\n",
    "# import pycaret clustering and init setup\n",
    "# see https://colab.research.google.com/github/pycaret/pycaret/blob/master/tutorials/Tutorial%20-%20Clustering.ipynb#scrollTo=4181de41\n",
    "from pycaret.clustering import *\n",
    "s = setup(data, session_id = 123)\n",
    "\n",
    "# import ClusteringExperiment and init the class\n",
    "from pycaret.clustering import ClusteringExperiment\n",
    "exp = ClusteringExperiment()\n",
    "\n",
    "# init setup on exp\n",
    "exp.setup(data, session_id = 123)\n",
    "\n",
    "# train kmeans model\n",
    "kmeans = create_model('kmeans')\n",
    "\n",
    "# to check all the available models\n",
    "models()\n",
    "\n",
    "# train meanshift model\n",
    "meanshift = create_model('meanshift')\n",
    "\n",
    "kmeans_cluster = assign_model(kmeans)\n",
    "kmeans_cluster\n",
    "\n",
    "# plot pca cluster plot \n",
    "plot_model(kmeans, plot = 'cluster')\n",
    "\n",
    "# plot elbow\n",
    "plot_model(kmeans, plot = 'elbow')\n",
    "\n",
    "# plot silhouette\n",
    "plot_model(kmeans, plot = 'silhouette')\n",
    "\n",
    "evaluate_model(kmeans)\n",
    "\n",
    "# predict on test set\n",
    "kmeans_pred = predict_model(kmeans, data=data)\n",
    "kmeans_pred"
   ]
  },
  {
   "attachments": {},
   "cell_type": "markdown",
   "metadata": {},
   "source": [
    "## Machine Learning"
   ]
  },
  {
   "attachments": {},
   "cell_type": "markdown",
   "metadata": {},
   "source": [
    "### Model exploration with PyCaret\n",
    "\n",
    "Try PyCaret to start \n",
    "https://github.com/pycaret/pycaret/blob/master/tutorials/Tutorial%20-%20Regression.ipynb"
   ]
  },
  {
   "cell_type": "code",
   "execution_count": null,
   "metadata": {},
   "outputs": [],
   "source": [
    "data = training_df\n",
    "\n",
    "# import pycaret regression and init setup\n",
    "from pycaret.regression import *\n",
    "s = setup(data, target = 'charges', session_id = 123)\n",
    "\n",
    "# import RegressionExperiment and init the class\n",
    "from pycaret.regression import RegressionExperiment\n",
    "exp = RegressionExperiment()\n",
    "\n",
    "# init setup on exp\n",
    "exp.setup(data, target = 'charges', session_id = 123)\n",
    "\n",
    "# compare baseline models\n",
    "best = compare_models()\n",
    "\n",
    "# compare models using OOP\n",
    "# exp.compare_models()"
   ]
  },
  {
   "cell_type": "code",
   "execution_count": null,
   "metadata": {},
   "outputs": [],
   "source": [
    "# evaluate the models and interpret \n",
    "# plot residuals\n",
    "plot_model(best, plot = 'residuals')\n",
    "\n",
    "# plot error\n",
    "plot_model(best, plot = 'error')\n",
    "\n",
    "# plot feature importance\n",
    "plot_model(best, plot = 'feature')\n",
    "\n",
    "evaluate_model(best)\n",
    "\n",
    "# train lightgbm model\n",
    "lightgbm = create_model('lightgbm')\n",
    "\n",
    "# interpret summary model\n",
    "interpret_model(lightgbm, plot = 'summary')"
   ]
  },
  {
   "cell_type": "code",
   "execution_count": null,
   "metadata": {},
   "outputs": [],
   "source": [
    "# predict on test set\n",
    "holdout_pred = predict_model(best)\n",
    "\n",
    "# show predictions df\n",
    "holdout_pred.head()\n",
    "\n",
    "# copy data and drop charges\n",
    "new_data = data.copy()\n",
    "new_data.drop('charges', axis=1, inplace=True)\n",
    "new_data.head()\n",
    "\n",
    "# predict model on new_data\n",
    "predictions = predict_model(best, data = new_data)\n",
    "predictions.head()\n",
    "\n",
    "\n",
    "# save pipeline\n",
    "save_model(best, 'my_first_pipeline')\n",
    "\n",
    "# load pipeline\n",
    "loaded_best_pipeline = load_model('my_first_pipeline')\n",
    "loaded_best_pipeline"
   ]
  },
  {
   "cell_type": "code",
   "execution_count": null,
   "metadata": {},
   "outputs": [],
   "source": [
    "# ensembling \n",
    "\n",
    "# train a dt model with default params\n",
    "dt = create_model('dt')\n",
    "\n",
    "# tune hyperparameters of dt\n",
    "tuned_dt = tune_model(dt)\n",
    "\n",
    "# define tuning grid\n",
    "dt_grid = {'max_depth' : [None, 2, 4, 6, 8, 10, 12]}\n",
    "\n",
    "# tune model with custom grid and metric = MAE\n",
    "tuned_dt = tune_model(dt, custom_grid = dt_grid, optimize = 'MAE')\n",
    "\n",
    "# tune dt using optuna\n",
    "tuned_dt = tune_model(dt, search_library = 'optuna')\n",
    "\n",
    "# ensemble with bagging\n",
    "ensemble_model(dt, method = 'Bagging')\n",
    "\n",
    "# ensemble with boosting\n",
    "ensemble_model(dt, method = 'Boosting')"
   ]
  },
  {
   "cell_type": "code",
   "execution_count": null,
   "metadata": {},
   "outputs": [],
   "source": [
    "# # top 3 models based on mae\n",
    "best_mae_models_top3 = compare_models(n_select = 3, sort = 'MAE')\n",
    "\n",
    "# blending models \n",
    "blend_models(best_mae_models_top3)"
   ]
  },
  {
   "cell_type": "code",
   "execution_count": null,
   "metadata": {},
   "outputs": [],
   "source": [
    "# find best model based on CV metrics\n",
    "# returns the best model out of all trained models in the current setup based on the optimize parameter\n",
    "automl() "
   ]
  },
  {
   "cell_type": "code",
   "execution_count": null,
   "metadata": {},
   "outputs": [],
   "source": [
    "# dashboard function\n",
    "dashboard(dt, display_format ='inline')"
   ]
  },
  {
   "cell_type": "code",
   "execution_count": null,
   "metadata": {},
   "outputs": [],
   "source": [
    "# finalize the model \n",
    "final_best = finalize_model(best)\n",
    "\n",
    "# save model\n",
    "# save_model(best, 'my_first_model')\n",
    "\n",
    "\n",
    "# load model\n",
    "# loaded_from_disk = load_model('my_first_model')\n",
    "# loaded_from_disk\n",
    "\n"
   ]
  },
  {
   "attachments": {},
   "cell_type": "markdown",
   "metadata": {},
   "source": [
    "### Basic models to try \n",
    "* Linear Regression - Use sci-kit learn to implement\n",
    "* Logistic Regression\n",
    "* Support Vector Machines\n",
    "* Basic decision trees\n",
    "* Naive Bayes\n",
    "\n",
    "### XGBoost \n",
    "Tree ensemble model that can handle tabular, numerical, low-dimensional data very well. Fast and scalable, and can be hyperparameter tuned to optimize performance.\n",
    "\n",
    "### ResNet-like architecture\n",
    "Neural network architecture adapted for tabular data, allowing learning from shallow and deep features. Use PyTorch or TensorFlow to implement. Less interpretable. \n",
    "\n",
    "### Transformer \n",
    "Use Transformers with tabular data? \n",
    "\n",
    "### KNN - K Nearest Neighbors\n",
    "Predicts the target variable based on the similarity of the features with the nearest neighbors in the training dataset. Computationally expensive, but can be used for regression and classification."
   ]
  },
  {
   "attachments": {},
   "cell_type": "markdown",
   "metadata": {},
   "source": [
    "### Model Evaluation\n",
    "* Cross-validation\n",
    "* Classification Accuracy\n",
    "* Confusion Matrix\n",
    "* ROC-AUC Curve\n",
    "  "
   ]
  },
  {
   "attachments": {},
   "cell_type": "markdown",
   "metadata": {},
   "source": [
    "### Model Fine-tuning\n",
    "* Hyperparameter tuning\n",
    "* Ensembling multiple models together - voting classifier, bagging, boosting, XGBoost "
   ]
  },
  {
   "cell_type": "code",
   "execution_count": null,
   "metadata": {},
   "outputs": [],
   "source": []
  },
  {
   "attachments": {},
   "cell_type": "markdown",
   "metadata": {},
   "source": [
    "### Feature Importance"
   ]
  },
  {
   "attachments": {},
   "cell_type": "markdown",
   "metadata": {},
   "source": [
    "**Univariate Feature Selection:** This method uses statistical tests like chi-squared tests or ANOVA to evaluate the relationship between each feature and the target variable independently. It ranks the features based on their significance."
   ]
  },
  {
   "cell_type": "code",
   "execution_count": 13,
   "metadata": {},
   "outputs": [],
   "source": [
    "# from sklearn.feature_selection import SelectKBest, chi2, f_classif\n",
    "\n",
    "# # For categorical target using Chi-squared test\n",
    "# selector = SelectKBest(score_func=chi2, k=5)\n",
    "# selector.fit_transform(X, y)\n",
    "\n",
    "# # For continuous target using ANOVA F-value\n",
    "# selector = SelectKBest(score_func=f_classif, k=5)\n",
    "# selector.fit_transform(X, y)\n",
    "\n",
    "# # Get feature importances\n",
    "# scores = selector.scores_\n",
    "# feature_importances = pd.DataFrame({'feature': X.columns, 'importance': scores})\n",
    "# feature_importances = feature_importances.sort_values('importance', ascending=False)\n",
    "# print(feature_importances)"
   ]
  },
  {
   "cell_type": "code",
   "execution_count": null,
   "metadata": {},
   "outputs": [],
   "source": [
    "# other statistical testing \n",
    "# import scipy.stats as stats\n",
    "\n",
    "# # Perform a t-test to compare the means of two groups\n",
    "# t_stat, p_value = stats.ttest_ind(group1, group2)\n",
    "# print(\"T-statistic:\", t_stat, \"P-value:\", p_value)\n",
    "\n",
    "# # Perform a chi-squared test to determine the association between two categorical variables\n",
    "# chi_stat, p_value, dof, ex = stats.chi2_contingency(contingency_table)\n",
    "# print(\"Chi-squared statistic:\", chi_stat, \"P-value:\", p_value)"
   ]
  }
 ],
 "metadata": {
  "kernelspec": {
   "display_name": "base",
   "language": "python",
   "name": "python3"
  },
  "language_info": {
   "codemirror_mode": {
    "name": "ipython",
    "version": 3
   },
   "file_extension": ".py",
   "mimetype": "text/x-python",
   "name": "python",
   "nbconvert_exporter": "python",
   "pygments_lexer": "ipython3",
   "version": "3.9.12"
  },
  "orig_nbformat": 4
 },
 "nbformat": 4,
 "nbformat_minor": 2
}
