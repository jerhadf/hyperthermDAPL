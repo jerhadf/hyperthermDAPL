{
 "cells": [
  {
   "attachments": {},
   "cell_type": "markdown",
   "metadata": {},
   "source": [
    "# Main Analysis File\n",
    "This file contains the main data analysis code for the project. It is divided into 3 main parts:\n",
    "1. Data Cleaning\n",
    "2. Exploratory Data Analysis\n",
    "3. Machine Learning"
   ]
  },
  {
   "cell_type": "code",
   "execution_count": 5,
   "metadata": {},
   "outputs": [],
   "source": [
    "# imports\n",
    "import pandas as pd\n",
    "import matplotlib.pyplot as plt\n",
    "import seaborn as sns\n",
    "import os"
   ]
  },
  {
   "attachments": {},
   "cell_type": "markdown",
   "metadata": {},
   "source": [
    "## Data Cleaning"
   ]
  },
  {
   "cell_type": "code",
   "execution_count": 6,
   "metadata": {},
   "outputs": [],
   "source": [
    "# filepaths of all of the csv data files to be analyzed\n",
    "autonest_csv = \"CEIP_csv/AutoNest.csv\"\n",
    "autonest_strategy_csv = \"CEIP_csv/AutoNestStrategy.csv\"\n",
    "material_csv = \"CEIP_csv/Material.csv\"\n",
    "nest_csv = \"CEIP_csv/Nest.csv\"\n",
    "part_csv = \"CEIP_csv/Part.csv\"\n",
    "performance_csv = \"CEIP_csv/Performance.csv\"\n",
    "\n",
    "# read in all of these csv files as pandas dataframes\n",
    "# autonest_df = pd.read_csv(autonest_csv)\n",
    "# autonest_strategy_df = pd.read_csv(autonest_strategy_csv)\n",
    "# material_df = pd.read_csv(material_csv)\n",
    "# nest_df = pd.read_csv(nest_csv)\n",
    "# part_df = pd.read_csv(part_csv)\n",
    "# performance_df = pd.read_csv(performance_csv)\n",
    "\n",
    "# change the working directory to the root directory of this project\n",
    "os.chdir(\"..\")\n",
    "\n",
    "# read in the most relevant .csv \n",
    "part_df = pd.read_csv(part_csv)\n"
   ]
  },
  {
   "cell_type": "code",
   "execution_count": 7,
   "metadata": {},
   "outputs": [
    {
     "name": "stdout",
     "output_type": "stream",
     "text": [
      "30970284\n",
      "   ixPart  ixJobSummary  dLength   dWidth      dArea  cRequired  cNested  \\\n",
      "0       1             2  34.2210  34.0000  1126.3525          1        1   \n",
      "1       2             2  12.6457  12.6457   119.0266          1        1   \n",
      "2       3             2  24.6766  11.8546    95.4638          1        1   \n",
      "3       4             3  31.2500  22.5000   600.0000          1        1   \n",
      "4       5             4  34.2210  34.0000  1126.3525          1        1   \n",
      "\n",
      "   ixMaterial  fExtShape   dExtArea  dExtBoundaryDist  dExtContainedDist  \\\n",
      "0           2          0  1148.0000           16.2732            45.7153   \n",
      "1           2          0   119.0266            4.9484            13.0959   \n",
      "2           2          0    99.7099            2.8510            17.7563   \n",
      "3           2          5   600.0000            9.6000            30.3000   \n",
      "4           2          0  1148.0000           16.2732            45.7153   \n",
      "\n",
      "   dLgIntArea  dLgIntBoundaryDist  dLgIntContainedDist  dLgExtConArea  \\\n",
      "0      5.4119               0.701               1.6023         0.0000   \n",
      "1      0.0000               0.000               0.0000         1.0360   \n",
      "2      1.4849               0.100               0.3001         0.0689   \n",
      "3      0.0000               0.000               0.0000         0.0000   \n",
      "4      5.4119               0.701               1.6023         0.0000   \n",
      "\n",
      "   dLgExtConBoundaryDist  dLgExtConContainedDist  \n",
      "0                 0.0000                  0.0000  \n",
      "1                 0.7498                  2.2993  \n",
      "2                 0.3001                  6.3523  \n",
      "3                 0.0000                  0.0000  \n",
      "4                 0.0000                  0.0000  \n"
     ]
    },
    {
     "ename": "KeyboardInterrupt",
     "evalue": "",
     "output_type": "error",
     "traceback": [
      "\u001b[0;31m---------------------------------------------------------------------------\u001b[0m",
      "\u001b[0;31mKeyboardInterrupt\u001b[0m                         Traceback (most recent call last)",
      "\u001b[1;32m/Users/jerhadf/Desktop/coding/hyperthermDAPL/analysis/analysis.ipynb Cell 5\u001b[0m in \u001b[0;36m<cell line: 8>\u001b[0;34m()\u001b[0m\n\u001b[1;32m      <a href='vscode-notebook-cell:/Users/jerhadf/Desktop/coding/hyperthermDAPL/analysis/analysis.ipynb#X12sZmlsZQ%3D%3D?line=4'>5</a>\u001b[0m \u001b[39mprint\u001b[39m(part_df\u001b[39m.\u001b[39mhead())\n\u001b[1;32m      <a href='vscode-notebook-cell:/Users/jerhadf/Desktop/coding/hyperthermDAPL/analysis/analysis.ipynb#X12sZmlsZQ%3D%3D?line=6'>7</a>\u001b[0m \u001b[39m# print summary statistics about the part_df \u001b[39;00m\n\u001b[0;32m----> <a href='vscode-notebook-cell:/Users/jerhadf/Desktop/coding/hyperthermDAPL/analysis/analysis.ipynb#X12sZmlsZQ%3D%3D?line=7'>8</a>\u001b[0m \u001b[39mprint\u001b[39m(part_df\u001b[39m.\u001b[39;49mdescribe())\n",
      "File \u001b[0;32m~/opt/anaconda3/lib/python3.9/site-packages/pandas/core/generic.py:10024\u001b[0m, in \u001b[0;36mNDFrame.describe\u001b[0;34m(self, percentiles, include, exclude, datetime_is_numeric)\u001b[0m\n\u001b[1;32m   9775\u001b[0m \u001b[39m@final\u001b[39m\n\u001b[1;32m   9776\u001b[0m \u001b[39mdef\u001b[39;00m \u001b[39mdescribe\u001b[39m(\n\u001b[1;32m   9777\u001b[0m     \u001b[39mself\u001b[39m: FrameOrSeries,\n\u001b[0;32m   (...)\u001b[0m\n\u001b[1;32m   9781\u001b[0m     datetime_is_numeric\u001b[39m=\u001b[39m\u001b[39mFalse\u001b[39;00m,\n\u001b[1;32m   9782\u001b[0m ) \u001b[39m-\u001b[39m\u001b[39m>\u001b[39m FrameOrSeries:\n\u001b[1;32m   9783\u001b[0m     \u001b[39m\"\"\"\u001b[39;00m\n\u001b[1;32m   9784\u001b[0m \u001b[39m    Generate descriptive statistics.\u001b[39;00m\n\u001b[1;32m   9785\u001b[0m \n\u001b[0;32m   (...)\u001b[0m\n\u001b[1;32m  10022\u001b[0m \u001b[39m    max            NaN      3.0\u001b[39;00m\n\u001b[1;32m  10023\u001b[0m \u001b[39m    \"\"\"\u001b[39;00m\n\u001b[0;32m> 10024\u001b[0m     \u001b[39mreturn\u001b[39;00m describe_ndframe(\n\u001b[1;32m  10025\u001b[0m         obj\u001b[39m=\u001b[39;49m\u001b[39mself\u001b[39;49m,\n\u001b[1;32m  10026\u001b[0m         include\u001b[39m=\u001b[39;49minclude,\n\u001b[1;32m  10027\u001b[0m         exclude\u001b[39m=\u001b[39;49mexclude,\n\u001b[1;32m  10028\u001b[0m         datetime_is_numeric\u001b[39m=\u001b[39;49mdatetime_is_numeric,\n\u001b[1;32m  10029\u001b[0m         percentiles\u001b[39m=\u001b[39;49mpercentiles,\n\u001b[1;32m  10030\u001b[0m     )\n",
      "File \u001b[0;32m~/opt/anaconda3/lib/python3.9/site-packages/pandas/core/describe.py:95\u001b[0m, in \u001b[0;36mdescribe_ndframe\u001b[0;34m(obj, include, exclude, datetime_is_numeric, percentiles)\u001b[0m\n\u001b[1;32m     87\u001b[0m \u001b[39melse\u001b[39;00m:\n\u001b[1;32m     88\u001b[0m     describer \u001b[39m=\u001b[39m DataFrameDescriber(\n\u001b[1;32m     89\u001b[0m         obj\u001b[39m=\u001b[39mcast(\u001b[39m\"\u001b[39m\u001b[39mDataFrame\u001b[39m\u001b[39m\"\u001b[39m, obj),\n\u001b[1;32m     90\u001b[0m         include\u001b[39m=\u001b[39minclude,\n\u001b[1;32m     91\u001b[0m         exclude\u001b[39m=\u001b[39mexclude,\n\u001b[1;32m     92\u001b[0m         datetime_is_numeric\u001b[39m=\u001b[39mdatetime_is_numeric,\n\u001b[1;32m     93\u001b[0m     )\n\u001b[0;32m---> 95\u001b[0m result \u001b[39m=\u001b[39m describer\u001b[39m.\u001b[39;49mdescribe(percentiles\u001b[39m=\u001b[39;49mpercentiles)\n\u001b[1;32m     96\u001b[0m \u001b[39mreturn\u001b[39;00m cast(FrameOrSeries, result)\n",
      "File \u001b[0;32m~/opt/anaconda3/lib/python3.9/site-packages/pandas/core/describe.py:175\u001b[0m, in \u001b[0;36mDataFrameDescriber.describe\u001b[0;34m(self, percentiles)\u001b[0m\n\u001b[1;32m    173\u001b[0m \u001b[39mfor\u001b[39;00m _, series \u001b[39min\u001b[39;00m data\u001b[39m.\u001b[39mitems():\n\u001b[1;32m    174\u001b[0m     describe_func \u001b[39m=\u001b[39m select_describe_func(series, \u001b[39mself\u001b[39m\u001b[39m.\u001b[39mdatetime_is_numeric)\n\u001b[0;32m--> 175\u001b[0m     ldesc\u001b[39m.\u001b[39mappend(describe_func(series, percentiles))\n\u001b[1;32m    177\u001b[0m col_names \u001b[39m=\u001b[39m reorder_columns(ldesc)\n\u001b[1;32m    178\u001b[0m d \u001b[39m=\u001b[39m concat(\n\u001b[1;32m    179\u001b[0m     [x\u001b[39m.\u001b[39mreindex(col_names, copy\u001b[39m=\u001b[39m\u001b[39mFalse\u001b[39;00m) \u001b[39mfor\u001b[39;00m x \u001b[39min\u001b[39;00m ldesc],\n\u001b[1;32m    180\u001b[0m     axis\u001b[39m=\u001b[39m\u001b[39m1\u001b[39m,\n\u001b[1;32m    181\u001b[0m     sort\u001b[39m=\u001b[39m\u001b[39mFalse\u001b[39;00m,\n\u001b[1;32m    182\u001b[0m )\n",
      "File \u001b[0;32m~/opt/anaconda3/lib/python3.9/site-packages/pandas/core/describe.py:241\u001b[0m, in \u001b[0;36mdescribe_numeric_1d\u001b[0;34m(series, percentiles)\u001b[0m\n\u001b[1;32m    237\u001b[0m formatted_percentiles \u001b[39m=\u001b[39m format_percentiles(percentiles)  \u001b[39m# type: ignore[arg-type]\u001b[39;00m\n\u001b[1;32m    239\u001b[0m stat_index \u001b[39m=\u001b[39m [\u001b[39m\"\u001b[39m\u001b[39mcount\u001b[39m\u001b[39m\"\u001b[39m, \u001b[39m\"\u001b[39m\u001b[39mmean\u001b[39m\u001b[39m\"\u001b[39m, \u001b[39m\"\u001b[39m\u001b[39mstd\u001b[39m\u001b[39m\"\u001b[39m, \u001b[39m\"\u001b[39m\u001b[39mmin\u001b[39m\u001b[39m\"\u001b[39m] \u001b[39m+\u001b[39m formatted_percentiles \u001b[39m+\u001b[39m [\u001b[39m\"\u001b[39m\u001b[39mmax\u001b[39m\u001b[39m\"\u001b[39m]\n\u001b[1;32m    240\u001b[0m d \u001b[39m=\u001b[39m (\n\u001b[0;32m--> 241\u001b[0m     [series\u001b[39m.\u001b[39;49mcount(), series\u001b[39m.\u001b[39mmean(), series\u001b[39m.\u001b[39mstd(), series\u001b[39m.\u001b[39mmin()]\n\u001b[1;32m    242\u001b[0m     \u001b[39m+\u001b[39m series\u001b[39m.\u001b[39mquantile(percentiles)\u001b[39m.\u001b[39mtolist()\n\u001b[1;32m    243\u001b[0m     \u001b[39m+\u001b[39m [series\u001b[39m.\u001b[39mmax()]\n\u001b[1;32m    244\u001b[0m )\n\u001b[1;32m    245\u001b[0m \u001b[39mreturn\u001b[39;00m Series(d, index\u001b[39m=\u001b[39mstat_index, name\u001b[39m=\u001b[39mseries\u001b[39m.\u001b[39mname)\n",
      "File \u001b[0;32m~/opt/anaconda3/lib/python3.9/site-packages/pandas/core/series.py:1928\u001b[0m, in \u001b[0;36mSeries.count\u001b[0;34m(self, level)\u001b[0m\n\u001b[1;32m   1903\u001b[0m \u001b[39m\"\"\"\u001b[39;00m\n\u001b[1;32m   1904\u001b[0m \u001b[39mReturn number of non-NA/null observations in the Series.\u001b[39;00m\n\u001b[1;32m   1905\u001b[0m \n\u001b[0;32m   (...)\u001b[0m\n\u001b[1;32m   1925\u001b[0m \u001b[39m2\u001b[39;00m\n\u001b[1;32m   1926\u001b[0m \u001b[39m\"\"\"\u001b[39;00m\n\u001b[1;32m   1927\u001b[0m \u001b[39mif\u001b[39;00m level \u001b[39mis\u001b[39;00m \u001b[39mNone\u001b[39;00m:\n\u001b[0;32m-> 1928\u001b[0m     \u001b[39mreturn\u001b[39;00m notna(\u001b[39mself\u001b[39;49m\u001b[39m.\u001b[39;49m_values)\u001b[39m.\u001b[39msum()\u001b[39m.\u001b[39mastype(\u001b[39m\"\u001b[39m\u001b[39mint64\u001b[39m\u001b[39m\"\u001b[39m)\n\u001b[1;32m   1929\u001b[0m \u001b[39melse\u001b[39;00m:\n\u001b[1;32m   1930\u001b[0m     warnings\u001b[39m.\u001b[39mwarn(\n\u001b[1;32m   1931\u001b[0m         \u001b[39m\"\u001b[39m\u001b[39mUsing the level keyword in DataFrame and Series aggregations is \u001b[39m\u001b[39m\"\u001b[39m\n\u001b[1;32m   1932\u001b[0m         \u001b[39m\"\u001b[39m\u001b[39mdeprecated and will be removed in a future version. Use groupby \u001b[39m\u001b[39m\"\u001b[39m\n\u001b[0;32m   (...)\u001b[0m\n\u001b[1;32m   1935\u001b[0m         stacklevel\u001b[39m=\u001b[39m\u001b[39m2\u001b[39m,\n\u001b[1;32m   1936\u001b[0m     )\n",
      "File \u001b[0;32m~/opt/anaconda3/lib/python3.9/site-packages/pandas/core/dtypes/missing.py:355\u001b[0m, in \u001b[0;36mnotna\u001b[0;34m(obj)\u001b[0m\n\u001b[1;32m    278\u001b[0m \u001b[39mdef\u001b[39;00m \u001b[39mnotna\u001b[39m(obj):\n\u001b[1;32m    279\u001b[0m     \u001b[39m\"\"\"\u001b[39;00m\n\u001b[1;32m    280\u001b[0m \u001b[39m    Detect non-missing values for an array-like object.\u001b[39;00m\n\u001b[1;32m    281\u001b[0m \n\u001b[0;32m   (...)\u001b[0m\n\u001b[1;32m    353\u001b[0m \u001b[39m    Name: 1, dtype: bool\u001b[39;00m\n\u001b[1;32m    354\u001b[0m \u001b[39m    \"\"\"\u001b[39;00m\n\u001b[0;32m--> 355\u001b[0m     res \u001b[39m=\u001b[39m isna(obj)\n\u001b[1;32m    356\u001b[0m     \u001b[39mif\u001b[39;00m is_scalar(res):\n\u001b[1;32m    357\u001b[0m         \u001b[39mreturn\u001b[39;00m \u001b[39mnot\u001b[39;00m res\n",
      "File \u001b[0;32m~/opt/anaconda3/lib/python3.9/site-packages/pandas/core/dtypes/missing.py:138\u001b[0m, in \u001b[0;36misna\u001b[0;34m(obj)\u001b[0m\n\u001b[1;32m     61\u001b[0m \u001b[39mdef\u001b[39;00m \u001b[39misna\u001b[39m(obj):\n\u001b[1;32m     62\u001b[0m     \u001b[39m\"\"\"\u001b[39;00m\n\u001b[1;32m     63\u001b[0m \u001b[39m    Detect missing values for an array-like object.\u001b[39;00m\n\u001b[1;32m     64\u001b[0m \n\u001b[0;32m   (...)\u001b[0m\n\u001b[1;32m    136\u001b[0m \u001b[39m    Name: 1, dtype: bool\u001b[39;00m\n\u001b[1;32m    137\u001b[0m \u001b[39m    \"\"\"\u001b[39;00m\n\u001b[0;32m--> 138\u001b[0m     \u001b[39mreturn\u001b[39;00m _isna(obj)\n",
      "File \u001b[0;32m~/opt/anaconda3/lib/python3.9/site-packages/pandas/core/dtypes/missing.py:171\u001b[0m, in \u001b[0;36m_isna\u001b[0;34m(obj, inf_as_na)\u001b[0m\n\u001b[1;32m    169\u001b[0m     \u001b[39mreturn\u001b[39;00m \u001b[39mFalse\u001b[39;00m\n\u001b[1;32m    170\u001b[0m \u001b[39melif\u001b[39;00m \u001b[39misinstance\u001b[39m(obj, (np\u001b[39m.\u001b[39mndarray, ABCExtensionArray)):\n\u001b[0;32m--> 171\u001b[0m     \u001b[39mreturn\u001b[39;00m _isna_array(obj, inf_as_na\u001b[39m=\u001b[39;49minf_as_na)\n\u001b[1;32m    172\u001b[0m \u001b[39melif\u001b[39;00m \u001b[39misinstance\u001b[39m(obj, (ABCSeries, ABCIndex)):\n\u001b[1;32m    173\u001b[0m     result \u001b[39m=\u001b[39m _isna_array(obj\u001b[39m.\u001b[39m_values, inf_as_na\u001b[39m=\u001b[39minf_as_na)\n",
      "File \u001b[0;32m~/opt/anaconda3/lib/python3.9/site-packages/pandas/core/dtypes/missing.py:254\u001b[0m, in \u001b[0;36m_isna_array\u001b[0;34m(values, inf_as_na)\u001b[0m\n\u001b[1;32m    252\u001b[0m         result \u001b[39m=\u001b[39m \u001b[39m~\u001b[39mnp\u001b[39m.\u001b[39misfinite(values)\n\u001b[1;32m    253\u001b[0m     \u001b[39melse\u001b[39;00m:\n\u001b[0;32m--> 254\u001b[0m         result \u001b[39m=\u001b[39m np\u001b[39m.\u001b[39;49misnan(values)\n\u001b[1;32m    256\u001b[0m \u001b[39mreturn\u001b[39;00m result\n",
      "\u001b[0;31mKeyboardInterrupt\u001b[0m: "
     ]
    }
   ],
   "source": [
    "# count the number of rows in the part_df\n",
    "part_df.shape[0] - # 30970284 - about 30 million rows \n",
    "\n",
    "# show the first 5 rows of the part_df\n",
    "print(part_df.head())\n",
    "\n",
    "# print summary statistics about the part_df \n",
    "print(part_df.describe())"
   ]
  },
  {
   "attachments": {},
   "cell_type": "markdown",
   "metadata": {},
   "source": [
    "## Exploratory Data Analysis"
   ]
  },
  {
   "cell_type": "code",
   "execution_count": null,
   "metadata": {},
   "outputs": [],
   "source": []
  },
  {
   "attachments": {},
   "cell_type": "markdown",
   "metadata": {},
   "source": [
    "## Machine Learning"
   ]
  },
  {
   "cell_type": "code",
   "execution_count": null,
   "metadata": {},
   "outputs": [],
   "source": []
  }
 ],
 "metadata": {
  "kernelspec": {
   "display_name": "base",
   "language": "python",
   "name": "python3"
  },
  "language_info": {
   "codemirror_mode": {
    "name": "ipython",
    "version": 3
   },
   "file_extension": ".py",
   "mimetype": "text/x-python",
   "name": "python",
   "nbconvert_exporter": "python",
   "pygments_lexer": "ipython3",
   "version": "3.9.12"
  },
  "orig_nbformat": 4
 },
 "nbformat": 4,
 "nbformat_minor": 2
}
