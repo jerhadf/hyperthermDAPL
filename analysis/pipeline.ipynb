{
 "cells": [
  {
   "cell_type": "code",
   "execution_count": null,
   "metadata": {},
   "outputs": [],
   "source": [
    "# imports\n",
    "import pandas as pd\n",
    "from sklearn.pipeline import Pipeline\n",
    "from sklearn.base import BaseEstimator, TransformerMixin\n",
    "from sklearn.preprocessing import OneHotEncoder\n",
    "import json"
   ]
  },
  {
   "cell_type": "code",
   "execution_count": null,
   "metadata": {},
   "outputs": [],
   "source": [
    "# read in the data\n",
    "training_csv = \"../CEIP_csv/training_data.csv\"\n",
    "training_df = pd.read_csv(training_csv) # takes about 1 min to read "
   ]
  },
  {
   "cell_type": "code",
   "execution_count": null,
   "metadata": {},
   "outputs": [],
   "source": [
    "# Custom Transformer that removes duplicates\n",
    "class RemoveDuplicatesTransformer(BaseEstimator, TransformerMixin):\n",
    "    def __init__(self):\n",
    "        pass\n",
    "\n",
    "    def fit(self, X, y=None):\n",
    "        return self\n",
    "\n",
    "    def transform(self, X, y=None):\n",
    "        return X.drop_duplicates()\n",
    "\n",
    "# Custom Transformer that converts ixMaterial to Material\n",
    "class ConvertMaterialTransformer(BaseEstimator, TransformerMixin):\n",
    "    def __init__(self):\n",
    "        pass\n",
    "\n",
    "    def fit(self, X, y=None):\n",
    "        # Load the JSON file\n",
    "        material_types_df = pd.read_json('../CEIP_csv/MaterialTypes.json')\n",
    "        # Create a dictionary of the material types and their corresponding values \n",
    "        self.material_dict = material_types_df.to_dict()\n",
    "        # Make a new dictionary where the keys are the same but the values are the sNames\n",
    "        self.sName_dict = {k: v['sName'] for k, v in self.material_dict.items()}\n",
    "        return self\n",
    "\n",
    "    def transform(self, X, y=None):\n",
    "        X['ixMaterial'] = X['ixMaterial'].map(self.sName_dict)\n",
    "        X = X.rename(columns={'ixMaterial': 'Material'})\n",
    "        return X\n",
    "\n",
    "# Custom Transformer that filters 'ms' from Material and drops Material column\n",
    "class FilterAndDropMaterialTransformer(BaseEstimator, TransformerMixin):\n",
    "    def __init__(self):\n",
    "        pass\n",
    "\n",
    "    def fit(self, X, y=None):\n",
    "        return self\n",
    "\n",
    "    def transform(self, X, y=None):\n",
    "        X = X.dropna(subset=['Material'])\n",
    "        X = X[X['Material'] == 'ms']\n",
    "        X = X.drop(columns=['Material'])\n",
    "        return X\n",
    "\n",
    "# Custom Transformer that converts ixAutoNestStrategy\n",
    "class ConvertAutoNestStrategyTransformer(BaseEstimator, TransformerMixin):\n",
    "    def __init__(self):\n",
    "        pass\n",
    "\n",
    "    def fit(self, X, y=None):\n",
    "        # Load the dictionary from the JSON file\n",
    "        with open('../CEIP_csv/AutoNestStrategy.json', 'r') as f:\n",
    "            self.autoneststrategy_dict = json.load(f)\n",
    "        return self\n",
    "\n",
    "    def transform(self, X, y=None):\n",
    "        X['ixAutoNestStrategy'] = X['ixAutoNestStrategy'].astype(str)\n",
    "        X['ixAutoNestStrategy'] = X['ixAutoNestStrategy'].map(self.autoneststrategy_dict)\n",
    "        return X\n",
    "\n",
    "# Custom Transformer that one-hot encodes ixAutoNestStrategy\n",
    "class OneHotEncodeAutoNestStrategyTransformer(BaseEstimator, TransformerMixin):\n",
    "    def __init__(self):\n",
    "        self.one_hot = OneHotEncoder(drop='first')\n",
    "\n",
    "    def fit(self, X, y=None):\n",
    "        self.one_hot.fit(X[['ixAutoNestStrategy']])\n",
    "        return self\n",
    "\n",
    "    def transform(self, X, y=None):\n",
    "        one_hot_result = self.one_hot.transform(X[['ixAutoNestStrategy']]).toarray()\n",
    "        one_hot_df = pd.DataFrame(one_hot_result, columns=self.one_hot.get_feature_names(['']))\n",
    "        X = pd.concat([X, one_hot_df], axis=1)\n",
    "        X = X.drop(columns=['ixAutoNestStrategy'])\n",
    "        return X"
   ]
  },
  {
   "cell_type": "code",
   "execution_count": null,
   "metadata": {},
   "outputs": [],
   "source": [
    "# Putting all together\n",
    "preprocessing_pipeline = Pipeline(steps=[\n",
    "    ('remove_duplicates', RemoveDuplicatesTransformer()),\n",
    "    ('convert_material', ConvertMaterialTransformer()),\n",
    "    ('filter_and_drop_material', FilterAndDropMaterialTransformer()),\n",
    "    ('convert_autoneststrategy', ConvertAutoNestStrategyTransformer()),\n",
    "    ('one_hot_encode_autoneststrategy', OneHotEncodeAutoNestStrategyTransformer())\n",
    "])"
   ]
  },
  {
   "cell_type": "code",
   "execution_count": null,
   "metadata": {},
   "outputs": [],
   "source": [
    "# this is how to fit and transform the training data\n",
    "preprocessed_df = preprocessing_pipeline.fit_transform(training_df)"
   ]
  }
 ],
 "metadata": {
  "language_info": {
   "name": "python"
  },
  "orig_nbformat": 4
 },
 "nbformat": 4,
 "nbformat_minor": 2
}
